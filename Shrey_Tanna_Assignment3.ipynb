{
  "cells": [
    {
      "cell_type": "code",
      "execution_count": null,
      "metadata": {},
      "outputs": [],
      "source": []
    },
    {
      "cell_type": "markdown",
      "metadata": {
        "id": "EyQjfJ_TWaGt"
      },
      "source": [
        "# Assignment 3: Build a seq2seq model for machine translation.\n",
        "\n",
        "### Name: Shrey Tanna\n",
        "\n",
        "### Task: Change LSTM model to Bidirectional LSTM Model and Translate English to Spanish\n",
        "\n",
        "### Due Date: Wednesday, April 19th, 11:59PM"
      ]
    },
    {
      "cell_type": "markdown",
      "metadata": {
        "id": "bz40p4OkWaGu"
      },
      "source": [
        "## 0. You will do the following:\n",
        "\n",
        "1. Read and run the code. Please make sure you have installed keras or tensorflow.Running the script on colab will speed up the training process and also prevent package loading issue. \n",
        "2. Complete the code in Section 1.1, you may fill in your data directory.\n",
        "3. Directly modify the code in Section 3. Change the current LSTM layer to a Bidirectional LSTM Model.\n",
        "4. Training your model and translate English to Spanish in Section 4.2. You could try translating other languages.\n",
        "5. Complete the code in Section 5."
      ]
    },
    {
      "cell_type": "markdown",
      "metadata": {
        "id": "N1V-NneYWaGu"
      },
      "source": [
        "### Hint: \n",
        "\n",
        "To implement ```Bi-LSTM```, you will need the following code to build the encoder **in Section 3**. Do NOT use Bi-LSTM for the decoder. But there are other codes **you need to modify** to make it work."
      ]
    },
    {
      "cell_type": "code",
      "execution_count": 1,
      "metadata": {
        "id": "D8UoQBmaWaGv"
      },
      "outputs": [],
      "source": [
        "# from keras.layers import Bidirectional, Concatenate\n",
        "\n",
        "\n",
        "# encoder_bilstm = Bidirectional(LSTM(latent_dim, return_state=True, \n",
        "#                                   dropout=0.5, name='encoder_lstm'))\n",
        "# _, forward_h, forward_c, backward_h, backward_c = encoder_bilstm(encoder_inputs)\n",
        "\n",
        "# state_h = Concatenate()([forward_h, backward_h])\n",
        "# state_c = Concatenate()([forward_c, backward_c])"
      ]
    },
    {
      "cell_type": "code",
      "execution_count": 2,
      "metadata": {
        "id": "BmEC01TIuK1y"
      },
      "outputs": [],
      "source": [
        "pip install -q -U keras-tuner"
      ]
    },
    {
      "cell_type": "markdown",
      "metadata": {
        "id": "f9_kJ_0BWaGv"
      },
      "source": [
        "## 1. Data preparation (10 points)\n",
        "\n",
        "1. Download spanish-english data from http://www.manythings.org/anki/\n",
        "2. You may try to use other languages.\n",
        "3. Unzip the .ZIP file.\n",
        "4. Put the .TXT file (e.g., \"deu.txt\") in the directory \"./Data/\".\n",
        "5. Fill in your data directory in section 1.1."
      ]
    },
    {
      "cell_type": "markdown",
      "metadata": {
        "id": "h5XL81ixWaGv"
      },
      "source": [
        "### 1.1. Load and clean text\n"
      ]
    },
    {
      "cell_type": "code",
      "execution_count": 3,
      "metadata": {
        "id": "Sj3dH7FuWaGv"
      },
      "outputs": [],
      "source": [
        "import re\n",
        "import string\n",
        "from unicodedata import normalize\n",
        "import numpy\n",
        "\n",
        "# load doc into memory\n",
        "def load_doc(filename):\n",
        "    # open the file as read only\n",
        "    file = open(filename, mode='rt', encoding='utf-8')\n",
        "    # read all text\n",
        "    text = file.read()\n",
        "    # close the file\n",
        "    file.close()\n",
        "    return text\n",
        "\n",
        "\n",
        "# split a loaded document into sentences\n",
        "def to_pairs(doc):\n",
        "    lines = doc.strip().split('\\n')\n",
        "    pairs = [line.split('\\t') for line in  lines]\n",
        "    return pairs\n",
        "\n",
        "def clean_data(lines):\n",
        "    cleaned = list()\n",
        "    # prepare regex for char filtering\n",
        "    re_print = re.compile('[^%s]' % re.escape(string.printable))\n",
        "    # prepare translation table for removing punctuation\n",
        "    table = str.maketrans('', '', string.punctuation)\n",
        "    for pair in lines:\n",
        "        clean_pair = list()\n",
        "        for line in pair:\n",
        "            # normalize unicode characters\n",
        "            line = normalize('NFD', line).encode('ascii', 'ignore')\n",
        "            line = line.decode('UTF-8')\n",
        "            # tokenize on white space\n",
        "            line = line.split()\n",
        "            # convert to lowercase\n",
        "            line = [word.lower() for word in line]\n",
        "            # remove punctuation from each token\n",
        "            line = [word.translate(table) for word in line]\n",
        "            # remove non-printable chars form each token\n",
        "            line = [re_print.sub('', w) for w in line]\n",
        "            # remove tokens with numbers in them\n",
        "            line = [word for word in line if word.isalpha()]\n",
        "            # store as string\n",
        "            clean_pair.append(' '.join(line))\n",
        "        cleaned.append(clean_pair)\n",
        "    return numpy.array(cleaned)"
      ]
    },
    {
      "cell_type": "markdown",
      "metadata": {
        "id": "4StbuljyWaGw"
      },
      "source": [
        "#### Fill the following blanks:"
      ]
    },
    {
      "cell_type": "code",
      "execution_count": 4,
      "metadata": {
        "id": "0FVPAZ7kWaGw"
      },
      "outputs": [],
      "source": [
        "# e.g., filename = 'Data/deu.txt'\n",
        "filename = \"/content/Data/spa.txt\"\n",
        "\n",
        "# e.g., n_train = 20000\n",
        "n_train = 20000"
      ]
    },
    {
      "cell_type": "code",
      "execution_count": 5,
      "metadata": {
        "id": "ZwF7DddVWaGw"
      },
      "outputs": [],
      "source": [
        "# load dataset\n",
        "doc = load_doc(filename)\n",
        "\n",
        "# split into Language1-Language2 pairs\n",
        "pairs = to_pairs(doc)\n",
        "\n",
        "# clean sentences\n",
        "clean_pairs = clean_data(pairs)[0:n_train, :]"
      ]
    },
    {
      "cell_type": "code",
      "execution_count": 6,
      "metadata": {
        "colab": {
          "base_uri": "https://localhost:8080/"
        },
        "id": "M0ZNHsouWaGx",
        "outputId": "13d4dde5-c7b9-430b-8164-10926440724c"
      },
      "outputs": [
        {
          "name": "stdout",
          "output_type": "stream",
          "text": [
            "[were young] => [somos jovenes]\n",
            "[weve eaten] => [hemos comido]\n",
            "[what a bore] => [que aburrimiento]\n",
            "[what a dope] => [que burro eres]\n",
            "[what a dope] => [que burro]\n",
            "[what a heel] => [que tipo tan arrastrado]\n",
            "[what a jerk] => [que pendejo]\n",
            "[what a jerk] => [que imbecil]\n",
            "[what a jerk] => [que cretino]\n",
            "[what a life] => [que vida]\n"
          ]
        }
      ],
      "source": [
        "for i in range(3000, 3010):\n",
        "    print('[' + clean_pairs[i, 0] + '] => [' + clean_pairs[i, 1] + ']')"
      ]
    },
    {
      "cell_type": "code",
      "execution_count": 7,
      "metadata": {
        "colab": {
          "base_uri": "https://localhost:8080/"
        },
        "id": "pVqHc2CUWaGx",
        "outputId": "0a6742c9-876e-473f-cd4d-e459392fd254"
      },
      "outputs": [
        {
          "name": "stdout",
          "output_type": "stream",
          "text": [
            "Length of input_texts:  (20000,)\n",
            "Length of target_texts: (20000,)\n"
          ]
        }
      ],
      "source": [
        "input_texts = clean_pairs[:, 0]\n",
        "target_texts = ['\\t' + text + '\\n' for text in clean_pairs[:, 1]]\n",
        "\n",
        "print('Length of input_texts:  ' + str(input_texts.shape))\n",
        "print('Length of target_texts: ' + str(input_texts.shape))"
      ]
    },
    {
      "cell_type": "code",
      "execution_count": 8,
      "metadata": {
        "colab": {
          "base_uri": "https://localhost:8080/"
        },
        "id": "yNrMo20XWaGx",
        "outputId": "7f49f49d-2d6f-41e1-ecf9-2fc36afa9a8b"
      },
      "outputs": [
        {
          "name": "stdout",
          "output_type": "stream",
          "text": [
            "max length of input  sentences: 18\n",
            "max length of target sentences: 48\n"
          ]
        }
      ],
      "source": [
        "max_encoder_seq_length = max(len(line) for line in input_texts)\n",
        "max_decoder_seq_length = max(len(line) for line in target_texts)\n",
        "\n",
        "print('max length of input  sentences: %d' % (max_encoder_seq_length))\n",
        "print('max length of target sentences: %d' % (max_decoder_seq_length))"
      ]
    },
    {
      "cell_type": "markdown",
      "metadata": {
        "id": "1ATC9ZTdWaGx"
      },
      "source": [
        "**Remark:** To this end, you have two lists of sentences: input_texts and target_texts"
      ]
    },
    {
      "cell_type": "markdown",
      "metadata": {
        "id": "1AgixYo3WaGx"
      },
      "source": [
        "## 2. Text processing\n",
        "\n",
        "### 2.1. Convert texts to sequences\n",
        "\n",
        "- Input: A list of $n$ sentences (with max length $t$).\n",
        "- It is represented by a $n\\times t$ matrix after the tokenization and zero-padding."
      ]
    },
    {
      "cell_type": "code",
      "execution_count": 9,
      "metadata": {
        "colab": {
          "base_uri": "https://localhost:8080/"
        },
        "id": "JMr9rW7nWaGx",
        "outputId": "86e623a7-4965-4028-b748-94837ab2d585"
      },
      "outputs": [
        {
          "name": "stdout",
          "output_type": "stream",
          "text": [
            "shape of encoder_input_seq: (20000, 18)\n",
            "shape of input_token_index: 27\n",
            "shape of decoder_input_seq: (20000, 48)\n",
            "shape of target_token_index: 29\n"
          ]
        }
      ],
      "source": [
        "from tensorflow.keras.preprocessing.text import Tokenizer\n",
        "from tensorflow.keras.preprocessing.sequence import pad_sequences\n",
        "\n",
        "# encode and pad sequences\n",
        "def text2sequences(max_len, lines):\n",
        "    tokenizer = Tokenizer(char_level=True, filters='')\n",
        "    tokenizer.fit_on_texts(lines)\n",
        "    seqs = tokenizer.texts_to_sequences(lines)\n",
        "    seqs_pad = pad_sequences(seqs, maxlen=max_len, padding='post')\n",
        "    return seqs_pad, tokenizer.word_index\n",
        "\n",
        "\n",
        "encoder_input_seq, input_token_index = text2sequences(max_encoder_seq_length, \n",
        "                                                      input_texts)\n",
        "decoder_input_seq, target_token_index = text2sequences(max_decoder_seq_length, \n",
        "                                                       target_texts)\n",
        "\n",
        "print('shape of encoder_input_seq: ' + str(encoder_input_seq.shape))\n",
        "print('shape of input_token_index: ' + str(len(input_token_index)))\n",
        "print('shape of decoder_input_seq: ' + str(decoder_input_seq.shape))\n",
        "print('shape of target_token_index: ' + str(len(target_token_index)))"
      ]
    },
    {
      "cell_type": "code",
      "execution_count": 10,
      "metadata": {
        "colab": {
          "base_uri": "https://localhost:8080/"
        },
        "id": "rmM_bTY7WaGy",
        "outputId": "f05b9eff-5096-4799-9dcc-1c43755052c2"
      },
      "outputs": [
        {
          "name": "stdout",
          "output_type": "stream",
          "text": [
            "num_encoder_tokens: 28\n",
            "num_decoder_tokens: 30\n"
          ]
        }
      ],
      "source": [
        "num_encoder_tokens = len(input_token_index) + 1\n",
        "num_decoder_tokens = len(target_token_index) + 1\n",
        "\n",
        "print('num_encoder_tokens: ' + str(num_encoder_tokens))\n",
        "print('num_decoder_tokens: ' + str(num_decoder_tokens))"
      ]
    },
    {
      "cell_type": "markdown",
      "metadata": {
        "id": "7pXsd9jKWaGy"
      },
      "source": [
        "**Remark:** To this end, the input language and target language texts are converted to 2 matrices. \n",
        "\n",
        "- Their number of rows are both n_train.\n",
        "- Their number of columns are respective max_encoder_seq_length and max_decoder_seq_length."
      ]
    },
    {
      "cell_type": "markdown",
      "metadata": {
        "id": "g1YZM9lnWaGy"
      },
      "source": [
        "The followings print a sentence and its representation as a sequence."
      ]
    },
    {
      "cell_type": "code",
      "execution_count": 11,
      "metadata": {
        "colab": {
          "base_uri": "https://localhost:8080/",
          "height": 36
        },
        "id": "_se8CxKpWaGy",
        "outputId": "16648114-32f3-478b-a0a4-f838d56fbee6"
      },
      "outputs": [
        {
          "data": {
            "application/vnd.google.colaboratory.intrinsic+json": {
              "type": "string"
            },
            "text/plain": [
              "'\\tsali\\n'"
            ]
          },
          "execution_count": 11,
          "metadata": {},
          "output_type": "execute_result"
        }
      ],
      "source": [
        "target_texts[100]"
      ]
    },
    {
      "cell_type": "code",
      "execution_count": 12,
      "metadata": {
        "colab": {
          "base_uri": "https://localhost:8080/"
        },
        "id": "rtDBZmCbWaGy",
        "outputId": "eefa688e-7321-452e-d0fc-632cc0cdb56e"
      },
      "outputs": [
        {
          "data": {
            "text/plain": [
              "array([ 6,  5,  4, 12, 11,  7,  0,  0,  0,  0,  0,  0,  0,  0,  0,  0,  0,\n",
              "        0,  0,  0,  0,  0,  0,  0,  0,  0,  0,  0,  0,  0,  0,  0,  0,  0,\n",
              "        0,  0,  0,  0,  0,  0,  0,  0,  0,  0,  0,  0,  0,  0],\n",
              "      dtype=int32)"
            ]
          },
          "execution_count": 12,
          "metadata": {},
          "output_type": "execute_result"
        }
      ],
      "source": [
        "decoder_input_seq[100, :]"
      ]
    },
    {
      "cell_type": "markdown",
      "metadata": {
        "id": "puSyRHs_WaGy"
      },
      "source": [
        "## 2.2. One-hot encode\n",
        "\n",
        "- Input: A list of $n$ sentences (with max length $t$).\n",
        "- It is represented by a $n\\times t$ matrix after the tokenization and zero-padding.\n",
        "- It is represented by a $n\\times t \\times v$ tensor ($t$ is the number of unique chars) after the one-hot encoding."
      ]
    },
    {
      "cell_type": "code",
      "execution_count": 13,
      "metadata": {
        "colab": {
          "base_uri": "https://localhost:8080/"
        },
        "id": "-NwLbT_nWaGz",
        "outputId": "eb1d2e82-d483-4379-90b0-895a1ef9006a"
      },
      "outputs": [
        {
          "name": "stdout",
          "output_type": "stream",
          "text": [
            "(20000, 18, 28)\n",
            "(20000, 48, 30)\n"
          ]
        }
      ],
      "source": [
        "from tensorflow.keras.utils import to_categorical\n",
        "\n",
        "# one hot encode target sequence\n",
        "def onehot_encode(sequences, max_len, vocab_size):\n",
        "    n = len(sequences)\n",
        "    data = numpy.zeros((n, max_len, vocab_size))\n",
        "    for i in range(n):\n",
        "        data[i, :, :] = to_categorical(sequences[i], num_classes=vocab_size)\n",
        "    return data\n",
        "\n",
        "encoder_input_data = onehot_encode(encoder_input_seq, max_encoder_seq_length, num_encoder_tokens)\n",
        "decoder_input_data = onehot_encode(decoder_input_seq, max_decoder_seq_length, num_decoder_tokens)\n",
        "\n",
        "decoder_target_seq = numpy.zeros(decoder_input_seq.shape)\n",
        "decoder_target_seq[:, 0:-1] = decoder_input_seq[:, 1:]\n",
        "decoder_target_data = onehot_encode(decoder_target_seq, \n",
        "                                    max_decoder_seq_length, \n",
        "                                    num_decoder_tokens)\n",
        "\n",
        "print(encoder_input_data.shape)\n",
        "print(decoder_input_data.shape)"
      ]
    },
    {
      "cell_type": "markdown",
      "metadata": {
        "id": "f9BvqO76WaGz"
      },
      "source": [
        "## 3. Build the networks (for training) (20 points)\n",
        "\n",
        "- In this section, we have already implemented the LSTM model for you. You can run the code and see what the code is doing.  \n",
        "\n",
        "- **You need to change the existing LSTM model to a Bidirectional LSTM model. Just modify the network structrue and do not change the training cell in section 3.4.**\n",
        "\n",
        "- Build encoder, decoder, and connect the two modules to get \"model\". \n",
        "\n",
        "- Fit the model on the bilingual data to train the parameters in the encoder and decoder.\n",
        "\n"
      ]
    },
    {
      "cell_type": "markdown",
      "metadata": {
        "id": "wmHyW1bAWaGz"
      },
      "source": [
        "### 3.1. Encoder network\n",
        "\n",
        "- Input:  one-hot encode of the input language\n",
        "\n",
        "- Return: \n",
        "\n",
        "    -- output (all the hidden states   $h_1, \\cdots , h_t$) are always discarded\n",
        "    \n",
        "    -- the final hidden state  $h_t$\n",
        "    \n",
        "    -- the final conveyor belt $c_t$"
      ]
    },
    {
      "cell_type": "code",
      "execution_count": 14,
      "metadata": {
        "id": "g5WMGfdxWaGz"
      },
      "outputs": [],
      "source": [
        "from tensorflow.keras.layers import Input, LSTM\n",
        "from tensorflow.keras.models import Model\n",
        "\n",
        "latent_dim = 256\n",
        "\n",
        "#|inputs of the encoder network\n",
        "encoder_inputs = Input(shape=(None, num_encoder_tokens), \n",
        "                      name='encoder_inputs')\n",
        "\n",
        "                                                              #Bi_LSTM\n",
        "\n",
        "from keras.layers import Bidirectional, Concatenate\n",
        "\n",
        "\n",
        "encoder_bilstm = Bidirectional(LSTM(latent_dim, return_state=True, \n",
        "                                  dropout=0.5, name='encoder_lstm'))\n",
        "_, forward_h, forward_c, backward_h, backward_c = encoder_bilstm(encoder_inputs)\n",
        "\n",
        "state_h = Concatenate()([forward_h, backward_h])\n",
        "state_c = Concatenate()([forward_c, backward_c])\n",
        "# build the encoder network model\n",
        "encoder_model = Model(inputs=encoder_inputs, \n",
        "                      outputs=[state_h, state_c],\n",
        "                      name='encoder')"
      ]
    },
    {
      "cell_type": "markdown",
      "metadata": {
        "id": "bEJyvX2RWaGz"
      },
      "source": [
        "Print a summary and save the encoder network structure to \"./encoder.pdf\""
      ]
    },
    {
      "cell_type": "code",
      "execution_count": 15,
      "metadata": {
        "colab": {
          "base_uri": "https://localhost:8080/"
        },
        "id": "SOInvJYsWaGz",
        "outputId": "d76f33a6-2722-4b75-ac5a-3df6161e1210"
      },
      "outputs": [
        {
          "name": "stdout",
          "output_type": "stream",
          "text": [
            "Model: \"encoder\"\n",
            "__________________________________________________________________________________________________\n",
            " Layer (type)                   Output Shape         Param #     Connected to                     \n",
            "==================================================================================================\n",
            " encoder_inputs (InputLayer)    [(None, None, 28)]   0           []                               \n",
            "                                                                                                  \n",
            " bidirectional (Bidirectional)  [(None, 512),        583680      ['encoder_inputs[0][0]']         \n",
            "                                 (None, 256),                                                     \n",
            "                                 (None, 256),                                                     \n",
            "                                 (None, 256),                                                     \n",
            "                                 (None, 256)]                                                     \n",
            "                                                                                                  \n",
            " concatenate (Concatenate)      (None, 512)          0           ['bidirectional[0][1]',          \n",
            "                                                                  'bidirectional[0][3]']          \n",
            "                                                                                                  \n",
            " concatenate_1 (Concatenate)    (None, 512)          0           ['bidirectional[0][2]',          \n",
            "                                                                  'bidirectional[0][4]']          \n",
            "                                                                                                  \n",
            "==================================================================================================\n",
            "Total params: 583,680\n",
            "Trainable params: 583,680\n",
            "Non-trainable params: 0\n",
            "__________________________________________________________________________________________________\n"
          ]
        }
      ],
      "source": [
        "from IPython.display import SVG\n",
        "from keras.utils.vis_utils import model_to_dot, plot_model\n",
        "\n",
        "SVG(model_to_dot(encoder_model, show_shapes=False).create(prog='dot', format='svg'))\n",
        "\n",
        "plot_model(\n",
        "    model=encoder_model, show_shapes=False,\n",
        "    to_file='encoder.pdf'\n",
        ")\n",
        "\n",
        "encoder_model.summary()"
      ]
    },
    {
      "cell_type": "markdown",
      "metadata": {
        "id": "W9fQs9T4WaG0"
      },
      "source": [
        "### 3.2. Decoder network\n",
        "\n",
        "- Inputs:  \n",
        "\n",
        "    -- one-hot encode of the target language\n",
        "    \n",
        "    -- The initial hidden state $h_t$ \n",
        "    \n",
        "    -- The initial conveyor belt $c_t$ \n",
        "\n",
        "- Return: \n",
        "\n",
        "    -- output (all the hidden states) $h_1, \\cdots , h_t$\n",
        "\n",
        "    -- the final hidden state  $h_t$ (discarded in the training and used in the prediction)\n",
        "    \n",
        "    -- the final conveyor belt $c_t$ (discarded in the training and used in the prediction)"
      ]
    },
    {
      "cell_type": "code",
      "execution_count": 16,
      "metadata": {
        "id": "sB4ArqmOWaG0"
      },
      "outputs": [],
      "source": [
        "from tensorflow.keras.layers import Input, LSTM, Dense\n",
        "from tensorflow.keras.models import Model\n",
        "latent_dim = 512\n",
        "# inputs of the decoder network\n",
        "decoder_input_h = Input(shape=(latent_dim,), name='decoder_input_h')\n",
        "decoder_input_c = Input(shape=(latent_dim,), name='decoder_input_c')\n",
        "decoder_input_x = Input(shape=(None, num_decoder_tokens), name='decoder_input_x')\n",
        "\n",
        "# set the LSTM layer\n",
        "decoder_lstm = LSTM(latent_dim, return_sequences=True, \n",
        "                    return_state=True, dropout=0.5, name='decoder_lstm')\n",
        "decoder_lstm_outputs, state_h, state_c = decoder_lstm(decoder_input_x, \n",
        "                                                      initial_state=[decoder_input_h, decoder_input_c])\n",
        "\n",
        "# set the dense layer\n",
        "decoder_dense = Dense(num_decoder_tokens, activation='softmax', name='decoder_dense')\n",
        "decoder_outputs = decoder_dense(decoder_lstm_outputs)\n",
        "\n",
        "# build the decoder network model\n",
        "decoder_model = Model(inputs=[decoder_input_x, decoder_input_h, decoder_input_c],\n",
        "                      outputs=[decoder_outputs, state_h, state_c],\n",
        "                      name='decoder')"
      ]
    },
    {
      "cell_type": "markdown",
      "metadata": {
        "id": "23wbLPTqWaG0"
      },
      "source": [
        "Print a summary and save the encoder network structure to \"./decoder.pdf\""
      ]
    },
    {
      "cell_type": "code",
      "execution_count": 17,
      "metadata": {
        "colab": {
          "base_uri": "https://localhost:8080/"
        },
        "id": "50I1kFSRWaG0",
        "outputId": "f31d945b-19e7-45d3-cf4d-01bf2604ea75"
      },
      "outputs": [
        {
          "name": "stdout",
          "output_type": "stream",
          "text": [
            "Model: \"decoder\"\n",
            "__________________________________________________________________________________________________\n",
            " Layer (type)                   Output Shape         Param #     Connected to                     \n",
            "==================================================================================================\n",
            " decoder_input_x (InputLayer)   [(None, None, 30)]   0           []                               \n",
            "                                                                                                  \n",
            " decoder_input_h (InputLayer)   [(None, 512)]        0           []                               \n",
            "                                                                                                  \n",
            " decoder_input_c (InputLayer)   [(None, 512)]        0           []                               \n",
            "                                                                                                  \n",
            " decoder_lstm (LSTM)            [(None, None, 512),  1112064     ['decoder_input_x[0][0]',        \n",
            "                                 (None, 512),                     'decoder_input_h[0][0]',        \n",
            "                                 (None, 512)]                     'decoder_input_c[0][0]']        \n",
            "                                                                                                  \n",
            " decoder_dense (Dense)          (None, None, 30)     15390       ['decoder_lstm[0][0]']           \n",
            "                                                                                                  \n",
            "==================================================================================================\n",
            "Total params: 1,127,454\n",
            "Trainable params: 1,127,454\n",
            "Non-trainable params: 0\n",
            "__________________________________________________________________________________________________\n"
          ]
        }
      ],
      "source": [
        "from IPython.display import SVG\n",
        "from keras.utils.vis_utils import model_to_dot, plot_model\n",
        "\n",
        "SVG(model_to_dot(decoder_model, show_shapes=False).create(prog='dot', format='svg'))\n",
        "\n",
        "plot_model(\n",
        "    model=decoder_model, show_shapes=False,\n",
        "    to_file='decoder.pdf'\n",
        ")\n",
        "\n",
        "decoder_model.summary()"
      ]
    },
    {
      "cell_type": "markdown",
      "metadata": {
        "id": "IsEmJvXrWaG0"
      },
      "source": [
        "### 3.3. Connect the encoder and decoder"
      ]
    },
    {
      "cell_type": "code",
      "execution_count": 18,
      "metadata": {
        "id": "8naAfC_yWaG0"
      },
      "outputs": [],
      "source": [
        "# input layers\n",
        "encoder_input_x = Input(shape=(None, num_encoder_tokens), name='encoder_input_x')\n",
        "decoder_input_x = Input(shape=(None, num_decoder_tokens), name='decoder_input_x')\n",
        "\n",
        "# connect encoder to decoder\n",
        "encoder_final_states = encoder_model([encoder_input_x])\n",
        "decoder_lstm_output, _, _ = decoder_lstm(decoder_input_x, initial_state=encoder_final_states)\n",
        "decoder_pred = decoder_dense(decoder_lstm_output)\n",
        "\n",
        "model = Model(inputs=[encoder_input_x, decoder_input_x], \n",
        "              outputs=decoder_pred, \n",
        "              name='model_training')"
      ]
    },
    {
      "cell_type": "code",
      "execution_count": 19,
      "metadata": {
        "colab": {
          "base_uri": "https://localhost:8080/"
        },
        "id": "pM3uFLOkWaG1",
        "outputId": "9bedc7ad-6348-43c7-913b-9e626bacef57"
      },
      "outputs": [
        {
          "name": "stdout",
          "output_type": "stream",
          "text": [
            "Model: \"model_training\"\n",
            "__________________________________________________________________________________________________\n",
            " Layer (type)                   Output Shape         Param #     Connected to                     \n",
            "==================================================================================================\n",
            " encoder_input_x (InputLayer)   [(None, None, 28)]   0           []                               \n",
            "                                                                                                  \n",
            " decoder_input_x (InputLayer)   [(None, None, 30)]   0           []                               \n",
            "                                                                                                  \n",
            " encoder (Functional)           [(None, 512),        583680      ['encoder_input_x[0][0]']        \n",
            "                                 (None, 512)]                                                     \n",
            "                                                                                                  \n",
            " decoder_lstm (LSTM)            [(None, None, 512),  1112064     ['decoder_input_x[0][0]',        \n",
            "                                 (None, 512),                     'encoder[0][0]',                \n",
            "                                 (None, 512)]                     'encoder[0][1]']                \n",
            "                                                                                                  \n",
            " decoder_dense (Dense)          (None, None, 30)     15390       ['decoder_lstm[1][0]']           \n",
            "                                                                                                  \n",
            "==================================================================================================\n",
            "Total params: 1,711,134\n",
            "Trainable params: 1,711,134\n",
            "Non-trainable params: 0\n",
            "__________________________________________________________________________________________________\n"
          ]
        }
      ],
      "source": [
        "from IPython.display import SVG\n",
        "from keras.utils.vis_utils import model_to_dot, plot_model\n",
        "\n",
        "SVG(model_to_dot(model, show_shapes=False).create(prog='dot', format='svg'))\n",
        "\n",
        "plot_model(\n",
        "    model=model, show_shapes=False,\n",
        "    to_file='model_training.pdf'\n",
        ")\n",
        "\n",
        "model.summary()"
      ]
    },
    {
      "cell_type": "markdown",
      "metadata": {
        "id": "q-pcHmMKWaG1"
      },
      "source": [
        "### 3.4. Fit the model on the bilingual dataset\n",
        "\n",
        "- encoder_input_data: one-hot encode of the input language\n",
        "\n",
        "- decoder_input_data: one-hot encode of the input language\n",
        "\n",
        "- decoder_target_data: labels (left shift of decoder_input_data)\n",
        "\n",
        "- tune the hyper-parameters\n",
        "\n",
        "- stop when the validation loss stop decreasing."
      ]
    },
    {
      "cell_type": "code",
      "execution_count": 20,
      "metadata": {
        "colab": {
          "base_uri": "https://localhost:8080/"
        },
        "id": "KvZf4RrpWaG1",
        "outputId": "79074fee-2652-4293-f8b3-74d9db679fc2"
      },
      "outputs": [
        {
          "name": "stdout",
          "output_type": "stream",
          "text": [
            "shape of encoder_input_data(20000, 18, 28)\n",
            "shape of decoder_input_data(20000, 48, 30)\n",
            "shape of decoder_target_data(20000, 48, 30)\n"
          ]
        }
      ],
      "source": [
        "print('shape of encoder_input_data' + str(encoder_input_data.shape))\n",
        "print('shape of decoder_input_data' + str(decoder_input_data.shape))\n",
        "print('shape of decoder_target_data' + str(decoder_target_data.shape))"
      ]
    },
    {
      "cell_type": "code",
      "execution_count": null,
      "metadata": {
        "id": "91W3dwR0E-9m"
      },
      "outputs": [],
      "source": [
        "# model.compile(optimizer='rmsprop', loss='categorical_crossentropy')\n",
        "\n",
        "# model.fit([encoder_input_data, decoder_input_data],  # training data\n",
        "#           decoder_target_data,                       # labels (left shift of the target sequences)\n",
        "#           batch_size=64, epochs=50, validation_split=0.2)\n",
        "\n",
        "# model.save('seq2seq.h5')"
      ]
    },
    {
      "cell_type": "code",
      "execution_count": 22,
      "metadata": {
        "id": "oqerNUpQuSWg"
      },
      "outputs": [],
      "source": [
        "from tensorflow import keras\n",
        "\n",
        "def model_builder(hp):\n",
        "\n",
        "  model = Model(inputs=[encoder_input_x, decoder_input_x], \n",
        "              outputs=decoder_pred, \n",
        "              name='model_training')\n",
        "  \n",
        "  hp_learning_rate = hp.Choice('learning_rate', values=[1e-2, 1e-3, 1e-4])\n",
        "  hp_optimizer = hp.Choice('optimizer', values=['adam', 'rmsprop', 'sgd', 'adagrad', 'adamax'])\n",
        "\n",
        "  optimizer = {\n",
        "      'adam':keras.optimizers.Adam(learning_rate=hp_learning_rate),\n",
        "      'rmsprop': keras.optimizers.RMSprop(learning_rate=hp_learning_rate),\n",
        "      'sgd': keras.optimizers.SGD(learning_rate=hp_learning_rate),\n",
        "      'adagrad': keras.optimizers.Adagrad(learning_rate=hp_learning_rate),\n",
        "      'adamax': keras.optimizers.Adamax(learning_rate=hp_learning_rate)\n",
        "  }[hp_optimizer]\n",
        "\n",
        "  model.compile(optimizer=optimizer, loss='categorical_crossentropy', metrics=['accuracy'])\n",
        "\n",
        "  return model"
      ]
    },
    {
      "cell_type": "code",
      "execution_count": 23,
      "metadata": {
        "id": "9WiCEeEZuVcC"
      },
      "outputs": [],
      "source": [
        "import keras_tuner as kt\n",
        "tuner = kt.Hyperband(model_builder,\n",
        "                     objective='val_accuracy',\n",
        "                     max_epochs=50,\n",
        "                     factor=3,\n",
        "                     directory='Data',\n",
        "                     project_name='test5')"
      ]
    },
    {
      "cell_type": "code",
      "execution_count": 24,
      "metadata": {
        "id": "7rDxuzNBuYO4"
      },
      "outputs": [],
      "source": [
        "tuner.search([encoder_input_data, decoder_input_data], decoder_target_data, epochs=50, validation_split=0.2, callbacks=[keras.callbacks.EarlyStopping(monitor='val_loss', patience=5, verbose=1, mode='auto')])"
      ]
    },
    {
      "cell_type": "code",
      "execution_count": 25,
      "metadata": {
        "colab": {
          "base_uri": "https://localhost:8080/"
        },
        "id": "JOSlg9Scv4w0",
        "outputId": "76491f67-d47d-46cd-ae9f-20a8158e7aa0"
      },
      "outputs": [
        {
          "name": "stdout",
          "output_type": "stream",
          "text": [
            "Best Optimizer: adam\n",
            "Best Learning Rate: 0.001\n"
          ]
        }
      ],
      "source": [
        "best_hps=tuner.get_best_hyperparameters(num_trials=1)[0]\n",
        "print(\"Best Optimizer:\", best_hps.get('optimizer'))\n",
        "print(\"Best Learning Rate:\", best_hps.get('learning_rate'))"
      ]
    },
    {
      "cell_type": "markdown",
      "metadata": {
        "id": "dazOcLzywDAc"
      },
      "source": [
        "FROM THE ABOVE TUNING OF HYPER PARAMETERS WE GET:\n",
        "\n",
        "OPTIMIZER :ADAM\n",
        "\n",
        "LEARNING RATE: 0.001"
      ]
    },
    {
      "cell_type": "code",
      "execution_count": 26,
      "metadata": {
        "id": "7bYxLK9xwRhZ"
      },
      "outputs": [],
      "source": [
        "from tensorflow import keras\n",
        "model.compile(optimizer=keras.optimizers.Adam(learning_rate=0.001),\n",
        "              loss='categorical_crossentropy')\n",
        "\n",
        "model.save_weights('model_weights.h5')"
      ]
    },
    {
      "cell_type": "code",
      "execution_count": 27,
      "metadata": {
        "colab": {
          "base_uri": "https://localhost:8080/"
        },
        "id": "SJWo69F9wVi_",
        "outputId": "f6fbd374-6a76-4381-b59e-dc4c6a4cfc70"
      },
      "outputs": [
        {
          "name": "stdout",
          "output_type": "stream",
          "text": [
            "Epoch 1/50\n",
            "500/500 [==============================] - 14s 15ms/step - loss: 0.5956 - val_loss: 0.5755\n",
            "Epoch 2/50\n",
            "500/500 [==============================] - 6s 12ms/step - loss: 0.5877 - val_loss: 0.5628\n",
            "Epoch 3/50\n",
            "500/500 [==============================] - 7s 14ms/step - loss: 0.5760 - val_loss: 0.5565\n",
            "Epoch 4/50\n",
            "500/500 [==============================] - 6s 12ms/step - loss: 0.5687 - val_loss: 0.5530\n",
            "Epoch 5/50\n",
            "500/500 [==============================] - 7s 13ms/step - loss: 0.5593 - val_loss: 0.5443\n",
            "Epoch 6/50\n",
            "500/500 [==============================] - 6s 12ms/step - loss: 0.5521 - val_loss: 0.5360\n",
            "Epoch 7/50\n",
            "500/500 [==============================] - 7s 13ms/step - loss: 0.5450 - val_loss: 0.5395\n",
            "Epoch 8/50\n",
            "500/500 [==============================] - 6s 12ms/step - loss: 0.5374 - val_loss: 0.5270\n",
            "Epoch 9/50\n",
            "500/500 [==============================] - 6s 13ms/step - loss: 0.5286 - val_loss: 0.5252\n",
            "Epoch 10/50\n",
            "500/500 [==============================] - 7s 13ms/step - loss: 0.5238 - val_loss: 0.5224\n",
            "Epoch 11/50\n",
            "500/500 [==============================] - 7s 13ms/step - loss: 0.5149 - val_loss: 0.5166\n",
            "Epoch 12/50\n",
            "500/500 [==============================] - 7s 14ms/step - loss: 0.5117 - val_loss: 0.5144\n",
            "Epoch 13/50\n",
            "500/500 [==============================] - 6s 13ms/step - loss: 0.5049 - val_loss: 0.5133\n",
            "Epoch 14/50\n",
            "500/500 [==============================] - 6s 12ms/step - loss: 0.5006 - val_loss: 0.5077\n",
            "Epoch 15/50\n",
            "500/500 [==============================] - 7s 13ms/step - loss: 0.4954 - val_loss: 0.5076\n",
            "Epoch 16/50\n",
            "500/500 [==============================] - 6s 12ms/step - loss: 0.4887 - val_loss: 0.5042\n",
            "Epoch 17/50\n",
            "500/500 [==============================] - 7s 13ms/step - loss: 0.4841 - val_loss: 0.4996\n",
            "Epoch 18/50\n",
            "500/500 [==============================] - 6s 12ms/step - loss: 0.4794 - val_loss: 0.4976\n",
            "Epoch 19/50\n",
            "500/500 [==============================] - 7s 13ms/step - loss: 0.4745 - val_loss: 0.4969\n",
            "Epoch 20/50\n",
            "500/500 [==============================] - 6s 12ms/step - loss: 0.4695 - val_loss: 0.4962\n",
            "Epoch 21/50\n",
            "500/500 [==============================] - 6s 13ms/step - loss: 0.4667 - val_loss: 0.4943\n",
            "Epoch 22/50\n",
            "500/500 [==============================] - 6s 12ms/step - loss: 0.4609 - val_loss: 0.4959\n",
            "Epoch 23/50\n",
            "500/500 [==============================] - 7s 13ms/step - loss: 0.4572 - val_loss: 0.4944\n",
            "Epoch 24/50\n",
            "500/500 [==============================] - 6s 12ms/step - loss: 0.4530 - val_loss: 0.4922\n",
            "Epoch 25/50\n",
            "500/500 [==============================] - 6s 13ms/step - loss: 0.4499 - val_loss: 0.4914\n",
            "Epoch 26/50\n",
            "500/500 [==============================] - 6s 12ms/step - loss: 0.4470 - val_loss: 0.4905\n",
            "Epoch 27/50\n",
            "500/500 [==============================] - 6s 13ms/step - loss: 0.4436 - val_loss: 0.4894\n",
            "Epoch 28/50\n",
            "500/500 [==============================] - 6s 12ms/step - loss: 0.4395 - val_loss: 0.4891\n",
            "Epoch 29/50\n",
            "500/500 [==============================] - 6s 13ms/step - loss: 0.4392 - val_loss: 0.4844\n",
            "Epoch 30/50\n",
            "500/500 [==============================] - 6s 12ms/step - loss: 0.4352 - val_loss: 0.4894\n",
            "Epoch 31/50\n",
            "500/500 [==============================] - 6s 13ms/step - loss: 0.4322 - val_loss: 0.4870\n",
            "Epoch 32/50\n",
            "500/500 [==============================] - 6s 12ms/step - loss: 0.4279 - val_loss: 0.4886\n",
            "Epoch 33/50\n",
            "500/500 [==============================] - 6s 13ms/step - loss: 0.4245 - val_loss: 0.4875\n",
            "Epoch 34/50\n",
            "500/500 [==============================] - 6s 12ms/step - loss: 0.4203 - val_loss: 0.4833\n",
            "Epoch 35/50\n",
            "500/500 [==============================] - 6s 13ms/step - loss: 0.4189 - val_loss: 0.4861\n",
            "Epoch 36/50\n",
            "500/500 [==============================] - 6s 12ms/step - loss: 0.4176 - val_loss: 0.4850\n",
            "Epoch 37/50\n",
            "500/500 [==============================] - 7s 13ms/step - loss: 0.4130 - val_loss: 0.4892\n",
            "Epoch 38/50\n",
            "500/500 [==============================] - 6s 12ms/step - loss: 0.4105 - val_loss: 0.4829\n",
            "Epoch 39/50\n",
            "500/500 [==============================] - 6s 13ms/step - loss: 0.4091 - val_loss: 0.4856\n",
            "Epoch 40/50\n",
            "500/500 [==============================] - 6s 12ms/step - loss: 0.4088 - val_loss: 0.4823\n",
            "Epoch 41/50\n",
            "500/500 [==============================] - 6s 13ms/step - loss: 0.4083 - val_loss: 0.4805\n",
            "Epoch 42/50\n",
            "500/500 [==============================] - 6s 12ms/step - loss: 0.4013 - val_loss: 0.4859\n",
            "Epoch 43/50\n",
            "500/500 [==============================] - 7s 13ms/step - loss: 0.3998 - val_loss: 0.4834\n",
            "Epoch 44/50\n",
            "500/500 [==============================] - 6s 12ms/step - loss: 0.4009 - val_loss: 0.4883\n",
            "Epoch 45/50\n",
            "500/500 [==============================] - 6s 12ms/step - loss: 0.3956 - val_loss: 0.4857\n",
            "Epoch 46/50\n",
            "500/500 [==============================] - 6s 12ms/step - loss: 0.3918 - val_loss: 0.4858\n",
            "Epoch 46: early stopping\n"
          ]
        }
      ],
      "source": [
        "\n",
        "\n",
        "history = model.fit([encoder_input_data, decoder_input_data],  # training data\n",
        "                      decoder_target_data,                       # labels (left shift of the target sequences)\n",
        "                      epochs=50, validation_split=0.2, callbacks=[keras.callbacks.EarlyStopping(monitor='val_loss', patience=5, verbose=1, mode='auto')])\n",
        "\n",
        "model.save('seq2seq.h5')"
      ]
    },
    {
      "cell_type": "code",
      "execution_count": 28,
      "metadata": {
        "colab": {
          "base_uri": "https://localhost:8080/"
        },
        "id": "1fAn7bLUxBkU",
        "outputId": "f66a72b6-51c3-4679-aa4d-4cbd3fed19ef"
      },
      "outputs": [
        {
          "name": "stdout",
          "output_type": "stream",
          "text": [
            "Max epochs: 41\n"
          ]
        }
      ],
      "source": [
        "val_loss_per_epoch = history.history['val_loss']\n",
        "best_epoch = val_loss_per_epoch.index(min(val_loss_per_epoch)) + 1\n",
        "print('Max epochs: %d' % (best_epoch,))"
      ]
    },
    {
      "cell_type": "markdown",
      "metadata": {
        "id": "EqUC1VHhWaG1"
      },
      "source": [
        "## 4. Make predictions\n",
        "\n",
        "- In this section, you need to complete section 4.2 to translate English to the target language.\n",
        "\n",
        "\n",
        "### 4.1. Translate English to XXX\n",
        "\n",
        "1. Encoder read a sentence (source language) and output its final states, $h_t$ and $c_t$.\n",
        "2. Take the [star] sign \"\\t\" and the final state $h_t$ and $c_t$ as input and run the decoder.\n",
        "3. Get the new states and predicted probability distribution.\n",
        "4. sample a char from the predicted probability distribution\n",
        "5. take the sampled char and the new states as input and repeat the process (stop if reach the [stop] sign \"\\n\")."
      ]
    },
    {
      "cell_type": "code",
      "execution_count": 29,
      "metadata": {
        "id": "v9yxGSXzWaG2"
      },
      "outputs": [],
      "source": [
        "# Reverse-lookup token index to decode sequences back to something readable.\n",
        "reverse_input_char_index = dict((i, char) for char, i in input_token_index.items())\n",
        "reverse_target_char_index = dict((i, char) for char, i in target_token_index.items())"
      ]
    },
    {
      "cell_type": "code",
      "execution_count": 30,
      "metadata": {
        "id": "QRomZoznWaG2"
      },
      "outputs": [],
      "source": [
        "def decode_sequence(input_seq):\n",
        "    states_value = encoder_model.predict(input_seq)\n",
        "\n",
        "    target_seq = numpy.zeros((1, 1, num_decoder_tokens))\n",
        "    target_seq[0, 0, target_token_index['\\t']] = 1.\n",
        "\n",
        "    stop_condition = False\n",
        "    decoded_sentence = ''\n",
        "    while not stop_condition:\n",
        "        output_tokens, h, c = decoder_model.predict([target_seq] + states_value)\n",
        "\n",
        "        # this line of code is greedy selection\n",
        "        # try to use multinomial sampling instead (with temperature)\n",
        "        sampled_token_index = numpy.argmax(output_tokens[0, -1, :])\n",
        "        \n",
        "        sampled_char = reverse_target_char_index[sampled_token_index]\n",
        "        decoded_sentence += sampled_char\n",
        "\n",
        "        if (sampled_char == '\\n' or\n",
        "           len(decoded_sentence) > max_decoder_seq_length):\n",
        "            stop_condition = True\n",
        "\n",
        "        target_seq = numpy.zeros((1, 1, num_decoder_tokens))\n",
        "        target_seq[0, 0, sampled_token_index] = 1.\n",
        "\n",
        "        states_value = [h, c]\n",
        "\n",
        "    return decoded_sentence\n"
      ]
    },
    {
      "cell_type": "code",
      "execution_count": 31,
      "metadata": {
        "colab": {
          "base_uri": "https://localhost:8080/"
        },
        "id": "j2Hm5vQNWaG2",
        "outputId": "09a800bc-eca6-43c8-bf8c-0997c8b21607"
      },
      "outputs": [
        {
          "name": "stdout",
          "output_type": "stream",
          "text": [
            "1/1 [==============================] - 1s 657ms/step\n",
            "1/1 [==============================] - 0s 360ms/step\n",
            "1/1 [==============================] - 0s 25ms/step\n",
            "1/1 [==============================] - 0s 23ms/step\n",
            "1/1 [==============================] - 0s 20ms/step\n",
            "1/1 [==============================] - 0s 24ms/step\n",
            "1/1 [==============================] - 0s 20ms/step\n",
            "1/1 [==============================] - 0s 19ms/step\n",
            "1/1 [==============================] - 0s 19ms/step\n",
            "1/1 [==============================] - 0s 26ms/step\n",
            "-\n",
            "English:        dont smoke\n",
            "Spanish (true):  no fumeis\n",
            "Spanish (pred):  no mires\n",
            "1/1 [==============================] - 0s 23ms/step\n",
            "1/1 [==============================] - 0s 24ms/step\n",
            "1/1 [==============================] - 0s 20ms/step\n",
            "1/1 [==============================] - 0s 22ms/step\n",
            "1/1 [==============================] - 0s 19ms/step\n",
            "1/1 [==============================] - 0s 19ms/step\n",
            "1/1 [==============================] - 0s 20ms/step\n",
            "1/1 [==============================] - 0s 18ms/step\n",
            "1/1 [==============================] - 0s 18ms/step\n",
            "1/1 [==============================] - 0s 21ms/step\n",
            "-\n",
            "English:        dont smoke\n",
            "Spanish (true):  no fumais\n",
            "Spanish (pred):  no mires\n",
            "1/1 [==============================] - 0s 17ms/step\n",
            "1/1 [==============================] - 0s 21ms/step\n",
            "1/1 [==============================] - 0s 20ms/step\n",
            "1/1 [==============================] - 0s 20ms/step\n",
            "1/1 [==============================] - 0s 20ms/step\n",
            "1/1 [==============================] - 0s 21ms/step\n",
            "1/1 [==============================] - 0s 20ms/step\n",
            "1/1 [==============================] - 0s 22ms/step\n",
            "1/1 [==============================] - 0s 20ms/step\n",
            "1/1 [==============================] - 0s 24ms/step\n",
            "1/1 [==============================] - 0s 19ms/step\n",
            "-\n",
            "English:        dont speak\n",
            "Spanish (true):  no hables\n",
            "Spanish (pred):  no hables\n",
            "1/1 [==============================] - 0s 18ms/step\n",
            "1/1 [==============================] - 0s 21ms/step\n",
            "1/1 [==============================] - 0s 19ms/step\n",
            "1/1 [==============================] - 0s 19ms/step\n",
            "1/1 [==============================] - 0s 18ms/step\n",
            "1/1 [==============================] - 0s 23ms/step\n",
            "1/1 [==============================] - 0s 21ms/step\n",
            "1/1 [==============================] - 0s 20ms/step\n",
            "1/1 [==============================] - 0s 20ms/step\n",
            "1/1 [==============================] - 0s 21ms/step\n",
            "1/1 [==============================] - 0s 18ms/step\n",
            "1/1 [==============================] - 0s 32ms/step\n",
            "-\n",
            "English:        dont worry\n",
            "Spanish (true):  no te preocupes\n",
            "Spanish (pred):  no chilles\n",
            "1/1 [==============================] - 0s 28ms/step\n",
            "1/1 [==============================] - 0s 37ms/step\n",
            "1/1 [==============================] - 0s 34ms/step\n",
            "1/1 [==============================] - 0s 48ms/step\n",
            "1/1 [==============================] - 0s 38ms/step\n",
            "1/1 [==============================] - 0s 38ms/step\n",
            "1/1 [==============================] - 0s 32ms/step\n",
            "1/1 [==============================] - 0s 31ms/step\n",
            "1/1 [==============================] - 0s 30ms/step\n",
            "1/1 [==============================] - 0s 39ms/step\n",
            "1/1 [==============================] - 0s 30ms/step\n",
            "1/1 [==============================] - 0s 31ms/step\n",
            "-\n",
            "English:        dont worry\n",
            "Spanish (true):  no os preocupeis\n",
            "Spanish (pred):  no chilles\n",
            "1/1 [==============================] - 0s 27ms/step\n",
            "1/1 [==============================] - 0s 29ms/step\n",
            "1/1 [==============================] - 0s 28ms/step\n",
            "1/1 [==============================] - 0s 30ms/step\n",
            "1/1 [==============================] - 0s 30ms/step\n",
            "1/1 [==============================] - 0s 35ms/step\n",
            "1/1 [==============================] - 0s 28ms/step\n",
            "1/1 [==============================] - 0s 32ms/step\n",
            "1/1 [==============================] - 0s 31ms/step\n",
            "1/1 [==============================] - 0s 33ms/step\n",
            "1/1 [==============================] - 0s 40ms/step\n",
            "1/1 [==============================] - 0s 23ms/step\n",
            "-\n",
            "English:        dont worry\n",
            "Spanish (true):  no se preocupen\n",
            "Spanish (pred):  no chilles\n",
            "1/1 [==============================] - 0s 20ms/step\n",
            "1/1 [==============================] - 0s 19ms/step\n",
            "1/1 [==============================] - 0s 20ms/step\n",
            "1/1 [==============================] - 0s 21ms/step\n",
            "1/1 [==============================] - 0s 21ms/step\n",
            "1/1 [==============================] - 0s 21ms/step\n",
            "1/1 [==============================] - 0s 28ms/step\n",
            "1/1 [==============================] - 0s 21ms/step\n",
            "1/1 [==============================] - 0s 21ms/step\n",
            "1/1 [==============================] - 0s 19ms/step\n",
            "1/1 [==============================] - 0s 23ms/step\n",
            "1/1 [==============================] - 0s 19ms/step\n",
            "1/1 [==============================] - 0s 21ms/step\n",
            "1/1 [==============================] - 0s 20ms/step\n",
            "-\n",
            "English:        finish this\n",
            "Spanish (true):  termine esto\n",
            "Spanish (pred):  termina esto\n",
            "1/1 [==============================] - 0s 20ms/step\n",
            "1/1 [==============================] - 0s 20ms/step\n",
            "1/1 [==============================] - 0s 21ms/step\n",
            "1/1 [==============================] - 0s 23ms/step\n",
            "1/1 [==============================] - 0s 20ms/step\n",
            "1/1 [==============================] - 0s 19ms/step\n",
            "1/1 [==============================] - 0s 24ms/step\n",
            "1/1 [==============================] - 0s 23ms/step\n",
            "1/1 [==============================] - 0s 24ms/step\n",
            "1/1 [==============================] - 0s 21ms/step\n",
            "1/1 [==============================] - 0s 21ms/step\n",
            "1/1 [==============================] - 0s 19ms/step\n",
            "1/1 [==============================] - 0s 19ms/step\n",
            "1/1 [==============================] - 0s 21ms/step\n",
            "-\n",
            "English:        finish this\n",
            "Spanish (true):  termina esto\n",
            "Spanish (pred):  termina esto\n",
            "1/1 [==============================] - 0s 19ms/step\n",
            "1/1 [==============================] - 0s 23ms/step\n",
            "1/1 [==============================] - 0s 24ms/step\n",
            "1/1 [==============================] - 0s 19ms/step\n",
            "1/1 [==============================] - 0s 20ms/step\n",
            "1/1 [==============================] - 0s 22ms/step\n",
            "1/1 [==============================] - 0s 26ms/step\n",
            "1/1 [==============================] - 0s 19ms/step\n",
            "1/1 [==============================] - 0s 23ms/step\n",
            "1/1 [==============================] - 0s 19ms/step\n",
            "1/1 [==============================] - 0s 19ms/step\n",
            "1/1 [==============================] - 0s 23ms/step\n",
            "1/1 [==============================] - 0s 20ms/step\n",
            "1/1 [==============================] - 0s 20ms/step\n",
            "-\n",
            "English:        finish this\n",
            "Spanish (true):  termina esto\n",
            "Spanish (pred):  termina esto\n",
            "1/1 [==============================] - 0s 19ms/step\n",
            "1/1 [==============================] - 0s 20ms/step\n",
            "1/1 [==============================] - 0s 19ms/step\n",
            "1/1 [==============================] - 0s 20ms/step\n",
            "1/1 [==============================] - 0s 19ms/step\n",
            "1/1 [==============================] - 0s 21ms/step\n",
            "1/1 [==============================] - 0s 20ms/step\n",
            "1/1 [==============================] - 0s 20ms/step\n",
            "1/1 [==============================] - 0s 18ms/step\n",
            "1/1 [==============================] - 0s 20ms/step\n",
            "1/1 [==============================] - 0s 23ms/step\n",
            "1/1 [==============================] - 0s 21ms/step\n",
            "1/1 [==============================] - 0s 20ms/step\n",
            "1/1 [==============================] - 0s 30ms/step\n",
            "-\n",
            "English:        finish this\n",
            "Spanish (true):  terminen esto\n",
            "Spanish (pred):  termina esto\n",
            "1/1 [==============================] - 0s 22ms/step\n",
            "1/1 [==============================] - 0s 24ms/step\n",
            "1/1 [==============================] - 0s 22ms/step\n",
            "1/1 [==============================] - 0s 20ms/step\n",
            "1/1 [==============================] - 0s 18ms/step\n",
            "1/1 [==============================] - 0s 24ms/step\n",
            "1/1 [==============================] - 0s 20ms/step\n",
            "1/1 [==============================] - 0s 19ms/step\n",
            "1/1 [==============================] - 0s 23ms/step\n",
            "1/1 [==============================] - 0s 18ms/step\n",
            "1/1 [==============================] - 0s 18ms/step\n",
            "1/1 [==============================] - 0s 20ms/step\n",
            "1/1 [==============================] - 0s 21ms/step\n",
            "1/1 [==============================] - 0s 19ms/step\n",
            "-\n",
            "English:        finish this\n",
            "Spanish (true):  terminad esto\n",
            "Spanish (pred):  termina esto\n",
            "1/1 [==============================] - 0s 22ms/step\n",
            "1/1 [==============================] - 0s 20ms/step\n",
            "1/1 [==============================] - 0s 18ms/step\n",
            "1/1 [==============================] - 0s 20ms/step\n",
            "1/1 [==============================] - 0s 20ms/step\n",
            "1/1 [==============================] - 0s 24ms/step\n",
            "1/1 [==============================] - 0s 18ms/step\n",
            "1/1 [==============================] - 0s 23ms/step\n",
            "1/1 [==============================] - 0s 20ms/step\n",
            "1/1 [==============================] - 0s 22ms/step\n",
            "1/1 [==============================] - 0s 20ms/step\n",
            "1/1 [==============================] - 0s 19ms/step\n",
            "1/1 [==============================] - 0s 20ms/step\n",
            "1/1 [==============================] - 0s 22ms/step\n",
            "1/1 [==============================] - 0s 19ms/step\n",
            "1/1 [==============================] - 0s 22ms/step\n",
            "1/1 [==============================] - 0s 21ms/step\n",
            "1/1 [==============================] - 0s 22ms/step\n",
            "1/1 [==============================] - 0s 23ms/step\n",
            "1/1 [==============================] - 0s 20ms/step\n",
            "-\n",
            "English:        flip a coin\n",
            "Spanish (true):  lanza una moneda\n",
            "Spanish (pred):  encregun mis delas\n",
            "1/1 [==============================] - 0s 34ms/step\n",
            "1/1 [==============================] - 0s 19ms/step\n",
            "1/1 [==============================] - 0s 20ms/step\n",
            "1/1 [==============================] - 0s 18ms/step\n",
            "1/1 [==============================] - 0s 18ms/step\n",
            "1/1 [==============================] - 0s 21ms/step\n",
            "1/1 [==============================] - 0s 22ms/step\n",
            "1/1 [==============================] - 0s 22ms/step\n",
            "1/1 [==============================] - 0s 20ms/step\n",
            "1/1 [==============================] - 0s 20ms/step\n",
            "1/1 [==============================] - 0s 21ms/step\n",
            "1/1 [==============================] - 0s 21ms/step\n",
            "1/1 [==============================] - 0s 18ms/step\n",
            "1/1 [==============================] - 0s 21ms/step\n",
            "1/1 [==============================] - 0s 18ms/step\n",
            "1/1 [==============================] - 0s 21ms/step\n",
            "1/1 [==============================] - 0s 26ms/step\n",
            "1/1 [==============================] - 0s 20ms/step\n",
            "1/1 [==============================] - 0s 20ms/step\n",
            "1/1 [==============================] - 0s 20ms/step\n",
            "-\n",
            "English:        flip a coin\n",
            "Spanish (true):  tira una moneda al aire\n",
            "Spanish (pred):  encregun mis delas\n",
            "1/1 [==============================] - 0s 19ms/step\n",
            "1/1 [==============================] - 0s 20ms/step\n",
            "1/1 [==============================] - 0s 20ms/step\n",
            "1/1 [==============================] - 0s 22ms/step\n",
            "1/1 [==============================] - 0s 23ms/step\n",
            "1/1 [==============================] - 0s 21ms/step\n",
            "1/1 [==============================] - 0s 23ms/step\n",
            "1/1 [==============================] - 0s 20ms/step\n",
            "1/1 [==============================] - 0s 22ms/step\n",
            "1/1 [==============================] - 0s 26ms/step\n",
            "1/1 [==============================] - 0s 22ms/step\n",
            "1/1 [==============================] - 0s 21ms/step\n",
            "1/1 [==============================] - 0s 22ms/step\n",
            "1/1 [==============================] - 0s 20ms/step\n",
            "1/1 [==============================] - 0s 21ms/step\n",
            "1/1 [==============================] - 0s 22ms/step\n",
            "1/1 [==============================] - 0s 20ms/step\n",
            "1/1 [==============================] - 0s 20ms/step\n",
            "1/1 [==============================] - 0s 19ms/step\n",
            "-\n",
            "English:        forgive tom\n",
            "Spanish (true):  disculpe a tom\n",
            "Spanish (pred):  olvidate de tomas\n",
            "1/1 [==============================] - 0s 18ms/step\n",
            "1/1 [==============================] - 0s 19ms/step\n",
            "1/1 [==============================] - 0s 18ms/step\n",
            "1/1 [==============================] - 0s 20ms/step\n",
            "1/1 [==============================] - 0s 19ms/step\n",
            "1/1 [==============================] - 0s 21ms/step\n",
            "1/1 [==============================] - 0s 23ms/step\n",
            "1/1 [==============================] - 0s 19ms/step\n",
            "1/1 [==============================] - 0s 20ms/step\n",
            "1/1 [==============================] - 0s 21ms/step\n",
            "1/1 [==============================] - 0s 22ms/step\n",
            "1/1 [==============================] - 0s 19ms/step\n",
            "1/1 [==============================] - 0s 20ms/step\n",
            "1/1 [==============================] - 0s 20ms/step\n",
            "1/1 [==============================] - 0s 23ms/step\n",
            "1/1 [==============================] - 0s 22ms/step\n",
            "1/1 [==============================] - 0s 28ms/step\n",
            "1/1 [==============================] - 0s 19ms/step\n",
            "1/1 [==============================] - 0s 21ms/step\n",
            "-\n",
            "English:        forgive tom\n",
            "Spanish (true):  disculpa a tom\n",
            "Spanish (pred):  olvidate de tomas\n",
            "1/1 [==============================] - 0s 22ms/step\n",
            "1/1 [==============================] - 0s 25ms/step\n",
            "1/1 [==============================] - 0s 21ms/step\n",
            "1/1 [==============================] - 0s 39ms/step\n",
            "1/1 [==============================] - 0s 35ms/step\n",
            "1/1 [==============================] - 0s 30ms/step\n",
            "1/1 [==============================] - 0s 36ms/step\n",
            "1/1 [==============================] - 0s 35ms/step\n",
            "1/1 [==============================] - 0s 32ms/step\n",
            "-\n",
            "English:        get dressed\n",
            "Spanish (true):  vistete\n",
            "Spanish (pred):  vuetete\n",
            "1/1 [==============================] - 0s 33ms/step\n",
            "1/1 [==============================] - 0s 31ms/step\n",
            "1/1 [==============================] - 0s 32ms/step\n",
            "1/1 [==============================] - 0s 30ms/step\n",
            "1/1 [==============================] - 0s 32ms/step\n",
            "1/1 [==============================] - 0s 33ms/step\n",
            "1/1 [==============================] - 0s 33ms/step\n",
            "1/1 [==============================] - 0s 31ms/step\n",
            "1/1 [==============================] - 0s 32ms/step\n",
            "-\n",
            "English:        get dressed\n",
            "Spanish (true):  vestite\n",
            "Spanish (pred):  vuetete\n",
            "1/1 [==============================] - 0s 32ms/step\n",
            "1/1 [==============================] - 0s 35ms/step\n",
            "1/1 [==============================] - 0s 29ms/step\n",
            "1/1 [==============================] - 0s 32ms/step\n",
            "1/1 [==============================] - 0s 37ms/step\n",
            "1/1 [==============================] - 0s 36ms/step\n",
            "1/1 [==============================] - 0s 35ms/step\n",
            "1/1 [==============================] - 0s 34ms/step\n",
            "1/1 [==============================] - 0s 31ms/step\n",
            "1/1 [==============================] - 0s 34ms/step\n",
            "1/1 [==============================] - 0s 24ms/step\n",
            "1/1 [==============================] - 0s 21ms/step\n",
            "1/1 [==============================] - 0s 23ms/step\n",
            "-\n",
            "English:        get in here\n",
            "Spanish (true):  entra aqui\n",
            "Spanish (pred):  vetete aqui\n",
            "1/1 [==============================] - 0s 26ms/step\n",
            "1/1 [==============================] - 0s 20ms/step\n",
            "1/1 [==============================] - 0s 20ms/step\n",
            "1/1 [==============================] - 0s 21ms/step\n",
            "1/1 [==============================] - 0s 23ms/step\n",
            "1/1 [==============================] - 0s 22ms/step\n",
            "1/1 [==============================] - 0s 26ms/step\n",
            "1/1 [==============================] - 0s 22ms/step\n",
            "1/1 [==============================] - 0s 20ms/step\n",
            "1/1 [==============================] - 0s 21ms/step\n",
            "1/1 [==============================] - 0s 22ms/step\n",
            "1/1 [==============================] - 0s 20ms/step\n",
            "-\n",
            "English:        get serious\n",
            "Spanish (true):  ponte serio\n",
            "Spanish (pred):  vete deses\n",
            "1/1 [==============================] - 0s 21ms/step\n",
            "1/1 [==============================] - 0s 23ms/step\n",
            "1/1 [==============================] - 0s 21ms/step\n",
            "1/1 [==============================] - 0s 20ms/step\n",
            "1/1 [==============================] - 0s 21ms/step\n",
            "1/1 [==============================] - 0s 22ms/step\n",
            "1/1 [==============================] - 0s 20ms/step\n",
            "1/1 [==============================] - 0s 29ms/step\n",
            "1/1 [==============================] - 0s 25ms/step\n",
            "1/1 [==============================] - 0s 24ms/step\n",
            "1/1 [==============================] - 0s 26ms/step\n",
            "1/1 [==============================] - 0s 25ms/step\n",
            "1/1 [==============================] - 0s 24ms/step\n",
            "1/1 [==============================] - 0s 27ms/step\n",
            "-\n",
            "English:        get started\n",
            "Spanish (true):  empieza\n",
            "Spanish (pred):  vete de aqui\n"
          ]
        }
      ],
      "source": [
        "for seq_index in range(2100, 2120):\n",
        "    # Take one sequence (part of the training set)\n",
        "    # for trying out decoding.\n",
        "    input_seq = encoder_input_data[seq_index: seq_index + 1]\n",
        "    decoded_sentence = decode_sequence(input_seq)\n",
        "    print('-')\n",
        "    print('English:       ', input_texts[seq_index])\n",
        "    print('Spanish (true): ', target_texts[seq_index][1:-1])\n",
        "    print('Spanish (pred): ', decoded_sentence[0:-1])\n"
      ]
    },
    {
      "cell_type": "markdown",
      "metadata": {
        "id": "cMDsWHnsWaG2"
      },
      "source": [
        "### 4.2. Translate an English sentence to the target language （20 points）\n",
        "\n",
        "1. Tokenization\n",
        "2. One-hot encode\n",
        "3. Translate"
      ]
    },
    {
      "cell_type": "code",
      "execution_count": 32,
      "metadata": {
        "colab": {
          "base_uri": "https://localhost:8080/"
        },
        "id": "GbJaIv_3WaG2",
        "outputId": "327888c4-447f-4a57-b7d7-74794d22e6ad"
      },
      "outputs": [
        {
          "name": "stdout",
          "output_type": "stream",
          "text": [
            "1/1 [==============================] - 0s 20ms/step\n",
            "1/1 [==============================] - 0s 22ms/step\n",
            "1/1 [==============================] - 0s 22ms/step\n",
            "1/1 [==============================] - 0s 21ms/step\n",
            "1/1 [==============================] - 0s 24ms/step\n",
            "1/1 [==============================] - 0s 24ms/step\n",
            "1/1 [==============================] - 0s 22ms/step\n",
            "1/1 [==============================] - 0s 21ms/step\n",
            "[[ 5  1 12  4 22  2  1 14  4 15  0  0  0  0  0  0  0  0]]\n",
            "source sentence is: i love you\n",
            "translated sentence is: te amo\n",
            "\n"
          ]
        }
      ],
      "source": [
        "input_sentence = 'I love you'\n",
        "input_sentence = input_sentence.lower()\n",
        "ip_seq = []\n",
        "\n",
        "for char in input_sentence:\n",
        "  ip_seq.append(input_token_index[char])\n",
        "\n",
        "\n",
        "\n",
        "input_sequence = [ip_seq]\n",
        "pad = pad_sequences(input_sequence, maxlen=max_encoder_seq_length, padding='post')\n",
        "\n",
        "\n",
        "input_x = onehot_encode(pad, max_encoder_seq_length, num_encoder_tokens)\n",
        "\n",
        "translated_sentence = decode_sequence(input_x)\n",
        "print(pad)\n",
        "print('source sentence is: ' + input_sentence)\n",
        "print('translated sentence is: ' + translated_sentence)"
      ]
    },
    {
      "cell_type": "markdown",
      "metadata": {
        "id": "3vF0RUTfWaG3"
      },
      "source": [
        "# 5. Evaluate the translation using BLEU score\n",
        "\n",
        "- We have already translated from English to target language, but how can we evaluate the performance of our model quantitatively? \n",
        "\n",
        "- In this section, you need to re-train the model we built in secton 3 and then evaluate the bleu score on testing dataset.\n",
        "\n",
        "Reference:\n",
        "\n",
        "https://machinelearningmastery.com/calculate-bleu-score-for-text-python/\n",
        "\n",
        "https://en.wikipedia.org/wiki/BLEU\n",
        "\n",
        "#### Hint:\n",
        "\n",
        "- Randomly partition the dataset to training, validation, and test.\n",
        "\n",
        "- Evaluate the BLEU score using the test set. Report the average.\n",
        "\n",
        "- You may use packages to calculate bleu score, e.g., sentence_bleu() from nltk package."
      ]
    },
    {
      "cell_type": "markdown",
      "metadata": {
        "id": "HoxJpxTpWaG3"
      },
      "source": [
        "### 5.1. Partition the dataset to training, validation, and test. Build new token index. (10 points)\n",
        "\n",
        "1. You may try to load more data/lines from text file.\n",
        "2. Convert text to sequences and build token index using training data.\n",
        "3. One-hot encode your training and validation text sequences."
      ]
    },
    {
      "cell_type": "code",
      "execution_count": 33,
      "metadata": {
        "id": "QQ8VxycvWaG3"
      },
      "outputs": [],
      "source": [
        "# load dataset\n",
        "doc = load_doc(filename)\n",
        "\n",
        "# split into Language1-Language2 pairs\n",
        "pairs = to_pairs(doc)\n",
        "\n",
        "# clean sentences\n",
        "clean_pairs = clean_data(pairs)\n",
        "total_size = 100000\n",
        "rand_indices = numpy.random.permutation(total_size)\n",
        "train_indices = rand_indices[0:50000]\n",
        "val_indices = rand_indices[50000:70000]\n",
        "test_indices = rand_indices[70000:100000]\n",
        "\n",
        "clean_pairs_train = clean_pairs[train_indices, :]\n",
        "clean_pairs_val = clean_pairs[val_indices, :]\n",
        "clean_pairs_test = clean_pairs[test_indices, :]"
      ]
    },
    {
      "cell_type": "code",
      "execution_count": 34,
      "metadata": {
        "id": "Tm30PWLyyVTP"
      },
      "outputs": [],
      "source": [
        "# Training\n",
        "input_texts_train = clean_pairs_train[:, 0]\n",
        "target_texts_train = ['\\t' + text + '\\n' for text in clean_pairs_train[:, 1]]\n",
        "\n",
        "# Validation\n",
        "input_texts_val = clean_pairs_val[:, 0]\n",
        "target_texts_val = ['\\t' + text + '\\n' for text in clean_pairs_val[:, 1]]\n",
        "\n",
        "# Testing\n",
        "input_texts_test = clean_pairs_test[:, 0]\n",
        "target_texts_test = ['\\t' + text + '\\n' for text in clean_pairs_test[:, 1]]"
      ]
    },
    {
      "cell_type": "code",
      "execution_count": 35,
      "metadata": {
        "colab": {
          "base_uri": "https://localhost:8080/"
        },
        "id": "R-xXNFadycwo",
        "outputId": "1db638f8-217f-4f97-8197-01e997dc41a9"
      },
      "outputs": [
        {
          "name": "stdout",
          "output_type": "stream",
          "text": [
            "35\n",
            "68\n"
          ]
        }
      ],
      "source": [
        "max_encoder_seq_length = max(len(line) for line in input_texts_train)\n",
        "max_decoder_seq_length = max(len(line) for line in target_texts_train)\n",
        "\n",
        "print(max_encoder_seq_length)\n",
        "print(max_decoder_seq_length)"
      ]
    },
    {
      "cell_type": "code",
      "execution_count": 36,
      "metadata": {
        "colab": {
          "base_uri": "https://localhost:8080/"
        },
        "id": "UFTidxZHyncx",
        "outputId": "052648e1-f696-4e9c-d637-cae7830e6e53"
      },
      "outputs": [
        {
          "name": "stdout",
          "output_type": "stream",
          "text": [
            "shape of encoder_input_seq_train: (50000, 35)\n",
            "shape of input_token_index_train: 27\n",
            "shape of decoder_input_seq_train: (50000, 68)\n",
            "shape of target_token_index_train: 29\n"
          ]
        }
      ],
      "source": [
        "encoder_input_seq_train, input_token_index_train = text2sequences(max_encoder_seq_length, \n",
        "                                                      input_texts_train)\n",
        "decoder_input_seq_train, target_token_index_train = text2sequences(max_decoder_seq_length, \n",
        "                                                       target_texts_train)\n",
        "\n",
        "print('shape of encoder_input_seq_train: ' + str(encoder_input_seq_train.shape))\n",
        "print('shape of input_token_index_train: ' + str(len(input_token_index_train)))\n",
        "print('shape of decoder_input_seq_train: ' + str(decoder_input_seq_train.shape))\n",
        "print('shape of target_token_index_train: ' + str(len(target_token_index_train)))"
      ]
    },
    {
      "cell_type": "code",
      "execution_count": 37,
      "metadata": {
        "colab": {
          "base_uri": "https://localhost:8080/"
        },
        "id": "9-A_f-eAyqUl",
        "outputId": "ab6fa8a1-7028-4b6b-9887-6b8ef90361de"
      },
      "outputs": [
        {
          "name": "stdout",
          "output_type": "stream",
          "text": [
            "shape of encoder_input_seq_val: (20000, 35)\n",
            "shape of input_token_index_val: 27\n",
            "shape of decoder_input_seq_val: (20000, 68)\n",
            "shape of target_token_index_val: 29\n"
          ]
        }
      ],
      "source": [
        "encoder_input_seq_val, input_token_index_val = text2sequences(max_encoder_seq_length, \n",
        "                                                      input_texts_val)\n",
        "decoder_input_seq_val, target_token_index_val = text2sequences(max_decoder_seq_length, \n",
        "                                                       target_texts_val)\n",
        "\n",
        "print('shape of encoder_input_seq_val: ' + str(encoder_input_seq_val.shape))\n",
        "print('shape of input_token_index_val: ' + str(len(input_token_index_val)))\n",
        "print('shape of decoder_input_seq_val: ' + str(decoder_input_seq_val.shape))\n",
        "print('shape of target_token_index_val: ' + str(len(target_token_index_val)))"
      ]
    },
    {
      "cell_type": "code",
      "execution_count": 38,
      "metadata": {
        "colab": {
          "base_uri": "https://localhost:8080/"
        },
        "id": "d4t63kBzysJI",
        "outputId": "6aba2c40-8b17-42fd-9604-a65729ea8ffb"
      },
      "outputs": [
        {
          "name": "stdout",
          "output_type": "stream",
          "text": [
            "num_encoder_tokens: 28\n",
            "num_decoder_tokens: 30\n"
          ]
        }
      ],
      "source": [
        "num_encoder_tokens = len(input_token_index_train) + 1\n",
        "num_decoder_tokens = len(target_token_index_train) + 1\n",
        "\n",
        "print('num_encoder_tokens: ' + str(num_encoder_tokens))\n",
        "print('num_decoder_tokens: ' + str(num_decoder_tokens))"
      ]
    },
    {
      "cell_type": "code",
      "execution_count": 39,
      "metadata": {
        "colab": {
          "base_uri": "https://localhost:8080/"
        },
        "id": "jbC22o_JyvE0",
        "outputId": "d0657a17-a86a-49ce-85bf-dc6c58195f86"
      },
      "outputs": [
        {
          "name": "stdout",
          "output_type": "stream",
          "text": [
            "(50000, 35, 28)\n",
            "(50000, 68, 30)\n"
          ]
        }
      ],
      "source": [
        "encoder_input_data_train = onehot_encode(encoder_input_seq_train, max_encoder_seq_length, num_encoder_tokens)\n",
        "decoder_input_data_train = onehot_encode(decoder_input_seq_train, max_decoder_seq_length, num_decoder_tokens)\n",
        "\n",
        "decoder_target_seq_train = numpy.zeros(decoder_input_seq_train.shape)\n",
        "decoder_target_seq_train[:, 0:-1] = decoder_input_seq_train[:, 1:]\n",
        "decoder_target_data_train = onehot_encode(decoder_target_seq_train, \n",
        "                                    max_decoder_seq_length, \n",
        "                                    num_decoder_tokens)\n",
        "\n",
        "print(encoder_input_data_train.shape)\n",
        "print(decoder_input_data_train.shape)"
      ]
    },
    {
      "cell_type": "code",
      "execution_count": 40,
      "metadata": {
        "colab": {
          "base_uri": "https://localhost:8080/"
        },
        "id": "w6YihaWCyx2n",
        "outputId": "c21a73aa-8b7d-4e31-cb0c-ad44a1d49f89"
      },
      "outputs": [
        {
          "name": "stdout",
          "output_type": "stream",
          "text": [
            "(20000, 35, 28)\n",
            "(20000, 68, 30)\n"
          ]
        }
      ],
      "source": [
        "encoder_input_data_val = onehot_encode(encoder_input_seq_val, max_encoder_seq_length, num_encoder_tokens)\n",
        "decoder_input_data_val = onehot_encode(decoder_input_seq_val, max_decoder_seq_length, num_decoder_tokens)\n",
        "\n",
        "decoder_target_seq_val = numpy.zeros(decoder_input_seq_val.shape)\n",
        "decoder_target_seq_val[:, 0:-1] = decoder_input_seq_val[:, 1:]\n",
        "decoder_target_data_val = onehot_encode(decoder_target_seq_val, \n",
        "                                    max_decoder_seq_length, \n",
        "                                    num_decoder_tokens)\n",
        "\n",
        "print(encoder_input_data_val.shape)\n",
        "print(decoder_input_data_val.shape)"
      ]
    },
    {
      "cell_type": "markdown",
      "metadata": {
        "id": "IWkY8wjZWaG3"
      },
      "source": [
        "### 5.2 Retrain your previous Bidirectional LSTM model with training and validation data and tune the parameters (learning rate, optimizer, etc) based on validation score. (25 points)\n",
        "\n",
        "1. Use the model structure in section 3 to train a new model with new training and validation datasets.\n",
        "2. Based on validation BLEU score or loss to tune parameters."
      ]
    },
    {
      "cell_type": "code",
      "execution_count": 41,
      "metadata": {
        "id": "K-co3WoCWaG3"
      },
      "outputs": [],
      "source": [
        "from tensorflow import keras\n",
        "model.load_weights('model_weights.h5')\n",
        "model.compile(optimizer=keras.optimizers.Adam(learning_rate=0.001),\n",
        "              loss='categorical_crossentropy')\n"
      ]
    },
    {
      "cell_type": "code",
      "execution_count": 42,
      "metadata": {
        "colab": {
          "base_uri": "https://localhost:8080/"
        },
        "id": "_WGsqT-AEbWj",
        "outputId": "727e7c77-79dd-44dd-c20b-e2a719f3eb14"
      },
      "outputs": [
        {
          "name": "stdout",
          "output_type": "stream",
          "text": [
            "Epoch 1/40\n",
            "1563/1563 [==============================] - 37s 21ms/step - loss: 0.8518 - val_loss: 0.8454\n",
            "Epoch 2/40\n",
            "1563/1563 [==============================] - 30s 19ms/step - loss: 0.7622 - val_loss: 0.8042\n",
            "Epoch 3/40\n",
            "1563/1563 [==============================] - 31s 20ms/step - loss: 0.7233 - val_loss: 0.7861\n",
            "Epoch 4/40\n",
            "1563/1563 [==============================] - 30s 19ms/step - loss: 0.6967 - val_loss: 0.7715\n",
            "Epoch 5/40\n",
            "1563/1563 [==============================] - 29s 19ms/step - loss: 0.6775 - val_loss: 0.7668\n",
            "Epoch 6/40\n",
            "1563/1563 [==============================] - 30s 19ms/step - loss: 0.6622 - val_loss: 0.7625\n",
            "Epoch 7/40\n",
            "1563/1563 [==============================] - 29s 19ms/step - loss: 0.6503 - val_loss: 0.7604\n",
            "Epoch 8/40\n",
            "1563/1563 [==============================] - 29s 19ms/step - loss: 0.6392 - val_loss: 0.7651\n",
            "Epoch 9/40\n",
            "1563/1563 [==============================] - 30s 19ms/step - loss: 0.6301 - val_loss: 0.7668\n",
            "Epoch 10/40\n",
            "1563/1563 [==============================] - 30s 19ms/step - loss: 0.6225 - val_loss: 0.7749\n",
            "Epoch 11/40\n",
            "1563/1563 [==============================] - 31s 20ms/step - loss: 0.6159 - val_loss: 0.7762\n",
            "Epoch 12/40\n",
            "1563/1563 [==============================] - 31s 20ms/step - loss: 0.6092 - val_loss: 0.7788\n",
            "Epoch 12: early stopping\n"
          ]
        },
        {
          "data": {
            "text/plain": [
              "<keras.callbacks.History at 0x7ff8106f7a00>"
            ]
          },
          "execution_count": 42,
          "metadata": {},
          "output_type": "execute_result"
        }
      ],
      "source": [
        "model.fit([encoder_input_data_train, decoder_input_data_train],\n",
        "               decoder_target_data_train, epochs=40,\n",
        "               validation_data=([encoder_input_data_val, decoder_input_data_val], decoder_target_data_val),\n",
        "               callbacks=[keras.callbacks.EarlyStopping(monitor='val_loss', patience=5, verbose=3, mode='auto')])"
      ]
    },
    {
      "cell_type": "code",
      "execution_count": 43,
      "metadata": {
        "id": "YepJ97bDM8Ks"
      },
      "outputs": [],
      "source": [
        "model.save('seq2seq_retrained.h5')"
      ]
    },
    {
      "cell_type": "markdown",
      "metadata": {
        "id": "RtDwOwSVWaG3"
      },
      "source": [
        "### 5.3 Evaluate the BLEU score using the test set. (15 points)\n",
        "\n",
        "1. Use trained model above to calculate the BLEU score with testing dataset.\n",
        "2. A reasonable should be 0.1-0.3. The higher, the better."
      ]
    },
    {
      "cell_type": "code",
      "execution_count": 44,
      "metadata": {
        "id": "gpCRy5d96TlH"
      },
      "outputs": [],
      "source": [
        "from nltk.translate.bleu_score import sentence_bleu, SmoothingFunction\n",
        "\n",
        "smoothing_function = SmoothingFunction().method2\n",
        "\n",
        "blue_scores = []\n",
        "\n",
        "encoder_input_seq_test, input_token_index_test = text2sequences(max_encoder_seq_length, \n",
        "                                                      input_texts_test)\n",
        "\n",
        "encoder_input_data_test = onehot_encode(encoder_input_seq_test, max_encoder_seq_length, num_encoder_tokens)"
      ]
    },
    {
      "cell_type": "code",
      "execution_count": 45,
      "metadata": {
        "id": "9qr1CuJ0NKhF"
      },
      "outputs": [],
      "source": [
        "reverse_input_char_index = dict((i, char) for char, i in input_token_index_train.items())\n",
        "reverse_target_char_index = dict((i, char) for char, i in target_token_index_train.items())"
      ]
    },
    {
      "cell_type": "code",
      "execution_count": 46,
      "metadata": {
        "colab": {
          "base_uri": "https://localhost:8080/"
        },
        "id": "78bIObn6NOOG",
        "outputId": "96f61667-e43d-4b9f-84bf-f37b3d01ab05"
      },
      "outputs": [
        {
          "name": "stdout",
          "output_type": "stream",
          "text": [
            "shape of encoder_input_seq_test: (30000, 35)\n",
            "shape of input_token_index_test: 27\n",
            "shape of decoder_input_seq_test: (30000, 68)\n",
            "shape of target_token_index_test: 29\n"
          ]
        }
      ],
      "source": [
        "encoder_input_seq_test, input_token_index_test = text2sequences(max_encoder_seq_length, \n",
        "                                                      input_texts_test)\n",
        "decoder_input_seq_test, target_token_index_test = text2sequences(max_decoder_seq_length, \n",
        "                                                       target_texts_test)\n",
        "\n",
        "print('shape of encoder_input_seq_test: ' + str(encoder_input_seq_test.shape))\n",
        "print('shape of input_token_index_test: ' + str(len(input_token_index_test)))\n",
        "print('shape of decoder_input_seq_test: ' + str(decoder_input_seq_test.shape))\n",
        "print('shape of target_token_index_test: ' + str(len(target_token_index_test)))"
      ]
    },
    {
      "cell_type": "code",
      "execution_count": 47,
      "metadata": {
        "colab": {
          "base_uri": "https://localhost:8080/"
        },
        "id": "0oOqrLOZNP7i",
        "outputId": "1e68d0e7-a6be-4a61-e862-2343d0ad895c"
      },
      "outputs": [
        {
          "name": "stdout",
          "output_type": "stream",
          "text": [
            "(30000, 35, 28)\n",
            "(30000, 68, 30)\n"
          ]
        }
      ],
      "source": [
        "encoder_input_data_test = onehot_encode(encoder_input_seq_test, max_encoder_seq_length, num_encoder_tokens)\n",
        "decoder_input_data_test = onehot_encode(decoder_input_seq_test, max_decoder_seq_length, num_decoder_tokens)\n",
        "\n",
        "decoder_target_seq_test = numpy.zeros(decoder_input_seq_test.shape)\n",
        "decoder_target_seq_test[:, 0:-1] = decoder_input_seq_test[:, 1:]\n",
        "decoder_target_data_test = onehot_encode(decoder_target_seq_test, \n",
        "                                    max_decoder_seq_length, \n",
        "                                    num_decoder_tokens)\n",
        "\n",
        "print(encoder_input_data_test.shape)\n",
        "print(decoder_input_data_test.shape)"
      ]
    },
    {
      "cell_type": "code",
      "execution_count": 48,
      "metadata": {
        "id": "UaQP-Y-nNSM7"
      },
      "outputs": [],
      "source": [
        "reverse_input_char_index = dict((i, char) for char, i in input_token_index_test.items())\n",
        "reverse_target_char_index = dict((i, char) for char, i in target_token_index_test.items())"
      ]
    },
    {
      "cell_type": "code",
      "execution_count": 49,
      "metadata": {
        "id": "y-PwixbCNUrP"
      },
      "outputs": [],
      "source": [
        "def decode_sequence(input_seq):\n",
        "    states_value = encoder_model.predict(input_seq, verbose='none')\n",
        "\n",
        "    target_seq = numpy.zeros((1, 1, num_decoder_tokens))\n",
        "    target_seq[0, 0, target_token_index['\\t']] = 1.\n",
        "\n",
        "    stop_condition = False\n",
        "    decoded_sentence = ''\n",
        "    while not stop_condition:\n",
        "        output_tokens, h, c = decoder_model.predict([target_seq] + states_value,\n",
        "                                                    verbose='none')\n",
        "\n",
        "        # this line of code is greedy selection\n",
        "        # try to use multinomial sampling instead (with temperature)\n",
        "        sampled_token_index = numpy.argmax(output_tokens[0, -1, :])\n",
        "        \n",
        "        sampled_char = reverse_target_char_index[sampled_token_index]\n",
        "        decoded_sentence += sampled_char\n",
        "\n",
        "        if (sampled_char == '\\n' or\n",
        "           len(decoded_sentence) > max_decoder_seq_length):\n",
        "            stop_condition = True\n",
        "\n",
        "        target_seq = numpy.zeros((1, 1, num_decoder_tokens))\n",
        "        target_seq[0, 0, sampled_token_index] = 1.\n",
        "\n",
        "        states_value = [h, c]\n",
        "\n",
        "    return decoded_sentence\n"
      ]
    },
    {
      "cell_type": "code",
      "execution_count": 52,
      "metadata": {
        "colab": {
          "base_uri": "https://localhost:8080/"
        },
        "id": "LUzuNwccNXUS",
        "outputId": "69235384-890d-43a6-a1a8-2cacae1a5fa6"
      },
      "outputs": [
        {
          "name": "stdout",
          "output_type": "stream",
          "text": [
            "0 -> traje tu traje -> contra el tu tia\n",
            " -> 0.09644074163730834\n",
            "1 -> no quieres un poco mas de te -> no querres que me dagas aqui\n",
            " -> 0.0659122085048826\n",
            "2 -> siempre te ame -> todos les gusta estar aqui\n",
            " -> 0.06199608838692796\n",
            "3 -> mira aquel palo en la plaza -> mira este en el casa en el pare\n",
            " -> 0.0554453208597198\n",
            "4 -> nos conocimos el otro dia -> estomos al pelo de la cara\n",
            " -> 0.06941254212572458\n",
            "5 -> nos vamos a navegar el lunes -> estamos alorando de mi vabitacion\n",
            " -> 0.0534988642045985\n",
            "6 -> el todavia la ama -> el se hendia aqui\n",
            " -> 0.09083627868206415\n",
            "7 -> lo dejare -> todos los desas\n",
            " -> 0.10278340422512992\n",
            "8 -> voy a tomar un bano -> hoy a comprar un boco\n",
            " -> 0.08157122123482033\n",
            "9 -> debes estar loco -> tebes que sengas antes\n",
            " -> 0.07039039474358821\n",
            "10 -> tom se derrumbo sobre su silla -> tom se cono con el problema\n",
            " -> 0.06528850232582309\n",
            "11 -> no desperdicies mi tiempo -> no me manas a mi padre\n",
            " -> 0.07997892972095699\n",
            "12 -> es esa tu habitacion -> este es tu trabajo\n",
            " -> 0.09224978011409782\n",
            "13 -> tom parecia intrigado -> tom se sentio un poco\n",
            " -> 0.08157122123482033\n",
            "14 -> tom toca el acordeon bastante bien -> tom ciela por un poco de agua\n",
            " -> 0.06365692807829748\n",
            "15 -> tom dio con una pauta en los datos -> tom se puso al paredo en el pare\n",
            " -> 0.05773117855854002\n",
            "16 -> me declare culpable -> un poco de parece\n",
            " -> 0.09760993379048989\n",
            "17 -> por favor no me interrumpas -> por fahor no me despiertes\n",
            " -> 0.0709390046023764\n",
            "18 -> ellos enterraron a su esposo muerto -> ellos le preguntaron a la pertana\n",
            " -> 0.05478891918239913\n",
            "19 -> ha descubierto una nueva estrella -> el se conocio un poco de comer\n",
            " -> 0.060226484174644795\n",
            "20 -> soplaba un viento fuerte -> creo que estaba enfermo\n",
            " -> 0.07837993901367481\n",
            "21 -> estoy pensando en ir al extranjero -> estoy cansado de comer un poco de tom\n",
            " -> 0.048902416113949715\n",
            "22 -> obedezca a sus padres -> contente los padres\n",
            " -> 0.09006148486749552\n",
            "23 -> tom casi nunca come pepinos -> tom nunca deje de nueho de cana\n",
            " -> 0.0554453208597198\n",
            "24 -> para que quiero este dinero -> que sipera que es esto\n",
            " -> 0.08190751676555486\n",
            "25 -> estamos todos de acuerdo -> todos estamos en casa de cana\n",
            " -> 0.059239446585176526\n",
            "26 -> creo que ha habido un error -> un poco de pasa esta manana\n",
            " -> 0.0617460532390315\n",
            "27 -> hice todo lo que pude -> un perro me dijo un poco de tom\n",
            " -> 0.0554453208597198\n",
            "28 -> no era barato verdad -> eso no es lo que paso\n",
            " -> 0.07042369988408351\n",
            "29 -> el perro no queria soltar la pelota -> el perro no pudo a la pierta a la parea\n",
            " -> 0.046409418273215784\n",
            "30 -> por favor toma tu tiempo -> por fahor henga el tuabro\n",
            " -> 0.06863349909235254\n",
            "31 -> he cambiado -> te estan enfermo\n",
            " -> 0.09214361147220981\n",
            "32 -> el todavia esta en el trabajo -> el esta en casa de tom\n",
            " -> 0.07789977718329764\n",
            "33 -> no puedo pensar en eso -> anocve puedo vacer eso\n",
            " -> 0.07997892972095699\n",
            "34 -> sabes montar a caballo -> puedes comer un poco\n",
            " -> 0.08312218488523596\n",
            "35 -> no queda nada que hacer -> no vay nada que vacer\n",
            " -> 0.0837483649669684\n",
            "36 -> no me importa que hacer -> no me gusta eso con eso\n",
            " -> 0.07454480401697919\n",
            "37 -> ambas estan ocupadas -> misata las padres\n",
            " -> 0.09760993379048989\n",
            "38 -> tengo tanta hambre -> estoy enfermo\n",
            " -> 0.12300686288463772\n",
            "39 -> el tiene mucha experiencia -> es muy interesante\n",
            " -> 0.09500653305583746\n",
            "40 -> no tengo que ir -> no me gusta estar contado\n",
            " -> 0.06664199814563841\n",
            "41 -> tom y mary jugaron a las escondidas -> tom y mary se entanaron a mary\n",
            " -> 0.0588083967791575\n",
            "42 -> me obligaron a ir ahi -> un poco de her a aqui\n",
            " -> 0.07920431343524592\n",
            "43 -> que es lo que buscaba tom -> como se llama a tom\n",
            " -> 0.09006148486749552\n",
            "44 -> su hermana es una autentica belleza -> su madre esta en un cocve de comer\n",
            " -> 0.051935912157243\n",
            "45 -> te estoy viendo -> estoy tendando a ti\n",
            " -> 0.09006148486749552\n",
            "46 -> me divorcie -> un perro perrio\n",
            " -> 0.09820366272512825\n",
            "47 -> estas diciendo que no sabes -> estas seguro de que no lo sabes\n",
            " -> 0.058297837453414166\n",
            "48 -> gracias a dios que estoy vivo -> esa cona es mi primer\n",
            " -> 0.07920431343524592\n",
            "49 -> el agujero es lo suficientemente grande -> el cocve esta alorado\n",
            " -> 0.0837483649669684\n",
            "50 -> me acuerdo de haberte visto el ano pasado -> un poco de parece a tu madre\n",
            " -> 0.0659122085048826\n",
            "51 -> es el jefe de mi departamento -> el es el vombre de mi padre de tom\n",
            " -> 0.05435795066015218\n",
            "52 -> un auto atropello al anciano -> la cara esta alora de mi vabitacion\n",
            " -> 0.050461715329220176\n",
            "53 -> no me gusta el cafe -> no me gusta la policia\n",
            " -> 0.08370875825692524\n",
            "54 -> cuando llegue a casa tenia mucha hambre -> cuando es tu casa de tom por fahor\n",
            " -> 0.05545664620752001\n",
            "55 -> mi coche es mas viejo que tu -> mi padre esta aqui por esto\n",
            " -> 0.06528850232582309\n",
            "56 -> eso es muy halagador -> eso es muy interesante\n",
            " -> 0.07789977718329764\n",
            "57 -> no nos quedemos en boston -> no vagamos en poco de tom\n",
            " -> 0.06664199814563841\n",
            "58 -> nunca antes he conocido a un canadiense -> nunca ve disto una casa de comer\n",
            " -> 0.05648892151960283\n",
            "59 -> tom lo hizo como le sugeriste -> tom dijo que estaba en muston\n",
            " -> 0.0575205277551974\n",
            "60 -> un ano tiene meses -> estoy de acuerdo con este parro\n",
            " -> 0.05383649411413276\n",
            "61 -> con que frecuencia editas tu perfil -> cuanto tiempo te des tu propuesta\n",
            " -> 0.05712555073098518\n",
            "62 -> quiza tienes una solucion mejor -> me puede que tengas un poco de camer\n",
            " -> 0.05135725620324518\n",
            "63 -> estoy contento de estar aqui -> estoy cansado para manar aqui\n",
            " -> 0.06615800099250344\n",
            "64 -> no creo que sea correcto -> un cocve esta en el trabajo\n",
            " -> 0.06528850232582309\n",
            "65 -> soy neutral -> estoy desasiado\n",
            " -> 0.10682175159905853\n",
            "66 -> tom nunca ha sido de mi agrado -> nunca va llegado tom\n",
            " -> 0.09001038613210942\n",
            "67 -> tom necesita un descanso -> tom necesita un poco\n",
            " -> 0.09001038613210942\n",
            "68 -> voy a ir al doctor -> estare en la casa\n",
            " -> 0.09083627868206415\n",
            "69 -> leelo una vez mas por favor -> encenta un poco de pasa de pacer\n",
            " -> 0.053724915288268275\n",
            "70 -> somos los unicos aca -> estamos aqui don ellas de mi dia\n",
            " -> 0.053724915288268275\n",
            "71 -> dos problemas seguian sin resolver -> de que tenes mucvo de manana\n",
            " -> 0.06297534453426143\n",
            "72 -> creo que tom es analfabeto -> creo que tom esta a salo de mary\n",
            " -> 0.05773117855854002\n",
            "73 -> lo conoci hace tres anos -> un poco de parece a las des y media\n",
            " -> 0.050461715329220176\n",
            "74 -> has visto a tom -> vas doste a tom\n",
            " -> 0.10682175159905853\n",
            "75 -> el estudio en una escuela publica -> el estaba enferma de la pierta de la cama\n",
            " -> 0.04512941503974197\n",
            "76 -> por favor responde todas las preguntas -> por fahor henga la parta de la cama\n",
            " -> 0.05281500445756309\n",
            "77 -> no me hagas enojar -> no me me dies en contra\n",
            " -> 0.07238177794755687\n",
            "78 -> puedes distinguir la plata del estano -> puedes her a tom en la casa de parece\n",
            " -> 0.04997783708153726\n",
            "79 -> mary anora a su marido -> mary perdio su propuesta\n",
            " -> 0.07337451206367002\n",
            "80 -> todo el mundo me odia -> todo el mundo me gusta el dinero\n",
            " -> 0.05648892151960283\n",
            "81 -> debes hacerlo por tu propia cuenta -> debes decir el tu eran\n",
            " -> 0.08540069915711807\n",
            "82 -> hare lo que me apetezca -> lo vare eso por eso\n",
            " -> 0.0845771381284048\n",
            "83 -> la herida se infecto -> el goto esta a sentido de caner\n",
            " -> 0.059579874656163496\n",
            "84 -> os gusta estar solas -> te gusta comer algo\n",
            " -> 0.09246523455174717\n",
            "85 -> tom me golpeo por accidente -> tom me puede comprar mi padre\n",
            " -> 0.06228716101382995\n",
            "86 -> ella estaba deseosa de irse a casa -> ella estaba enferma de acuerdo a tom\n",
            " -> 0.05025215295380627\n",
            "87 -> llegaste tarde verdad -> tienes que irte de ayudarte\n",
            " -> 0.05971881979402256\n",
            "88 -> lo pague con la tarjeta de credito -> un poco de pasa en un poco de camer\n",
            " -> 0.050461715329220176\n",
            "89 -> es hora de que conversemos -> es demasiado para marar\n",
            " -> 0.07238177794755687\n",
            "90 -> puede que el este haciendo footing por el parque -> el se quedo der un poco de la parea\n",
            " -> 0.05388251361725397\n",
            "91 -> vuelvo enseguida -> todos los dias estan muertos\n",
            " -> 0.06297534453426143\n",
            "92 -> tom se quedo sin tiempo -> tom se cono con mary\n",
            " -> 0.08039313477786734\n",
            "93 -> el fingio ser abogado -> el me pregunto si que estaba enfermo\n",
            " -> 0.05135725620324518\n",
            "94 -> es completamente falso -> algunas estan muy centando\n",
            " -> 0.06777816063349293\n",
            "95 -> se que es algo dificil de hacer -> en contro es una cara de acuerdo a tom\n",
            " -> 0.045293094526422904\n",
            "96 -> tus labios estan rojos -> tus padres estan miertos\n",
            " -> 0.07337451206367002\n",
            "97 -> tom tiene menos amigos que yo -> tom tiene un poco de tiempo en esta casa\n",
            " -> 0.044190297164385224\n",
            "98 -> quiza bebi demasiado -> el carero es un buen cocinero\n",
            " -> 0.0575205277551974\n",
            "99 -> todavia no hemos hablado de eso -> no vemos a nadar de esto\n",
            " -> 0.07337451206367002\n",
            "100 -> me puedes esconder de la policia -> puedes prestar el paredo por fahor\n",
            " -> 0.051935912157243\n",
            "101 -> el pan se esta cociendo en el horno -> la parea esta en la casa de la cama\n",
            " -> 0.05167853344333676\n",
            "102 -> yo vivo en esta casa -> este es la pelicula en la cara\n",
            " -> 0.055617547792817586\n",
            "103 -> tiene una tarjeta de credito -> tienes un poco de camer\n",
            " -> 0.07837993901367481\n",
            "104 -> necesitamos que regreses -> necesitamos tu canta\n",
            " -> 0.09001038613210942\n",
            "105 -> dirigi la carta a mi tia -> un perro esta con en para de la cara\n",
            " -> 0.04488291050505991\n",
            "106 -> el lunes no va bien -> el dinero no es a la tenes\n",
            " -> 0.06410062669279533\n",
            "107 -> sabes lo que es la felicidad -> canoces a las partes de las des y media\n",
            " -> 0.044138602724803064\n",
            "108 -> tom tiene tos -> tom tiene un poco\n",
            " -> 0.09440522495543022\n",
            "109 -> por favor deme algo de beber -> por fahor deja en poco\n",
            " -> 0.07563940168064981\n",
            "110 -> ella esta en el hotel ahora -> ella es la masa en la casa\n",
            " -> 0.059652354671805075\n",
            "111 -> ustedes no tienen calor -> no te go tien\n",
            " -> 0.11835664479450718\n",
            "112 -> ustedes son amigos -> estas los desas\n",
            " -> 0.10682175159905853\n",
            "113 -> el castillo es hermoso -> la casa esta en el casa\n",
            " -> 0.07000535462384325\n",
            "114 -> el no podia dar un paso mas -> el no pudo ayudar a las padres\n",
            " -> 0.060226484174644795\n",
            "115 -> te gusta el tofu -> te gusta el cocve\n",
            " -> 0.10052686727030012\n",
            "116 -> sali corriendo y cogi un taxi -> un poco de puede comer algo\n",
            " -> 0.06686284897169704\n",
            "117 -> conozco todos los nombres de ellos -> un poco de se esta en casa\n",
            " -> 0.06410062669279533\n",
            "118 -> la carretera se bifurca aqui -> la casa esta aqui\n",
            " -> 0.10320993901640013\n",
            "119 -> le conte todo -> un poco me die muy bien\n",
            " -> 0.06735883426844562\n",
            "120 -> el es mi mejor amigo -> el es mi vermano malo\n",
            " -> 0.08157122123482033\n",
            "121 -> el cerro furiosamente la puerta -> el esta a la para de la cara\n",
            " -> 0.06133822150879446\n",
            "122 -> ella apoyo sus codos en sus rodillas -> ella se cono con el parte de la cara\n",
            " -> 0.05025215295380627\n",
            "123 -> por que crees que tom haria eso -> por que te prees que tom vizo eso\n",
            " -> 0.05478891918239913\n",
            "124 -> no puedo creer esto -> no puedo her a eso\n",
            " -> 0.09500653305583746\n",
            "125 -> no conoces a mi hermano -> no sabes mi padre\n",
            " -> 0.10052686727030012\n",
            "126 -> los ninos son vulnerables -> los palas son muy guandes\n",
            " -> 0.06664199814563841\n",
            "127 -> tom podria seguir vivo en alguna parte -> tom deberia vaber manado algo que yo\n",
            " -> 0.05337507651464762\n",
            "128 -> japon es un pais industrializado -> el frances es una cara de ma casa\n",
            " -> 0.05210809416477714\n",
            "129 -> el publico lo sabe -> el perro esta alli\n",
            " -> 0.09224978011409782\n",
            "130 -> el nuevo sofa combina con las cortinas -> el cocve esta con en parte de la cara\n",
            " -> 0.048902416113949715\n",
            "131 -> ahora estoy leyendo un libro -> estoy seguro de que no esta en casa\n",
            " -> 0.05167853344333676\n",
            "132 -> siempre esta preparado -> el estaba muy censado\n",
            " -> 0.07920431343524592\n",
            "133 -> quieres tocarlo -> quieres her a tom\n",
            " -> 0.10320993901640013\n",
            "134 -> se quemo -> estudian\n",
            " -> 0.16036590969929357\n",
            "135 -> todos lo hemos hecho -> todos estamos avora\n",
            " -> 0.0845771381284048\n",
            "136 -> gracias a dios que estoy viva -> esa cona es mi primer\n",
            " -> 0.07920431343524592\n",
            "137 -> no fuisteis graciosos -> no estas manado\n",
            " -> 0.10682175159905853\n",
            "138 -> toco un poco la guitarra -> un poco de parece a un poco\n",
            " -> 0.0617460532390315\n",
            "139 -> estoy listo para entregar mi postura -> estoy varta de parar mi padre de mi padre\n",
            " -> 0.044158322210944304\n",
            "140 -> no puedo encontrar mi pipa -> un poco de manta es mi padre\n",
            " -> 0.06724444140038396\n",
            "141 -> el se adapto a las circunstancias -> el se conocio a las parados de la cama\n",
            " -> 0.04867059749733551\n",
            "142 -> no me gusta la nieve -> un nombre no se hengo\n",
            " -> 0.07920431343524592\n",
            "143 -> la sopa esta espesa -> la casa esta en el casa\n",
            " -> 0.06735883426844562\n",
            "144 -> la enfermera te dio un sedante -> el cocve no va disportado\n",
            " -> 0.0721645129273987\n",
            "145 -> hice que tom hiciera la llamada -> un terro me dio el paredo\n",
            " -> 0.0721645129273987\n",
            "146 -> llame a tom para darle las gracias -> al meno de tom a tom\n",
            " -> 0.08312218488523596\n",
            "147 -> no puedo explicarlo -> un poco de puede parar\n",
            " -> 0.07997892972095699\n",
            "148 -> creo que tom esta a punto de llorar -> creo que tom estaba acupado por tom\n",
            " -> 0.05388251361725397\n",
            "149 -> he decidido hacer eso yo mismo -> esta manando a comer a las partes\n",
            " -> 0.05210809416477714\n",
            "150 -> soy japones respondio el nino -> estoy cansado el pare de la cama\n",
            " -> 0.05648892151960283\n",
            "151 -> eche un vistazo al museo -> un cocve esta en la casa de la cara\n",
            " -> 0.05167853344333676\n",
            "152 -> tomas es banquero -> tom es un buen cocinente\n",
            " -> 0.07146704964214272\n",
            "153 -> por mi parte no tengo objecion -> por fahor deja en cocve de caner\n",
            " -> 0.053724915288268275\n",
            "154 -> tom no sabe conducir un coche -> tom no puede comer un poco\n",
            " -> 0.06777816063349293\n",
            "155 -> que leeis -> que estas vaciendo algo\n",
            " -> 0.07000535462384325\n",
            "156 -> me parece que te equivocas -> al comer de que tienes que vacer\n",
            " -> 0.058898054573110994\n",
            "157 -> le gusta cocinar para su familia -> ella le gusta contar el problema\n",
            " -> 0.059999429499275836\n",
            "158 -> hoy he visto a tom -> le dije a tom que me diene\n",
            " -> 0.06199608838692796\n",
            "159 -> me puse malo -> un poco de parece\n",
            " -> 0.09083627868206415\n",
            "160 -> que hay en la cesta -> cual es el problema\n",
            " -> 0.0845771381284048\n",
            "161 -> tom asfixio a mary -> tom se cono a mary\n",
            " -> 0.09224978011409782\n",
            "162 -> tom telefoneo a mary -> tom abrio a mary\n",
            " -> 0.1002298865743421\n",
            "163 -> ella esta aprendiendo a manejar -> ella esta acostumbrado a comer un poco de agua\n",
            " -> 0.04024887966266573\n",
            "164 -> siempre he jugado con mi hermano -> todos les muy antes de mi padre\n",
            " -> 0.059579874656163496\n",
            "165 -> tengo un hermano llamado tom -> un menor esta en casa de tom\n",
            " -> 0.06297534453426143\n",
            "166 -> eres abogado -> estas contando\n",
            " -> 0.11002068284361832\n",
            "167 -> tom no lo aprobaria -> tom no pudo der ir a las dos y media\n",
            " -> 0.04906892026678361\n",
            "168 -> no cogi su broma -> un poco de puesta en el problema\n",
            " -> 0.05515883843922034\n",
            "169 -> pense que habias dicho que tom habia muerto -> prese que tom estaba en casa de tom\n",
            " -> 0.05584506799191252\n",
            "170 -> tom me llamo para decir gracias -> tom me dijo que me llamara\n",
            " -> 0.06777816063349293\n",
            "171 -> tom le escribio una carta a maria -> tom le pregunto a mary a la cama\n",
            " -> 0.05648892151960283\n",
            "172 -> desafortunadamente no es el caso -> una carta de la cana esta en la casa\n",
            " -> 0.05025215295380627\n",
            "173 -> tal vez sea demasiado tarde -> el dinero es muy bueno\n",
            " -> 0.07789977718329764\n",
            "174 -> mis padres me obligaron a ir alli -> mi padre esta acostumbrado a casar\n",
            " -> 0.05318827859531982\n",
            "175 -> tom fracaso horriblemente -> tom se cono con mary\n",
            " -> 0.08789100965204209\n",
            "176 -> el sabe como hacer un radio -> el sabe que tenga un poco de camer\n",
            " -> 0.05545664620752001\n",
            "177 -> todos estan de vacaciones -> todos estan en el casa\n",
            " -> 0.07789977718329764\n",
            "178 -> pense en lo que dijiste -> cree que no sabes por que no estas equihocado\n",
            " -> 0.04025343605371201\n",
            "179 -> donde esta el directorio -> donde esta la parta de la cama\n",
            " -> 0.060226484174644795\n",
            "180 -> nunca mas oi algo sobre el -> un nuno de mano en el casa\n",
            " -> 0.06777816063349293\n",
            "181 -> penso que era doctor -> ella se compro una casa en la cama\n",
            " -> 0.051935912157243\n",
            "182 -> el es alto -> el es a en casa\n",
            " -> 0.09820366272512825\n",
            "183 -> este es un abanico chino -> esto es una cara de mana\n",
            " -> 0.07146704964214272\n",
            "184 -> deberias pedirle consejo a el -> deberias dejar que te puedes ayudar\n",
            " -> 0.050461715329220176\n",
            "185 -> estas empezando a enfadarme -> estas demando a comprar en mi\n",
            " -> 0.06228716101382995\n",
            "186 -> ella vive en una casa grande -> ella me dio una carta de casa\n",
            " -> 0.06228716101382995\n",
            "187 -> tom llego el ultimo -> tom estaba en el cocve de arror\n",
            " -> 0.05010050301963354\n",
            "188 -> mary se compro un bolso caro -> mary perdio el problema por el problema\n",
            " -> 0.04531666627238005\n",
            "189 -> tom le dijo a mary que no fuera -> tom le dijo a mary que no me gustaria\n",
            " -> 0.05284512873893174\n",
            "190 -> por que no vais a jugar con tom -> por que no me das a tom\n",
            " -> 0.08010360497032464\n",
            "191 -> tom fue promovido a gerente -> tom estaba acupado por el problema\n",
            " -> 0.051935912157243\n",
            "192 -> estoy completamente de acuerdo con ustedes -> estoy seguro de que te pasas a las dos y media\n",
            " -> 0.041062399383973616\n",
            "193 -> pense que tu estabas a cargo -> pense que eras un problema\n",
            " -> 0.06941254212572458\n",
            "194 -> solo digo que no podemos irnos todavia -> estoy seguro de que no puede vacer el tinero\n",
            " -> 0.045205726769549065\n",
            "195 -> ellos toman el te a las cinco -> tienen que estar en casa\n",
            " -> 0.06939332909891821\n",
            "196 -> solo unas pocas personas se presentaron a tiempo -> solo una cara de parece a un poco de papal\n",
            " -> 0.043112743147643996\n",
            "197 -> tom te echo de menos -> anocve esta tom\n",
            " -> 0.11044795567078944\n",
            "198 -> estoy seguro de que estas muy ocupado -> estoy seguro que estas muy cansado\n",
            " -> 0.05649366788955774\n",
            "199 -> no te estoy preguntando eso -> no soy tu aligro que tu estes\n",
            " -> 0.06228716101382995\n",
            "200 -> has tomado un bano -> vas comido un buen cocve\n",
            " -> 0.07146704964214272\n",
            "201 -> todo el mundo cuenta contigo -> todos estan muy cansados\n",
            " -> 0.07337451206367002\n",
            "202 -> casi perdimos el tren -> como en contra de la cara\n",
            " -> 0.0721645129273987\n",
            "203 -> tomas dejo que maria se retirara temprano -> tom le dara a mary que me dejara a mary\n",
            " -> 0.046409418273215784\n",
            "204 -> el tuvo un accidente de camino a casa -> el se compro un poco de mi padre\n",
            " -> 0.05773117855854002\n",
            "205 -> el no dijo nada -> el no se dijo a manana\n",
            " -> 0.07789977718329764\n",
            "206 -> apenas puedo respirar -> un poco de puede comer\n",
            " -> 0.07563940168064981\n",
            "207 -> eso es -> eso es demasiado barre\n",
            " -> 0.06360490172519422\n",
            "208 -> se muchas cosas -> en cano es mi vombre de comer\n",
            " -> 0.055632025874947824\n",
            "209 -> ellos son viejos amigos -> ellos son muy guandes\n",
            " -> 0.08157122123482033\n",
            "210 -> llevo mi propio negocio -> anocve me manta el contro\n",
            " -> 0.06863349909235254\n",
            "211 -> adonde van ellos -> donde estan los peliculas\n",
            " -> 0.06664199814563841\n",
            "212 -> estoy siendo bueno con ustedes esta manana -> estoy santo de que tom esta a la pertana\n",
            " -> 0.04525588825075644\n",
            "213 -> tenemos el mismo destino -> tenemos el poco de la cama\n",
            " -> 0.0660161823828377\n",
            "214 -> yo te ayudare -> te llamare\n",
            " -> 0.14638127686891575\n",
            "215 -> ten precaucion -> esca estediando\n",
            " -> 0.11044795567078944\n",
            "216 -> tom me quiere -> tom me maro\n",
            " -> 0.13950796967929135\n",
            "217 -> en serio pensaste que hice eso -> estudias en cosa en eso\n",
            " -> 0.07653441199848256\n",
            "218 -> nadie quiere que el venga -> nadie quiere que te gaste\n",
            " -> 0.07046533377745744\n",
            "219 -> parece muy interesante -> el casa es muy cansado\n",
            " -> 0.07789977718329764\n",
            "220 -> pasame las tijeras por favor -> dejame el pare de papal\n",
            " -> 0.07238177794755687\n",
            "221 -> que menu es hoy -> que esta minando avora\n",
            " -> 0.07563940168064981\n",
            "222 -> el era bienvenido a dondequiera que iba -> el estaba acupado por el problema\n",
            " -> 0.05210809416477714\n",
            "223 -> no oi un chapoteo -> un perro esta consado\n",
            " -> 0.08157122123482033\n",
            "224 -> no te alegra ser rico -> to te pareces por tu arigo\n",
            " -> 0.06777816063349293\n",
            "225 -> que dijo usted -> que viciste\n",
            " -> 0.14498922073576034\n",
            "226 -> seguia fumando todo el tiempo -> el se cano a la cara de la cama\n",
            " -> 0.0554453208597198\n",
            "227 -> estare de vuelta a las dos y media -> todos los gustos estan enfermo\n",
            " -> 0.060226484174644795\n",
            "228 -> toma la medicina -> cuerda el problema\n",
            " -> 0.09224978011409782\n",
            "229 -> tienes mucho tiempo acaso -> tienes un poco de mi\n",
            " -> 0.09001038613210942\n",
            "230 -> estoy enamorado de la esposa de tom -> estoy en morado de mi padre\n",
            " -> 0.06833324073248963\n",
            "231 -> explico detalladamente las reglas -> el se puso al parque de la cama\n",
            " -> 0.058297837453414166\n",
            "232 -> tu hijo no es como tu -> tu casa es tu ayuda\n",
            " -> 0.08137973817434668\n",
            "233 -> todos se sintieron seguros -> todos se mandan\n",
            " -> 0.10682175159905853\n",
            "234 -> voy a llamar a tom -> todos los dos y media\n",
            " -> 0.07660389406004603\n",
            "235 -> parece que se han peleado -> el dinero que es dificil\n",
            " -> 0.07514384223429621\n",
            "236 -> el bus estaba totalmente repleto -> el cocve estaba muy censado\n",
            " -> 0.06686284897169704\n",
            "237 -> esto no es lo que ordene -> eso no es la que puede vacer\n",
            " -> 0.06297534453426143\n",
            "238 -> tienen una casa hermosa -> tienen que comprar un poco de tom\n",
            " -> 0.05478891918239913\n",
            "239 -> eso es lo que tomas me dijo -> eso es lo que te dijo tom\n",
            " -> 0.0737514944404804\n",
            "240 -> hablo con el presidente -> el se cono en la cara\n",
            " -> 0.08157122123482033\n",
            "241 -> voy a perdonar a tom -> hoy a holher a tom\n",
            " -> 0.09224978011409782\n",
            "242 -> cual es bueno -> que vas en la casa\n",
            " -> 0.09224978011409782\n",
            "243 -> ois algo -> te gusta el dinero\n",
            " -> 0.0892210547181918\n",
            "244 -> ya no puedo seguir viviendo asi -> un poco de puede coner en el asto\n",
            " -> 0.0534988642045985\n",
            "245 -> mirad atras -> mira en canto\n",
            " -> 0.11835664479450718\n",
            "246 -> hoy me quedare en casa -> hoy a holher a casa a las dos y media\n",
            " -> 0.048902416113949715\n",
            "247 -> no quieres uno de estos -> no te encanes en esto\n",
            " -> 0.07370791894468555\n",
            "248 -> empezamos a las seis -> estudiamos a las dos y media\n",
            " -> 0.05955840366736178\n",
            "249 -> no sabia que tom supiera leer -> un debe de como de tom estaba enfermo\n",
            " -> 0.048902416113949715\n",
            "250 -> no estoy contento -> estoy nonstro\n",
            " -> 0.12300686288463772\n",
            "251 -> deshazte del arma -> deja la parea\n",
            " -> 0.11835664479450718\n",
            "252 -> que bueno verte de nuevo tom -> cuanto tiempo te has a tom\n",
            " -> 0.06199608838692796\n",
            "253 -> el hombre tiene la habilidad de hablar -> es este es ma maso para parar\n",
            " -> 0.055632025874947824\n",
            "254 -> sal de la sala -> anor el parro\n",
            " -> 0.10694730137685537\n",
            "255 -> no puedo creer que yo estuviese ahi -> un poco de puede comer aqui\n",
            " -> 0.06833324073248963\n",
            "256 -> el cancer de mama es una enfermedad -> trances en un poco de compre\n",
            " -> 0.06297534453426143\n",
            "257 -> tomas no esta muy lejos de aqui -> tom no es tan trande que yo\n",
            " -> 0.06833324073248963\n",
            "258 -> no era de el -> esto no es faliz\n",
            " -> 0.09644074163730834\n",
            "259 -> el no te hara ningun dano -> el no puede decir en casa\n",
            " -> 0.07046533377745744\n",
            "260 -> deberias haberte presentado a ti mismo -> deberias vaber el problema con el\n",
            " -> 0.05599379119409926\n",
            "261 -> procura congeniar -> intenta dejar de comer\n",
            " -> 0.07563940168064981\n",
            "262 -> ese bebe sabe caminar -> este libro no sabe conocer\n",
            " -> 0.0660161823828377\n",
            "263 -> todavia quedan kilometros hasta paris -> es facil de comprar a las partenas\n",
            " -> 0.05545664620752001\n",
            "264 -> el senor es medico -> estas contando de minar\n",
            " -> 0.07653441199848256\n",
            "265 -> cuanto arroz comes cada dia -> cuanto tiempo te has a manar\n",
            " -> 0.0659122085048826\n",
            "266 -> tom come arroz casi todos los dias -> tom hino a muy buen sonos los dias\n",
            " -> 0.051935912157243\n",
            "267 -> solo el tiempo lo dira -> solo dejare algo\n",
            " -> 0.10363232116621422\n",
            "268 -> pense que tenias una cita con tom -> pense que tom estaba en casa a tom\n",
            " -> 0.05435795066015218\n",
            "269 -> es bueno -> estoy variendo a vacerlo\n",
            " -> 0.061700364165330555\n",
            "270 -> todavia hay mucho por hacer -> vay una cara de der a tom\n",
            " -> 0.0737514944404804\n",
            "271 -> estudio para ser doctor -> el se cono con un poco\n",
            " -> 0.07315602473906824\n",
            "272 -> cuales son de tom -> que cora esta el mano\n",
            " -> 0.08576784700111253\n",
            "273 -> exageras todo -> te estas en casa manana\n",
            " -> 0.06435751269307485\n",
            "274 -> alguien esta dentro de la casa -> alguien me va por la parea\n",
            " -> 0.06777816063349293\n",
            "275 -> no lo mencionare de nuevo -> anocve puedo entendrr en el casa\n",
            " -> 0.05648892151960283\n",
            "276 -> estas intentado burlarte de mi -> estas deciendo que te gas a manar\n",
            " -> 0.05599379119409926\n",
            "277 -> tom ha entrado en shock -> tom es un buen esperancia\n",
            " -> 0.07046533377745744\n",
            "278 -> tom una vez trabajo como guia turistico -> tom contento un poco de tu padre\n",
            " -> 0.05515883843922034\n",
            "279 -> que hora es ahora -> cual es el pelo de tom\n",
            " -> 0.07039039474358821\n",
            "280 -> debes tener los ojos abiertos -> debes dejar tu propesa\n",
            " -> 0.07997892972095699\n",
            "281 -> que intentas ocultar -> que estas vaciendo a tom\n",
            " -> 0.07514384223429621\n",
            "282 -> es un problema dificil -> es un problema para de comprar\n",
            " -> 0.06396926324698679\n",
            "283 -> odio tomar notas -> un poco de comprar el problema\n",
            " -> 0.053791524150812384\n",
            "284 -> esto simplemente podria funcionar -> este parece es demasiado barro\n",
            " -> 0.061550934560379765\n",
            "285 -> se quedo hasta tarde anoche -> el se quedo de ana a las des y media\n",
            " -> 0.04779331217289141\n",
            "286 -> acaba de ocurrir un accidente -> estoy consado de su padre de temana\n",
            " -> 0.050461715329220176\n",
            "287 -> que hora da tu reloj -> a que vora te ha a la parad\n",
            " -> 0.06686284897169704\n",
            "288 -> el negro absorbe la luz -> la pelicula esta alorado\n",
            " -> 0.06939332909891821\n",
            "289 -> me despidieron -> estaba enfermo\n",
            " -> 0.1143433820088083\n",
            "290 -> el perdio la memoria -> el dejo de mi padre\n",
            " -> 0.09246523455174717\n",
            "291 -> cepillese los dientes -> conta el tu pasa\n",
            " -> 0.10672922509249912\n",
            "292 -> tomas es el unico hijo varon de maria -> tom es muy bueno para mary\n",
            " -> 0.06777816063349293\n",
            "293 -> es la ultima vez que te aviso -> estoy esperando a tu cama de la cama\n",
            " -> 0.04779331217289141\n",
            "294 -> ha sido un buen dia -> estuhe un buen cocve\n",
            " -> 0.08312218488523596\n",
            "295 -> el ataque enemigo ceso al amanecer -> el cocve esta consado de mi padre\n",
            " -> 0.05599379119409926\n",
            "296 -> podrias bajar un poco el precio -> podrias prestar el problema por fahor\n",
            " -> 0.048902416113949715\n",
            "297 -> por favor sientate en esta silla -> por fahor abride este profesor\n",
            " -> 0.0588083967791575\n",
            "298 -> has acabado los deberes -> estas contado de tu padre de tu padre\n",
            " -> 0.045160073722963476\n",
            "299 -> no estoy muerto -> estoy desasiado\n",
            " -> 0.10278340422512992\n"
          ]
        }
      ],
      "source": [
        "blue_scores = []\n",
        "for seq_index in range(300):\n",
        "  input_seq = encoder_input_data_test[seq_index: seq_index + 1]\n",
        "  target = target_texts_test[seq_index][1:-1]\n",
        "  try:\n",
        "    decoded_sentence = decode_sequence(input_seq)\n",
        "  except KeyError:\n",
        "    continue\n",
        "  score = sentence_bleu(target, decoded_sentence, smoothing_function=smoothing_function)\n",
        "  print(seq_index, '->', target, '->', decoded_sentence, '->', score)\n",
        "  blue_scores.append(score)"
      ]
    },
    {
      "cell_type": "code",
      "execution_count": 53,
      "metadata": {
        "colab": {
          "base_uri": "https://localhost:8080/"
        },
        "id": "MmGI-vaUOXYN",
        "outputId": "25b63385-905a-45d8-e4b3-3bb133d625f5"
      },
      "outputs": [
        {
          "name": "stdout",
          "output_type": "stream",
          "text": [
            "0.07099565371415333\n"
          ]
        }
      ],
      "source": [
        "print(sum(blue_scores)/len(blue_scores))"
      ]
    },
    {
      "cell_type": "code",
      "execution_count": null,
      "metadata": {
        "id": "SLJepom3OY8f"
      },
      "outputs": [],
      "source": []
    }
  ],
  "metadata": {
    "accelerator": "GPU",
    "colab": {
      "provenance": []
    },
    "gpuClass": "standard",
    "kernelspec": {
      "display_name": "Python 3 (ipykernel)",
      "language": "python",
      "name": "python3"
    },
    "language_info": {
      "codemirror_mode": {
        "name": "ipython",
        "version": 3
      },
      "file_extension": ".py",
      "mimetype": "text/x-python",
      "name": "python",
      "nbconvert_exporter": "python",
      "pygments_lexer": "ipython3",
      "version": "3.9.12"
    }
  },
  "nbformat": 4,
  "nbformat_minor": 0
}
