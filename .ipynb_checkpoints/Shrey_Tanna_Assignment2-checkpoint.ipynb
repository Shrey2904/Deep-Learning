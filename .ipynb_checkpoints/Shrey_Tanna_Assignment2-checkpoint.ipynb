{
 "cells": [
  {
   "cell_type": "markdown",
   "metadata": {
    "id": "A_dc0rkoElPV"
   },
   "source": [
    "# Build a CNN for image recognition.\n",
    "\n",
    "\n",
    "### Name: Shrey Tanna\n"
   ]
  },
  {
   "cell_type": "markdown",
   "metadata": {
    "id": "7aUAx7nXElPW"
   },
   "source": [
    "## Introduction:\n",
    "\n",
    "1. In this assignment, you will build Convolutional Neural Network to classify CIFAR-10 Images.\n",
    "2. You can directly load dataset from many deep learning packages.\n",
    "3. You can use any deep learning packages such as pytorch, keras or tensorflow for this assignment."
   ]
  },
  {
   "cell_type": "markdown",
   "metadata": {
    "id": "r1b3VkYQElPX"
   },
   "source": [
    "## Requirements:\n",
    "\n",
    "1. You need to load cifar 10 data and split the entire training dataset into training and validation.\n",
    "2. You will implement a CNN model to classify cifar 10 images with provided structure.\n",
    "3. You need to plot the training and validation accuracy or loss obtained from above step.\n",
    "4. Then you can use tuned hyper-parameters to train using the entire training dataset.\n",
    "5. You should report the testing accuracy using the model with complete data.\n",
    "6. You may try to change the structure (e.g, add BN layer or dropout layer,...) and analyze your findings."
   ]
  },
  {
   "cell_type": "markdown",
   "metadata": {
    "id": "WkVVmhWXElPX"
   },
   "source": [
    "## Batch Normalization (BN)"
   ]
  },
  {
   "cell_type": "markdown",
   "metadata": {
    "id": "Om1GC-6vElPX"
   },
   "source": [
    "### Background:"
   ]
  },
  {
   "cell_type": "markdown",
   "metadata": {
    "id": "YYWe3O7xElPX"
   },
   "source": [
    "- Batch Normalization is a technique to speed up training and help make the model more stable.\n",
    "- In simple words, batch normalization is just another network layer that gets inserted between a hidden layer and the next hidden layer. Its job is to take the outputs from the first hidden layer and normalize them before passing them on as the input of the next hidden layer.\n",
    "\n",
    "- For more detailed information, you may refer to the original paper: https://arxiv.org/pdf/1502.03167.pdf."
   ]
  },
  {
   "cell_type": "markdown",
   "metadata": {
    "id": "fdg81SgAElPY"
   },
   "source": [
    "### BN Algorithm:"
   ]
  },
  {
   "cell_type": "markdown",
   "metadata": {
    "id": "b7ZipuvEElPY"
   },
   "source": [
    "- Input: Values of $x$ over a mini-batch: $\\mathbf{B}$ = $\\{x_1,..., x_m\\};$\n",
    "- Output: $\\{y_i = BN_{\\gamma,\\beta}(x_i)\\}$, $\\gamma, \\beta$ are learnable parameters\n",
    "\n",
    "Normalization of the Input:\n",
    "$$\\mu_{\\mathbf{B}} = \\frac{1}{m}\\sum_{i=1}^m x_i$$\n",
    "$$\\sigma_{\\mathbf{B}}^2 = \\frac{1}{m}\\sum_{i=1}^m (x_i - \\mu_{\\mathbf{B}})^2$$\n",
    "$$\\hat{x_i} = \\frac{x_i - \\mu_{\\mathbf{B}}}{\\sqrt{\\sigma_{\\mathbf{B}}}^2 + \\epsilon}$$\n",
    "Re-scaling and Offsetting:\n",
    "$$y_i = \\gamma \\hat{x_i} + \\beta = BN_{\\gamma,\\beta}(x_i)$$\n"
   ]
  },
  {
   "cell_type": "markdown",
   "metadata": {
    "id": "Pf9MBAwWElPY"
   },
   "source": [
    "### Advantages of BN:\n",
    "1. Improves gradient flow through the network.\n",
    "2. Allows use of saturating nonlinearities and higher learning rates.\n",
    "3. Makes weights easier to initialize.\n",
    "4. Act as a form of regularization and may reduce the need for dropout."
   ]
  },
  {
   "cell_type": "markdown",
   "metadata": {
    "id": "QYOb28mRElPZ"
   },
   "source": [
    "## 1. Data preparation"
   ]
  },
  {
   "cell_type": "markdown",
   "metadata": {
    "id": "pucybfTQElPZ"
   },
   "source": [
    "### 1.1. Load data\n"
   ]
  },
  {
   "cell_type": "code",
   "execution_count": 2,
   "metadata": {
    "colab": {
     "base_uri": "https://localhost:8080/"
    },
    "id": "4sRJQyFsElPa",
    "outputId": "c3816aa4-9bde-43cb-cee8-ec3f7108924f"
   },
   "outputs": [
    {
     "name": "stdout",
     "output_type": "stream",
     "text": [
      "Downloading data from https://www.cs.toronto.edu/~kriz/cifar-10-python.tar.gz\n",
      "170498071/170498071 [==============================] - 2s 0us/step\n",
      "shape of x_train: (50000, 32, 32, 3)\n",
      "shape of y_train: (50000, 1)\n",
      "shape of x_test: (10000, 32, 32, 3)\n",
      "shape of y_test: (10000, 1)\n",
      "number of classes: 10\n"
     ]
    }
   ],
   "source": [
    "# Load Cifar-10 Data\n",
    "# This is just an example, you may load dataset from other packages.\n",
    "import keras\n",
    "import numpy as np\n",
    "import tensorflow as tf\n",
    "\n",
    "\n",
    "### If you cannot load keras dataset, un-comment these two lines.\n",
    "#import ssl\n",
    "#ssl._create_default_https_context = ssl._create_unverified_context\n",
    "\n",
    "(x_train, y_train), (x_test, y_test) = tf.keras.datasets.cifar10.load_data()\n",
    "\n",
    "print('shape of x_train: ' + str(x_train.shape))\n",
    "print('shape of y_train: ' + str(y_train.shape))\n",
    "print('shape of x_test: ' + str(x_test.shape))\n",
    "print('shape of y_test: ' + str(y_test.shape))\n",
    "print('number of classes: ' + str(np.max(y_train) - np.min(y_train) + 1))"
   ]
  },
  {
   "cell_type": "markdown",
   "metadata": {
    "id": "iXPTkLdgElPb"
   },
   "source": [
    "### 1.2. One-hot encode the labels (5 points)\n",
    "\n",
    "In the input, a label is a scalar in $\\{0, 1, \\cdots , 9\\}$. One-hot encode transform such a scalar to a $10$-dim vector. E.g., a scalar ```y_train[j]=3``` is transformed to the vector ```y_train_vec[j]=[0, 0, 0, 1, 0, 0, 0, 0, 0, 0]```.\n",
    "\n",
    "1. Implement a function ```to_one_hot``` that transforms an $n\\times 1$ array to a $n\\times 10$ matrix.\n",
    "\n",
    "2. Apply the function to ```y_train``` and ```y_test```."
   ]
  },
  {
   "cell_type": "code",
   "execution_count": 3,
   "metadata": {
    "colab": {
     "base_uri": "https://localhost:8080/"
    },
    "id": "lIxfo5xpElPb",
    "outputId": "7f63f71a-afac-4f66-f1c5-6e4415abf23b"
   },
   "outputs": [
    {
     "name": "stdout",
     "output_type": "stream",
     "text": [
      "Shape of y_train_vec: (50000, 10)\n",
      "Shape of y_test_vec: (10000, 10)\n",
      "[6]\n",
      "[0. 0. 0. 0. 0. 0. 1. 0. 0. 0.]\n"
     ]
    },
    {
     "name": "stderr",
     "output_type": "stream",
     "text": [
      "/usr/local/lib/python3.9/dist-packages/sklearn/preprocessing/_encoders.py:868: FutureWarning: `sparse` was renamed to `sparse_output` in version 1.2 and will be removed in 1.4. `sparse_output` is ignored unless you leave `sparse` to its default value.\n",
      "  warnings.warn(\n",
      "/usr/local/lib/python3.9/dist-packages/sklearn/preprocessing/_encoders.py:868: FutureWarning: `sparse` was renamed to `sparse_output` in version 1.2 and will be removed in 1.4. `sparse_output` is ignored unless you leave `sparse` to its default value.\n",
      "  warnings.warn(\n"
     ]
    }
   ],
   "source": [
    "from sklearn.preprocessing import OneHotEncoder\n",
    "def to_one_hot(y, num_class=10):\n",
    "    encoder = OneHotEncoder(categories = 'auto', sparse = False)\n",
    "    return encoder.fit_transform(y)\n",
    "\n",
    "y_train_vec = to_one_hot(y_train)\n",
    "y_test_vec = to_one_hot(y_test)\n",
    "\n",
    "print('Shape of y_train_vec: ' + str(y_train_vec.shape))\n",
    "print('Shape of y_test_vec: ' + str(y_test_vec.shape))\n",
    "\n",
    "print(y_train[0])\n",
    "print(y_train_vec[0])"
   ]
  },
  {
   "cell_type": "markdown",
   "metadata": {
    "id": "AF8S6VhiElPb"
   },
   "source": [
    "#### Remark: the outputs should be\n",
    "* Shape of y_train_vec: (50000, 10)\n",
    "* Shape of y_test_vec: (10000, 10)\n",
    "* [6]\n",
    "* [0. 0. 0. 0. 0. 0. 1. 0. 0. 0.]"
   ]
  },
  {
   "cell_type": "markdown",
   "metadata": {
    "id": "lokyfq_RElPb"
   },
   "source": [
    "### 1.3. Randomly partition the training set to training and validation sets (5 points)\n",
    "\n",
    "Randomly partition the 50K training samples to 2 sets: \n",
    "* a training set containing 40K samples: x_tr, y_tr\n",
    "* a validation set containing 10K samples: x_val, y_val\n"
   ]
  },
  {
   "cell_type": "code",
   "execution_count": 57,
   "metadata": {
    "colab": {
     "base_uri": "https://localhost:8080/"
    },
    "id": "2O0lAYcPElPc",
    "outputId": "0d863fa4-b974-47a4-b70c-0bf73c9122bb"
   },
   "outputs": [
    {
     "name": "stdout",
     "output_type": "stream",
     "text": [
      "[41153 14057 49146 ... 33846 12000  7275]\n",
      "Shape of x_tr: (40000, 32, 32, 3)\n",
      "Shape of y_tr: (40000, 10)\n",
      "Shape of x_val: (10000, 32, 32, 3)\n",
      "Shape of y_val: (10000, 10)\n"
     ]
    }
   ],
   "source": [
    "random_samp = np.random.permutation(50000)\n",
    "print(random_samp)\n",
    "train_ind = random_samp[0:40000]\n",
    "val_ind = random_samp[40000:50000]\n",
    "\n",
    "x_tr = x_train[train_ind, :]\n",
    "y_tr = y_train_vec[train_ind, :]\n",
    "\n",
    "x_val = x_train[val_ind, :]\n",
    "y_val = y_train_vec[val_ind, :]\n",
    "\n",
    "print('Shape of x_tr: ' + str(x_tr.shape))\n",
    "print('Shape of y_tr: ' + str(y_tr.shape))\n",
    "print('Shape of x_val: ' + str(x_val.shape))\n",
    "print('Shape of y_val: ' + str(y_val.shape))"
   ]
  },
  {
   "cell_type": "markdown",
   "metadata": {
    "id": "-KW-q4fIElPc"
   },
   "source": [
    "<img src=\"network.PNG\"/>"
   ]
  },
  {
   "cell_type": "code",
   "execution_count": 121,
   "metadata": {
    "colab": {
     "base_uri": "https://localhost:8080/"
    },
    "id": "AOPsHKiGElPc",
    "outputId": "507f51ea-d13b-4ef2-cd23-1d93ca429853"
   },
   "outputs": [
    {
     "name": "stdout",
     "output_type": "stream",
     "text": [
      "Model: \"sequential_82\"\n",
      "_________________________________________________________________\n",
      " Layer (type)                Output Shape              Param #   \n",
      "=================================================================\n",
      " conv2d_164 (Conv2D)         (None, 30, 30, 32)        896       \n",
      "                                                                 \n",
      " activation_328 (Activation)  (None, 30, 30, 32)       0         \n",
      "                                                                 \n",
      " max_pooling2d_164 (MaxPooli  (None, 15, 15, 32)       0         \n",
      " ng2D)                                                           \n",
      "                                                                 \n",
      " conv2d_165 (Conv2D)         (None, 12, 12, 64)        32832     \n",
      "                                                                 \n",
      " activation_329 (Activation)  (None, 12, 12, 64)       0         \n",
      "                                                                 \n",
      " max_pooling2d_165 (MaxPooli  (None, 6, 6, 64)         0         \n",
      " ng2D)                                                           \n",
      "                                                                 \n",
      " flatten_82 (Flatten)        (None, 2304)              0         \n",
      "                                                                 \n",
      " dense_164 (Dense)           (None, 256)               590080    \n",
      "                                                                 \n",
      " activation_330 (Activation)  (None, 256)              0         \n",
      "                                                                 \n",
      " dense_165 (Dense)           (None, 10)                2570      \n",
      "                                                                 \n",
      " activation_331 (Activation)  (None, 10)               0         \n",
      "                                                                 \n",
      "=================================================================\n",
      "Total params: 626,378\n",
      "Trainable params: 626,378\n",
      "Non-trainable params: 0\n",
      "_________________________________________________________________\n"
     ]
    }
   ],
   "source": [
    "from keras.optimizers.legacy.rmsprop import RMSProp\n",
    "# Build the model\n",
    "from keras.layers import Conv2D, MaxPooling2D, Flatten, Dense, Dropout, Activation, BatchNormalization\n",
    "from keras.models import Sequential\n",
    "from keras.optimizers import Adam, SGD, RMSprop\n",
    "from sklearn.model_selection import GridSearchCV\n",
    "model = Sequential()\n",
    "\n",
    "model.add(Conv2D(32, (3, 3) , input_shape=(32, 32, 3)))\n",
    "model.add(Activation('relu'))\n",
    "model.add(MaxPooling2D((2, 2)))\n",
    "\n",
    "model.add(Conv2D(64, (4, 4)))\n",
    "model.add(Activation('relu'))\n",
    "model.add(MaxPooling2D((2, 2)))\n",
    "\n",
    "model.add(Flatten())\n",
    "model.add(Dense(256))\n",
    "model.add(Activation('relu'))\n",
    "model.add(Dense(10))\n",
    "model.add(Activation('softmax'))\n",
    "\n",
    "model.summary()\n",
    "\n",
    "def define_model(optimizer = RMSprop, learning_rate = 0.01):\n",
    "  model = Sequential()\n",
    "\n",
    "  model.add(Conv2D(32, (3, 3) , input_shape=(32, 32, 3)))\n",
    "  model.add(Activation('relu'))\n",
    "  model.add(MaxPooling2D((2, 2)))\n",
    "\n",
    "  model.add(Conv2D(64, (4, 4)))\n",
    "  model.add(Activation('relu'))\n",
    "  model.add(MaxPooling2D((2, 2)))\n",
    "\n",
    "  model.add(Flatten())\n",
    "  model.add(Dense(256))\n",
    "  model.add(Activation('relu'))\n",
    "  model.add(Dense(10))\n",
    "  model.add(Activation('softmax'))\n",
    "\n",
    "  model.compile(loss = 'categorical_crossentropy',\n",
    "                optimizer = optimizer,\n",
    "                metrics = ['accuracy'])\n",
    "  \n",
    "  \n",
    "  return model\n"
   ]
  },
  {
   "cell_type": "code",
   "execution_count": 59,
   "metadata": {
    "colab": {
     "base_uri": "https://localhost:8080/"
    },
    "id": "TyIqBmgpElPc",
    "outputId": "46e3f40e-e884-4256-efd5-8d5616572bc3"
   },
   "outputs": [
    {
     "name": "stderr",
     "output_type": "stream",
     "text": [
      "<ipython-input-59-bdac541a3340>:5: DeprecationWarning: KerasClassifier is deprecated, use Sci-Keras (https://github.com/adriangb/scikeras) instead. See https://www.adriangb.com/scikeras/stable/migration.html for help migrating.\n",
      "  estimator = KerasClassifier(build_fn = define_model, epochs = 10)\n"
     ]
    },
    {
     "name": "stdout",
     "output_type": "stream",
     "text": [
      "Epoch 1/10\n",
      "834/834 [==============================] - 5s 4ms/step - loss: 2.6258 - accuracy: 0.2408\n",
      "Epoch 2/10\n",
      "834/834 [==============================] - 4s 4ms/step - loss: 1.6981 - accuracy: 0.3789\n",
      "Epoch 3/10\n",
      "834/834 [==============================] - 3s 4ms/step - loss: 1.3709 - accuracy: 0.5088\n",
      "Epoch 4/10\n",
      "834/834 [==============================] - 3s 4ms/step - loss: 1.1734 - accuracy: 0.5857\n",
      "Epoch 5/10\n",
      "834/834 [==============================] - 3s 4ms/step - loss: 1.0139 - accuracy: 0.6442\n",
      "Epoch 6/10\n",
      "834/834 [==============================] - 4s 5ms/step - loss: 0.8425 - accuracy: 0.7077\n",
      "Epoch 7/10\n",
      "834/834 [==============================] - 3s 4ms/step - loss: 0.6874 - accuracy: 0.7600\n",
      "Epoch 8/10\n",
      "834/834 [==============================] - 3s 4ms/step - loss: 0.5699 - accuracy: 0.8049\n",
      "Epoch 9/10\n",
      "834/834 [==============================] - 3s 4ms/step - loss: 0.4629 - accuracy: 0.8408\n",
      "Epoch 10/10\n",
      "834/834 [==============================] - 4s 4ms/step - loss: 0.4006 - accuracy: 0.8652\n",
      "417/417 [==============================] - 1s 3ms/step - loss: 2.0579 - accuracy: 0.5692\n",
      "Epoch 1/10\n",
      "834/834 [==============================] - 5s 4ms/step - loss: 2.4595 - accuracy: 0.2674\n",
      "Epoch 2/10\n",
      "834/834 [==============================] - 4s 5ms/step - loss: 1.4645 - accuracy: 0.4742\n",
      "Epoch 3/10\n",
      "834/834 [==============================] - 3s 4ms/step - loss: 1.2337 - accuracy: 0.5641\n",
      "Epoch 4/10\n",
      "834/834 [==============================] - 3s 4ms/step - loss: 1.0688 - accuracy: 0.6277\n",
      "Epoch 5/10\n",
      "834/834 [==============================] - 3s 4ms/step - loss: 0.9272 - accuracy: 0.6764\n",
      "Epoch 6/10\n",
      "834/834 [==============================] - 4s 4ms/step - loss: 0.7914 - accuracy: 0.7223\n",
      "Epoch 7/10\n",
      "834/834 [==============================] - 3s 4ms/step - loss: 0.6523 - accuracy: 0.7741\n",
      "Epoch 8/10\n",
      "834/834 [==============================] - 3s 4ms/step - loss: 0.5296 - accuracy: 0.8184\n",
      "Epoch 9/10\n",
      "834/834 [==============================] - 4s 5ms/step - loss: 0.4369 - accuracy: 0.8510\n",
      "Epoch 10/10\n",
      "834/834 [==============================] - 3s 4ms/step - loss: 0.3906 - accuracy: 0.8703\n",
      "417/417 [==============================] - 2s 4ms/step - loss: 2.0206 - accuracy: 0.5825\n",
      "Epoch 1/10\n",
      "834/834 [==============================] - 5s 5ms/step - loss: 2.5605 - accuracy: 0.2075\n",
      "Epoch 2/10\n",
      "834/834 [==============================] - 3s 4ms/step - loss: 1.7361 - accuracy: 0.3609\n",
      "Epoch 3/10\n",
      "834/834 [==============================] - 4s 5ms/step - loss: 1.5129 - accuracy: 0.4499\n",
      "Epoch 4/10\n",
      "834/834 [==============================] - 3s 4ms/step - loss: 1.3103 - accuracy: 0.5340\n",
      "Epoch 5/10\n",
      "834/834 [==============================] - 3s 4ms/step - loss: 1.1200 - accuracy: 0.6028\n",
      "Epoch 6/10\n",
      "834/834 [==============================] - 4s 4ms/step - loss: 0.9402 - accuracy: 0.6684\n",
      "Epoch 7/10\n",
      "834/834 [==============================] - 4s 4ms/step - loss: 0.7644 - accuracy: 0.7341\n",
      "Epoch 8/10\n",
      "834/834 [==============================] - 3s 4ms/step - loss: 0.5981 - accuracy: 0.7939\n",
      "Epoch 9/10\n",
      "834/834 [==============================] - 3s 4ms/step - loss: 0.4619 - accuracy: 0.8383\n",
      "Epoch 10/10\n",
      "834/834 [==============================] - 4s 5ms/step - loss: 0.3868 - accuracy: 0.8676\n",
      "417/417 [==============================] - 1s 3ms/step - loss: 2.1760 - accuracy: 0.5574\n",
      "Epoch 1/10\n",
      "834/834 [==============================] - 5s 4ms/step - loss: 2.7671 - accuracy: 0.2584\n",
      "Epoch 2/10\n",
      "834/834 [==============================] - 3s 4ms/step - loss: 1.5836 - accuracy: 0.4527\n",
      "Epoch 3/10\n",
      "834/834 [==============================] - 4s 4ms/step - loss: 1.4134 - accuracy: 0.5171\n",
      "Epoch 4/10\n",
      "834/834 [==============================] - 3s 4ms/step - loss: 1.3148 - accuracy: 0.5576\n",
      "Epoch 5/10\n",
      "834/834 [==============================] - 3s 4ms/step - loss: 1.2690 - accuracy: 0.5775\n",
      "Epoch 6/10\n",
      "834/834 [==============================] - 4s 4ms/step - loss: 1.2585 - accuracy: 0.5925\n",
      "Epoch 7/10\n",
      "834/834 [==============================] - 3s 4ms/step - loss: 1.2141 - accuracy: 0.6119\n",
      "Epoch 8/10\n",
      "834/834 [==============================] - 3s 4ms/step - loss: 1.1574 - accuracy: 0.6292\n",
      "Epoch 9/10\n",
      "834/834 [==============================] - 3s 4ms/step - loss: 1.1406 - accuracy: 0.6420\n",
      "Epoch 10/10\n",
      "834/834 [==============================] - 4s 5ms/step - loss: 1.1052 - accuracy: 0.6521\n",
      "417/417 [==============================] - 1s 3ms/step - loss: 2.2220 - accuracy: 0.5366\n",
      "Epoch 1/10\n",
      "834/834 [==============================] - 5s 4ms/step - loss: 2.6798 - accuracy: 0.2594\n",
      "Epoch 2/10\n",
      "834/834 [==============================] - 3s 4ms/step - loss: 1.5698 - accuracy: 0.4521\n",
      "Epoch 3/10\n",
      "834/834 [==============================] - 3s 4ms/step - loss: 1.4153 - accuracy: 0.5185\n",
      "Epoch 4/10\n",
      "834/834 [==============================] - 4s 4ms/step - loss: 1.3100 - accuracy: 0.5599\n",
      "Epoch 5/10\n",
      "834/834 [==============================] - 3s 4ms/step - loss: 1.2458 - accuracy: 0.5846\n",
      "Epoch 6/10\n",
      "834/834 [==============================] - 3s 4ms/step - loss: 1.1923 - accuracy: 0.6063\n",
      "Epoch 7/10\n",
      "834/834 [==============================] - 3s 4ms/step - loss: 1.1449 - accuracy: 0.6276\n",
      "Epoch 8/10\n",
      "834/834 [==============================] - 4s 5ms/step - loss: 1.1041 - accuracy: 0.6430\n",
      "Epoch 9/10\n",
      "834/834 [==============================] - 3s 4ms/step - loss: 1.0750 - accuracy: 0.6570\n",
      "Epoch 10/10\n",
      "834/834 [==============================] - 3s 4ms/step - loss: 1.0387 - accuracy: 0.6694\n",
      "417/417 [==============================] - 1s 3ms/step - loss: 1.5982 - accuracy: 0.5391\n",
      "Epoch 1/10\n",
      "834/834 [==============================] - 5s 5ms/step - loss: 2.8472 - accuracy: 0.2377\n",
      "Epoch 2/10\n",
      "834/834 [==============================] - 3s 4ms/step - loss: 1.6339 - accuracy: 0.4246\n",
      "Epoch 3/10\n",
      "834/834 [==============================] - 3s 4ms/step - loss: 1.4432 - accuracy: 0.5121\n",
      "Epoch 4/10\n",
      "834/834 [==============================] - 4s 4ms/step - loss: 1.3366 - accuracy: 0.5517\n",
      "Epoch 5/10\n",
      "834/834 [==============================] - 3s 4ms/step - loss: 1.2459 - accuracy: 0.5836\n",
      "Epoch 6/10\n",
      "834/834 [==============================] - 3s 4ms/step - loss: 1.1752 - accuracy: 0.6153\n",
      "Epoch 7/10\n",
      "834/834 [==============================] - 3s 4ms/step - loss: 1.1292 - accuracy: 0.6372\n",
      "Epoch 8/10\n",
      "834/834 [==============================] - 4s 5ms/step - loss: 1.0769 - accuracy: 0.6595\n",
      "Epoch 9/10\n",
      "834/834 [==============================] - 3s 4ms/step - loss: 1.0269 - accuracy: 0.6752\n",
      "Epoch 10/10\n",
      "834/834 [==============================] - 3s 4ms/step - loss: 1.0121 - accuracy: 0.6856\n",
      "417/417 [==============================] - 1s 3ms/step - loss: 1.7891 - accuracy: 0.5024\n",
      "Epoch 1/10\n",
      "1250/1250 [==============================] - 6s 4ms/step - loss: 2.2751 - accuracy: 0.3247\n",
      "Epoch 2/10\n",
      "1250/1250 [==============================] - 4s 4ms/step - loss: 1.4505 - accuracy: 0.4835\n",
      "Epoch 3/10\n",
      "1250/1250 [==============================] - 5s 4ms/step - loss: 1.2351 - accuracy: 0.5672\n",
      "Epoch 4/10\n",
      "1250/1250 [==============================] - 4s 4ms/step - loss: 1.0504 - accuracy: 0.6332\n",
      "Epoch 5/10\n",
      "1250/1250 [==============================] - 4s 4ms/step - loss: 0.9034 - accuracy: 0.6850\n",
      "Epoch 6/10\n",
      "1250/1250 [==============================] - 5s 4ms/step - loss: 0.7606 - accuracy: 0.7358\n",
      "Epoch 7/10\n",
      "1250/1250 [==============================] - 4s 4ms/step - loss: 0.6346 - accuracy: 0.7811\n",
      "Epoch 8/10\n",
      "1250/1250 [==============================] - 5s 4ms/step - loss: 0.5156 - accuracy: 0.8238\n",
      "Epoch 9/10\n",
      "1250/1250 [==============================] - 5s 4ms/step - loss: 0.4382 - accuracy: 0.8540\n",
      "Epoch 10/10\n",
      "1250/1250 [==============================] - 4s 4ms/step - loss: 0.3755 - accuracy: 0.8755\n",
      "{'learning_rate': 0.001, 'optimizer': 'Adam'}\n"
     ]
    }
   ],
   "source": [
    "# Define model optimizer and loss function\n",
    "from keras.wrappers.scikit_learn import KerasClassifier, KerasRegressor\n",
    "param_gird = {'learning_rate' : [0.1, 0.01, 0.001, 0.0001], 'optimizer' : [SGD, Adam, RMSprop]}\n",
    "\n",
    "estimator = KerasClassifier(build_fn = define_model, epochs = 10)\n",
    "\n",
    "grid = GridSearchCV(estimator = estimator, param_grid = param_grid, cv = 3)\n",
    "\n",
    "grid_result = grid.fit(x_tr, y_tr)\n",
    "\n",
    "print(grid_result.best_params_)"
   ]
  },
  {
   "cell_type": "code",
   "execution_count": 124,
   "metadata": {
    "colab": {
     "base_uri": "https://localhost:8080/"
    },
    "id": "o8Ft_K3HElPc",
    "outputId": "af966ec7-feb3-4595-c3bd-3844c230afcf"
   },
   "outputs": [
    {
     "name": "stdout",
     "output_type": "stream",
     "text": [
      "Epoch 1/100\n",
      "1250/1250 [==============================] - 7s 5ms/step - loss: 2.0873 - accuracy: 0.3405 - val_loss: 1.4923 - val_accuracy: 0.4532\n",
      "Epoch 2/100\n",
      "1250/1250 [==============================] - 6s 5ms/step - loss: 1.3816 - accuracy: 0.5088 - val_loss: 1.3003 - val_accuracy: 0.5487\n",
      "Epoch 3/100\n",
      "1250/1250 [==============================] - 5s 4ms/step - loss: 1.1721 - accuracy: 0.5877 - val_loss: 1.2022 - val_accuracy: 0.5806\n",
      "Epoch 4/100\n",
      "1250/1250 [==============================] - 6s 5ms/step - loss: 1.0224 - accuracy: 0.6454 - val_loss: 1.2295 - val_accuracy: 0.5899\n",
      "Epoch 5/100\n",
      "1250/1250 [==============================] - 6s 5ms/step - loss: 0.8953 - accuracy: 0.6915 - val_loss: 1.1917 - val_accuracy: 0.6125\n",
      "Epoch 6/100\n",
      "1250/1250 [==============================] - 6s 5ms/step - loss: 0.7688 - accuracy: 0.7331 - val_loss: 1.2589 - val_accuracy: 0.6079\n",
      "Epoch 7/100\n",
      "1250/1250 [==============================] - 6s 4ms/step - loss: 0.6428 - accuracy: 0.7771 - val_loss: 1.3392 - val_accuracy: 0.6044\n",
      "Epoch 8/100\n",
      "1250/1250 [==============================] - 6s 4ms/step - loss: 0.5454 - accuracy: 0.8101 - val_loss: 1.4318 - val_accuracy: 0.6225\n",
      "Epoch 9/100\n",
      "1250/1250 [==============================] - 6s 5ms/step - loss: 0.4606 - accuracy: 0.8425 - val_loss: 1.5882 - val_accuracy: 0.6239\n",
      "Epoch 10/100\n",
      "1250/1250 [==============================] - 5s 4ms/step - loss: 0.3947 - accuracy: 0.8668 - val_loss: 1.7741 - val_accuracy: 0.6182\n",
      "Epoch 10: early stopping\n"
     ]
    }
   ],
   "source": [
    "# Train the model and store model parameters/loss values\n",
    "#As we can see that after performing GridSearch we get the best result with OPTIMIZER = ADAM, LEARNING_RATE = 0.001\n",
    "\n",
    "from keras.callbacks import EarlyStopping\n",
    "def best_model():\n",
    "  model = Sequential()\n",
    "\n",
    "  model.add(Conv2D(32, (3, 3) , input_shape=(32, 32, 3)))\n",
    "  model.add(Activation('relu'))\n",
    "  model.add(MaxPooling2D((2, 2)))\n",
    "\n",
    "  model.add(Conv2D(64, (4, 4)))\n",
    "  model.add(Activation('relu'))\n",
    "  model.add(MaxPooling2D((2, 2)))\n",
    "\n",
    "  model.add(Flatten())\n",
    "  model.add(Dense(256))\n",
    "  model.add(Activation('relu'))\n",
    "  model.add(Dense(10))\n",
    "  model.add(Activation('softmax'))\n",
    "\n",
    "  return model\n",
    "\n",
    "model = best_model()\n",
    "\n",
    "\n",
    "model.compile(loss = 'categorical_crossentropy',\n",
    "              optimizer = Adam(learning_rate = 0.001),\n",
    "              metrics = ['accuracy'])\n",
    "early_stop = EarlyStopping(monitor = 'val_loss', patience = 5, verbose =1, mode = 'auto')\n",
    "history = model.fit(x_tr, y_tr , batch_size = 32, epochs=100, validation_data=(x_val, y_val), callbacks=[early_stop])"
   ]
  },
  {
   "cell_type": "markdown",
   "metadata": {
    "id": "kUgi3aXSElPd"
   },
   "source": [
    "## 3. Plot the training and validation loss curve versus epochs. (5 points)"
   ]
  },
  {
   "cell_type": "code",
   "execution_count": 131,
   "metadata": {
    "colab": {
     "base_uri": "https://localhost:8080/",
     "height": 449
    },
    "id": "UYIduuDFElPd",
    "outputId": "7bf71c58-b593-4857-db98-5f4b2d9627f8"
   },
   "outputs": [
    {
     "data": {
      "image/png": "[encoded data removed]",
      "text/plain": [
       "<Figure size 640x480 with 1 Axes>"
      ]
     },
     "metadata": {},
     "output_type": "display_data"
    }
   ],
   "source": [
    "# Plot the loss curve\n",
    "import matplotlib.pyplot as plt\n",
    "%matplotlib inline\n",
    "\n",
    "acc = history.history['accuracy']\n",
    "val_acc = history.history['val_accuracy']\n",
    "\n",
    "epochs = range(len(acc))\n",
    "\n",
    "plt.plot(epochs, acc, 'bo', label='Training acc')\n",
    "plt.plot(epochs, val_acc, 'r', label='Validation acc')\n",
    "plt.xlabel('Epochs')\n",
    "plt.ylabel('Accuracy')\n",
    "plt.legend()\n",
    "plt.show()"
   ]
  },
  {
   "cell_type": "markdown",
   "metadata": {
    "id": "T2KtF09vElPd"
   },
   "source": [
    "## 4. Train (again) and evaluate the model (5 points)\n",
    "\n",
    "- To this end, you have found the \"best\" hyper-parameters. \n",
    "- Now, fix the hyper-parameters and train the network on the entire training set (all the 50K training samples)\n",
    "- Evaluate your model on the test set."
   ]
  },
  {
   "cell_type": "markdown",
   "metadata": {
    "id": "nPxtjL-ZElPd"
   },
   "source": [
    "### Train the model on the entire training set\n",
    "\n",
    "Why? Previously, you used 40K samples for training; you wasted 10K samples for the sake of hyper-parameter tuning. Now you already know the hyper-parameters, so why not using all the 50K samples for training?"
   ]
  },
  {
   "cell_type": "code",
   "execution_count": 133,
   "metadata": {
    "id": "9DAo1hsDElPd"
   },
   "outputs": [],
   "source": [
    "#<Compile your model again (using the same hyper-parameters you tuned above)>\n",
    "model = best_model()\n",
    "\n",
    "model.compile(loss = 'categorical_crossentropy',\n",
    "              optimizer = Adam(learning_rate = 0.001),\n",
    "              metrics = ['accuracy'])\n"
   ]
  },
  {
   "cell_type": "code",
   "execution_count": 134,
   "metadata": {
    "colab": {
     "base_uri": "https://localhost:8080/"
    },
    "id": "_IX-RZJ0ElPd",
    "outputId": "7a7912d8-15cd-43d0-d1ff-bb7be554f175"
   },
   "outputs": [
    {
     "name": "stdout",
     "output_type": "stream",
     "text": [
      "Epoch 1/10\n",
      "1563/1563 [==============================] - 7s 4ms/step - loss: 2.0953 - accuracy: 0.2977\n",
      "Epoch 2/10\n",
      "1563/1563 [==============================] - 6s 4ms/step - loss: 1.4467 - accuracy: 0.4850\n",
      "Epoch 3/10\n",
      "1563/1563 [==============================] - 6s 4ms/step - loss: 1.2112 - accuracy: 0.5770\n",
      "Epoch 4/10\n",
      "1563/1563 [==============================] - 6s 4ms/step - loss: 1.0708 - accuracy: 0.6272\n",
      "Epoch 5/10\n",
      "1563/1563 [==============================] - 6s 4ms/step - loss: 0.9483 - accuracy: 0.6739\n",
      "Epoch 6/10\n",
      "1563/1563 [==============================] - 6s 4ms/step - loss: 0.8375 - accuracy: 0.7103\n",
      "Epoch 7/10\n",
      "1563/1563 [==============================] - 6s 4ms/step - loss: 0.7263 - accuracy: 0.7499\n",
      "Epoch 8/10\n",
      "1563/1563 [==============================] - 6s 4ms/step - loss: 0.6437 - accuracy: 0.7786\n",
      "Epoch 9/10\n",
      "1563/1563 [==============================] - 6s 4ms/step - loss: 0.5585 - accuracy: 0.8098\n",
      "Epoch 10/10\n",
      "1563/1563 [==============================] - 6s 4ms/step - loss: 0.4855 - accuracy: 0.8353\n"
     ]
    }
   ],
   "source": [
    "#<Train your model on the entire training set (50K samples)>\n",
    "history = model.fit(x_train, y_train_vec ,epochs=10)"
   ]
  },
  {
   "cell_type": "markdown",
   "metadata": {
    "id": "tWVc4auCElPd"
   },
   "source": [
    "## 5. Evaluate the model on the test set (5 points)\n",
    "\n",
    "Do NOT use the test set until now. Make sure that your model parameters and hyper-parameters are independent of the test set."
   ]
  },
  {
   "cell_type": "code",
   "execution_count": 135,
   "metadata": {
    "colab": {
     "base_uri": "https://localhost:8080/"
    },
    "id": "goIBlbX8ElPe",
    "outputId": "aedbd41a-1549-4a93-a628-9b4086e9995c"
   },
   "outputs": [
    {
     "name": "stdout",
     "output_type": "stream",
     "text": [
      "313/313 [==============================] - 1s 4ms/step - loss: 1.7031 - accuracy: 0.6092\n",
      "loss = 1.703149437904358\n",
      "accuracy = 0.6092000007629395\n"
     ]
    }
   ],
   "source": [
    "# Evaluate your model performance (testing accuracy) on testing data.\n",
    "testing_result = model.evaluate(x_test, y_test_vec)\n",
    "print('loss = ' + str(testing_result[0]))\n",
    "print('accuracy = ' + str(testing_result[1]))"
   ]
  },
  {
   "cell_type": "markdown",
   "metadata": {
    "id": "gJ4QOMO2ElPe"
   },
   "source": [
    "## 6. Building model with new structure (25 points)\n",
    "- In this section, you can build your model with adding new layers (e.g, BN layer or dropout layer, ...).\n",
    "- If you want to regularize a ```Conv/Dense layer```, you should place a ```Dropout layer``` before the ```Conv/Dense layer```.\n",
    "- You can try to compare their loss curve and testing accuracy and analyze your findings.\n",
    "- You need to try at lease two different model structures."
   ]
  },
  {
   "cell_type": "code",
   "execution_count": 150,
   "metadata": {
    "id": "n7YfSmJbElPe"
   },
   "outputs": [],
   "source": [
    "def model1():\n",
    "  model = Sequential()\n",
    "  model.add(Conv2D(32, (3, 3), padding='same', input_shape=(32, 32, 3)))\n",
    "  model.add(BatchNormalization())\n",
    "  model.add(Activation('relu'))\n",
    "  model.add(MaxPooling2D((2, 2)))\n",
    "\n",
    "  model.add(Conv2D(64, (3, 3), padding='same'))\n",
    "  model.add(BatchNormalization())\n",
    "  model.add(Activation('relu'))\n",
    "  model.add(MaxPooling2D((2, 2)))\n",
    "\n",
    "  model.add(Conv2D(128, (3, 3), padding='same'))\n",
    "  model.add(BatchNormalization())\n",
    "  model.add(Activation('relu'))\n",
    "  model.add(MaxPooling2D((2, 2)))\n",
    "\n",
    "  model.add(Flatten())\n",
    "  model.add(Dropout(0.5))\n",
    "  model.add(Dense(512))\n",
    "  model.add(BatchNormalization())\n",
    "  model.add(Activation('relu'))\n",
    "  model.add(Dense(10))\n",
    "  model.add(Activation('softmax'))\n",
    "\n",
    "  model.summary()\n",
    "  return model"
   ]
  },
  {
   "cell_type": "code",
   "execution_count": 153,
   "metadata": {
    "colab": {
     "base_uri": "https://localhost:8080/"
    },
    "id": "OfkRVYoM54vS",
    "outputId": "074a1c23-d455-49a8-dd8f-f3b710f1e27a"
   },
   "outputs": [
    {
     "name": "stdout",
     "output_type": "stream",
     "text": [
      "Model: \"sequential_96\"\n",
      "_________________________________________________________________\n",
      " Layer (type)                Output Shape              Param #   \n",
      "=================================================================\n",
      " conv2d_204 (Conv2D)         (None, 32, 32, 32)        896       \n",
      "                                                                 \n",
      " batch_normalization_39 (Bat  (None, 32, 32, 32)       128       \n",
      " chNormalization)                                                \n",
      "                                                                 \n",
      " activation_396 (Activation)  (None, 32, 32, 32)       0         \n",
      "                                                                 \n",
      " max_pooling2d_201 (MaxPooli  (None, 16, 16, 32)       0         \n",
      " ng2D)                                                           \n",
      "                                                                 \n",
      " conv2d_205 (Conv2D)         (None, 16, 16, 64)        18496     \n",
      "                                                                 \n",
      " batch_normalization_40 (Bat  (None, 16, 16, 64)       256       \n",
      " chNormalization)                                                \n",
      "                                                                 \n",
      " activation_397 (Activation)  (None, 16, 16, 64)       0         \n",
      "                                                                 \n",
      " max_pooling2d_202 (MaxPooli  (None, 8, 8, 64)         0         \n",
      " ng2D)                                                           \n",
      "                                                                 \n",
      " conv2d_206 (Conv2D)         (None, 8, 8, 128)         73856     \n",
      "                                                                 \n",
      " batch_normalization_41 (Bat  (None, 8, 8, 128)        512       \n",
      " chNormalization)                                                \n",
      "                                                                 \n",
      " activation_398 (Activation)  (None, 8, 8, 128)        0         \n",
      "                                                                 \n",
      " max_pooling2d_203 (MaxPooli  (None, 4, 4, 128)        0         \n",
      " ng2D)                                                           \n",
      "                                                                 \n",
      " flatten_96 (Flatten)        (None, 2048)              0         \n",
      "                                                                 \n",
      " dropout_9 (Dropout)         (None, 2048)              0         \n",
      "                                                                 \n",
      " dense_192 (Dense)           (None, 512)               1049088   \n",
      "                                                                 \n",
      " batch_normalization_42 (Bat  (None, 512)              2048      \n",
      " chNormalization)                                                \n",
      "                                                                 \n",
      " activation_399 (Activation)  (None, 512)              0         \n",
      "                                                                 \n",
      " dense_193 (Dense)           (None, 10)                5130      \n",
      "                                                                 \n",
      " activation_400 (Activation)  (None, 10)               0         \n",
      "                                                                 \n",
      "=================================================================\n",
      "Total params: 1,150,410\n",
      "Trainable params: 1,148,938\n",
      "Non-trainable params: 1,472\n",
      "_________________________________________________________________\n",
      "Epoch 1/100\n",
      "1250/1250 [==============================] - 8s 5ms/step - loss: 1.3695 - accuracy: 0.5163 - val_loss: 1.1797 - val_accuracy: 0.5745\n",
      "Epoch 2/100\n",
      "1250/1250 [==============================] - 7s 5ms/step - loss: 1.0212 - accuracy: 0.6396 - val_loss: 1.0012 - val_accuracy: 0.6430\n",
      "Epoch 3/100\n",
      "1250/1250 [==============================] - 7s 5ms/step - loss: 0.8901 - accuracy: 0.6848 - val_loss: 0.8934 - val_accuracy: 0.6728\n",
      "Epoch 4/100\n",
      "1250/1250 [==============================] - 7s 6ms/step - loss: 0.8024 - accuracy: 0.7189 - val_loss: 0.8751 - val_accuracy: 0.6863\n",
      "Epoch 5/100\n",
      "1250/1250 [==============================] - 6s 5ms/step - loss: 0.7351 - accuracy: 0.7427 - val_loss: 1.2140 - val_accuracy: 0.5905\n",
      "Epoch 6/100\n",
      "1250/1250 [==============================] - 7s 5ms/step - loss: 0.6727 - accuracy: 0.7660 - val_loss: 0.7951 - val_accuracy: 0.7170\n",
      "Epoch 7/100\n",
      "1250/1250 [==============================] - 6s 5ms/step - loss: 0.6308 - accuracy: 0.7765 - val_loss: 0.7353 - val_accuracy: 0.7385\n",
      "Epoch 8/100\n",
      "1250/1250 [==============================] - 7s 6ms/step - loss: 0.5734 - accuracy: 0.7973 - val_loss: 0.9130 - val_accuracy: 0.6896\n",
      "Epoch 9/100\n",
      "1250/1250 [==============================] - 6s 5ms/step - loss: 0.5392 - accuracy: 0.8104 - val_loss: 1.8925 - val_accuracy: 0.4870\n",
      "Epoch 10/100\n",
      "1250/1250 [==============================] - 7s 6ms/step - loss: 0.5004 - accuracy: 0.8254 - val_loss: 0.6719 - val_accuracy: 0.7674\n",
      "Epoch 11/100\n",
      "1250/1250 [==============================] - 7s 5ms/step - loss: 0.4687 - accuracy: 0.8349 - val_loss: 0.8738 - val_accuracy: 0.7160\n",
      "Epoch 12/100\n",
      "1250/1250 [==============================] - 7s 5ms/step - loss: 0.4384 - accuracy: 0.8455 - val_loss: 0.8160 - val_accuracy: 0.7377\n",
      "Epoch 13/100\n",
      "1250/1250 [==============================] - 7s 6ms/step - loss: 0.4121 - accuracy: 0.8548 - val_loss: 0.6189 - val_accuracy: 0.7859\n",
      "Epoch 14/100\n",
      "1250/1250 [==============================] - 7s 5ms/step - loss: 0.3832 - accuracy: 0.8654 - val_loss: 0.7549 - val_accuracy: 0.7571\n",
      "Epoch 15/100\n",
      "1250/1250 [==============================] - 7s 5ms/step - loss: 0.3665 - accuracy: 0.8716 - val_loss: 0.6842 - val_accuracy: 0.7721\n",
      "Epoch 16/100\n",
      "1250/1250 [==============================] - 6s 5ms/step - loss: 0.3422 - accuracy: 0.8783 - val_loss: 0.9939 - val_accuracy: 0.6984\n",
      "Epoch 17/100\n",
      "1250/1250 [==============================] - 7s 6ms/step - loss: 0.3203 - accuracy: 0.8868 - val_loss: 0.6926 - val_accuracy: 0.7657\n",
      "Epoch 18/100\n",
      "1250/1250 [==============================] - 6s 5ms/step - loss: 0.3145 - accuracy: 0.8891 - val_loss: 0.6192 - val_accuracy: 0.7968\n",
      "Epoch 19/100\n",
      "1250/1250 [==============================] - 7s 5ms/step - loss: 0.2901 - accuracy: 0.8978 - val_loss: 0.6418 - val_accuracy: 0.7949\n",
      "Epoch 20/100\n",
      "1250/1250 [==============================] - 6s 5ms/step - loss: 0.2860 - accuracy: 0.8979 - val_loss: 0.6362 - val_accuracy: 0.7913\n",
      "Epoch 21/100\n",
      "1250/1250 [==============================] - 7s 5ms/step - loss: 0.2624 - accuracy: 0.9076 - val_loss: 0.6870 - val_accuracy: 0.7812\n",
      "Epoch 22/100\n",
      "1250/1250 [==============================] - 7s 5ms/step - loss: 0.2617 - accuracy: 0.9066 - val_loss: 0.6495 - val_accuracy: 0.8005\n",
      "Epoch 23/100\n",
      "1250/1250 [==============================] - 7s 5ms/step - loss: 0.2545 - accuracy: 0.9089 - val_loss: 0.6040 - val_accuracy: 0.8074\n",
      "Epoch 24/100\n",
      "1250/1250 [==============================] - 7s 6ms/step - loss: 0.2403 - accuracy: 0.9136 - val_loss: 0.6185 - val_accuracy: 0.8058\n",
      "Epoch 25/100\n",
      "1250/1250 [==============================] - 7s 6ms/step - loss: 0.2265 - accuracy: 0.9191 - val_loss: 0.7942 - val_accuracy: 0.7673\n",
      "Epoch 26/100\n",
      "1250/1250 [==============================] - 7s 5ms/step - loss: 0.2229 - accuracy: 0.9211 - val_loss: 0.6620 - val_accuracy: 0.7923\n",
      "Epoch 27/100\n",
      "1250/1250 [==============================] - 6s 5ms/step - loss: 0.2118 - accuracy: 0.9244 - val_loss: 0.7637 - val_accuracy: 0.7779\n",
      "Epoch 28/100\n",
      "1250/1250 [==============================] - 7s 5ms/step - loss: 0.2097 - accuracy: 0.9270 - val_loss: 0.6266 - val_accuracy: 0.8092\n",
      "Epoch 29/100\n",
      "1250/1250 [==============================] - 6s 5ms/step - loss: 0.2033 - accuracy: 0.9282 - val_loss: 0.6478 - val_accuracy: 0.8067\n",
      "Epoch 30/100\n",
      "1250/1250 [==============================] - 7s 6ms/step - loss: 0.1947 - accuracy: 0.9315 - val_loss: 0.6960 - val_accuracy: 0.7965\n",
      "Epoch 31/100\n",
      "1250/1250 [==============================] - 6s 5ms/step - loss: 0.1911 - accuracy: 0.9314 - val_loss: 0.5990 - val_accuracy: 0.8130\n",
      "Epoch 32/100\n",
      "1250/1250 [==============================] - 7s 5ms/step - loss: 0.1892 - accuracy: 0.9326 - val_loss: 0.6917 - val_accuracy: 0.7938\n",
      "Epoch 33/100\n",
      "1250/1250 [==============================] - 7s 5ms/step - loss: 0.1853 - accuracy: 0.9358 - val_loss: 0.7126 - val_accuracy: 0.7934\n",
      "Epoch 34/100\n",
      "1250/1250 [==============================] - 7s 5ms/step - loss: 0.1774 - accuracy: 0.9382 - val_loss: 0.6809 - val_accuracy: 0.8022\n",
      "Epoch 35/100\n",
      "1250/1250 [==============================] - 7s 6ms/step - loss: 0.1756 - accuracy: 0.9378 - val_loss: 0.6543 - val_accuracy: 0.8047\n",
      "Epoch 36/100\n",
      "1250/1250 [==============================] - 7s 5ms/step - loss: 0.1702 - accuracy: 0.9396 - val_loss: 0.7491 - val_accuracy: 0.7877\n",
      "Epoch 37/100\n",
      "1250/1250 [==============================] - 7s 6ms/step - loss: 0.1692 - accuracy: 0.9407 - val_loss: 0.6823 - val_accuracy: 0.8088\n",
      "Epoch 38/100\n",
      "1250/1250 [==============================] - 6s 5ms/step - loss: 0.1681 - accuracy: 0.9414 - val_loss: 0.6862 - val_accuracy: 0.8021\n",
      "Epoch 39/100\n",
      "1250/1250 [==============================] - 7s 6ms/step - loss: 0.1583 - accuracy: 0.9441 - val_loss: 0.6700 - val_accuracy: 0.8136\n",
      "Epoch 40/100\n",
      "1250/1250 [==============================] - 6s 5ms/step - loss: 0.1570 - accuracy: 0.9452 - val_loss: 0.7049 - val_accuracy: 0.8023\n",
      "Epoch 41/100\n",
      "1250/1250 [==============================] - 7s 6ms/step - loss: 0.1573 - accuracy: 0.9445 - val_loss: 0.6656 - val_accuracy: 0.8069\n",
      "Epoch 41: early stopping\n"
     ]
    }
   ],
   "source": [
    "model = model1()\n",
    "model.compile(loss = 'categorical_crossentropy',\n",
    "              optimizer = Adam(learning_rate = 0.001),\n",
    "              metrics = ['accuracy'])\n",
    "early_stop = EarlyStopping(monitor = 'val_loss', patience = 10, verbose =1, mode = 'auto')\n",
    "history = model.fit(x_tr, y_tr , batch_size = 32, epochs=100, validation_data=(x_val, y_val), callbacks=[early_stop])"
   ]
  },
  {
   "cell_type": "code",
   "execution_count": 154,
   "metadata": {
    "colab": {
     "base_uri": "https://localhost:8080/",
     "height": 449
    },
    "id": "BFQDtxT76vBf",
    "outputId": "300053cb-b2fc-49ec-ad5b-40ba0e816d9a"
   },
   "outputs": [
    {
     "data": {
      "image/png": "[encoded data removed]",
      "text/plain": [
       "<Figure size 640x480 with 1 Axes>"
      ]
     },
     "metadata": {},
     "output_type": "display_data"
    }
   ],
   "source": [
    "\n",
    "acc = history.history['accuracy']\n",
    "val_acc = history.history['val_accuracy']\n",
    "\n",
    "epochs = range(len(acc))\n",
    "\n",
    "plt.plot(epochs, acc, 'bo', label='Training acc')\n",
    "plt.plot(epochs, val_acc, 'r', label='Validation acc')\n",
    "plt.xlabel('Epochs')\n",
    "plt.ylabel('Accuracy')\n",
    "plt.legend()\n",
    "plt.show()"
   ]
  },
  {
   "cell_type": "code",
   "execution_count": 155,
   "metadata": {
    "colab": {
     "base_uri": "https://localhost:8080/"
    },
    "id": "v4u1L_d48O8r",
    "outputId": "819219e8-52fd-4370-e0e6-a0ee55cb5654"
   },
   "outputs": [
    {
     "name": "stdout",
     "output_type": "stream",
     "text": [
      "Model: \"sequential_97\"\n",
      "_________________________________________________________________\n",
      " Layer (type)                Output Shape              Param #   \n",
      "=================================================================\n",
      " conv2d_207 (Conv2D)         (None, 32, 32, 32)        896       \n",
      "                                                                 \n",
      " batch_normalization_43 (Bat  (None, 32, 32, 32)       128       \n",
      " chNormalization)                                                \n",
      "                                                                 \n",
      " activation_401 (Activation)  (None, 32, 32, 32)       0         \n",
      "                                                                 \n",
      " max_pooling2d_204 (MaxPooli  (None, 16, 16, 32)       0         \n",
      " ng2D)                                                           \n",
      "                                                                 \n",
      " conv2d_208 (Conv2D)         (None, 16, 16, 64)        18496     \n",
      "                                                                 \n",
      " batch_normalization_44 (Bat  (None, 16, 16, 64)       256       \n",
      " chNormalization)                                                \n",
      "                                                                 \n",
      " activation_402 (Activation)  (None, 16, 16, 64)       0         \n",
      "                                                                 \n",
      " max_pooling2d_205 (MaxPooli  (None, 8, 8, 64)         0         \n",
      " ng2D)                                                           \n",
      "                                                                 \n",
      " conv2d_209 (Conv2D)         (None, 8, 8, 128)         73856     \n",
      "                                                                 \n",
      " batch_normalization_45 (Bat  (None, 8, 8, 128)        512       \n",
      " chNormalization)                                                \n",
      "                                                                 \n",
      " activation_403 (Activation)  (None, 8, 8, 128)        0         \n",
      "                                                                 \n",
      " max_pooling2d_206 (MaxPooli  (None, 4, 4, 128)        0         \n",
      " ng2D)                                                           \n",
      "                                                                 \n",
      " flatten_97 (Flatten)        (None, 2048)              0         \n",
      "                                                                 \n",
      " dropout_10 (Dropout)        (None, 2048)              0         \n",
      "                                                                 \n",
      " dense_194 (Dense)           (None, 512)               1049088   \n",
      "                                                                 \n",
      " batch_normalization_46 (Bat  (None, 512)              2048      \n",
      " chNormalization)                                                \n",
      "                                                                 \n",
      " activation_404 (Activation)  (None, 512)              0         \n",
      "                                                                 \n",
      " dense_195 (Dense)           (None, 10)                5130      \n",
      "                                                                 \n",
      " activation_405 (Activation)  (None, 10)               0         \n",
      "                                                                 \n",
      "=================================================================\n",
      "Total params: 1,150,410\n",
      "Trainable params: 1,148,938\n",
      "Non-trainable params: 1,472\n",
      "_________________________________________________________________\n",
      "Epoch 1/41\n",
      "1563/1563 [==============================] - 9s 5ms/step - loss: 1.3368 - accuracy: 0.5228\n",
      "Epoch 2/41\n",
      "1563/1563 [==============================] - 8s 5ms/step - loss: 0.9746 - accuracy: 0.6572\n",
      "Epoch 3/41\n",
      "1563/1563 [==============================] - 9s 6ms/step - loss: 0.8547 - accuracy: 0.6989\n",
      "Epoch 4/41\n",
      "1563/1563 [==============================] - 9s 6ms/step - loss: 0.7586 - accuracy: 0.7314\n",
      "Epoch 5/41\n",
      "1563/1563 [==============================] - 8s 5ms/step - loss: 0.6961 - accuracy: 0.7547\n",
      "Epoch 6/41\n",
      "1563/1563 [==============================] - 8s 5ms/step - loss: 0.6381 - accuracy: 0.7755\n",
      "Epoch 7/41\n",
      "1563/1563 [==============================] - 8s 5ms/step - loss: 0.5878 - accuracy: 0.7926\n",
      "Epoch 8/41\n",
      "1563/1563 [==============================] - 8s 5ms/step - loss: 0.5446 - accuracy: 0.8092\n",
      "Epoch 9/41\n",
      "1563/1563 [==============================] - 8s 5ms/step - loss: 0.5060 - accuracy: 0.8217\n",
      "Epoch 10/41\n",
      "1563/1563 [==============================] - 8s 5ms/step - loss: 0.4716 - accuracy: 0.8348\n",
      "Epoch 11/41\n",
      "1563/1563 [==============================] - 8s 5ms/step - loss: 0.4489 - accuracy: 0.8417\n",
      "Epoch 12/41\n",
      "1563/1563 [==============================] - 9s 6ms/step - loss: 0.4185 - accuracy: 0.8513\n",
      "Epoch 13/41\n",
      "1563/1563 [==============================] - 9s 6ms/step - loss: 0.3965 - accuracy: 0.8598\n",
      "Epoch 14/41\n",
      "1563/1563 [==============================] - 8s 5ms/step - loss: 0.3794 - accuracy: 0.8658\n",
      "Epoch 15/41\n",
      "1563/1563 [==============================] - 8s 5ms/step - loss: 0.3487 - accuracy: 0.8761\n",
      "Epoch 16/41\n",
      "1563/1563 [==============================] - 8s 5ms/step - loss: 0.3410 - accuracy: 0.8800\n",
      "Epoch 17/41\n",
      "1563/1563 [==============================] - 8s 5ms/step - loss: 0.3237 - accuracy: 0.8852\n",
      "Epoch 18/41\n",
      "1563/1563 [==============================] - 8s 5ms/step - loss: 0.2997 - accuracy: 0.8945\n",
      "Epoch 19/41\n",
      "1563/1563 [==============================] - 8s 5ms/step - loss: 0.2966 - accuracy: 0.8948\n",
      "Epoch 20/41\n",
      "1563/1563 [==============================] - 8s 5ms/step - loss: 0.2803 - accuracy: 0.9007\n",
      "Epoch 21/41\n",
      "1563/1563 [==============================] - 9s 5ms/step - loss: 0.2661 - accuracy: 0.9072\n",
      "Epoch 22/41\n",
      "1563/1563 [==============================] - 8s 5ms/step - loss: 0.2619 - accuracy: 0.9082\n",
      "Epoch 23/41\n",
      "1563/1563 [==============================] - 8s 5ms/step - loss: 0.2537 - accuracy: 0.9096\n",
      "Epoch 24/41\n",
      "1563/1563 [==============================] - 8s 5ms/step - loss: 0.2425 - accuracy: 0.9155\n",
      "Epoch 25/41\n",
      "1563/1563 [==============================] - 8s 5ms/step - loss: 0.2335 - accuracy: 0.9169\n",
      "Epoch 26/41\n",
      "1563/1563 [==============================] - 8s 5ms/step - loss: 0.2281 - accuracy: 0.9199\n",
      "Epoch 27/41\n",
      "1563/1563 [==============================] - 8s 5ms/step - loss: 0.2270 - accuracy: 0.9199\n",
      "Epoch 28/41\n",
      "1563/1563 [==============================] - 10s 7ms/step - loss: 0.2135 - accuracy: 0.9255\n",
      "Epoch 29/41\n",
      "1563/1563 [==============================] - 9s 6ms/step - loss: 0.2112 - accuracy: 0.9263\n",
      "Epoch 30/41\n",
      "1563/1563 [==============================] - 8s 5ms/step - loss: 0.2052 - accuracy: 0.9265\n",
      "Epoch 31/41\n",
      "1563/1563 [==============================] - 8s 5ms/step - loss: 0.1943 - accuracy: 0.9301\n",
      "Epoch 32/41\n",
      "1563/1563 [==============================] - 8s 5ms/step - loss: 0.1971 - accuracy: 0.9299\n",
      "Epoch 33/41\n",
      "1563/1563 [==============================] - 8s 5ms/step - loss: 0.1879 - accuracy: 0.9329\n",
      "Epoch 34/41\n",
      "1563/1563 [==============================] - 8s 5ms/step - loss: 0.1832 - accuracy: 0.9353\n",
      "Epoch 35/41\n",
      "1563/1563 [==============================] - 8s 5ms/step - loss: 0.1832 - accuracy: 0.9359\n",
      "Epoch 36/41\n",
      "1563/1563 [==============================] - 8s 5ms/step - loss: 0.1758 - accuracy: 0.9384\n",
      "Epoch 37/41\n",
      "1563/1563 [==============================] - 8s 5ms/step - loss: 0.1764 - accuracy: 0.9382\n",
      "Epoch 38/41\n",
      "1563/1563 [==============================] - 8s 5ms/step - loss: 0.1741 - accuracy: 0.9403\n",
      "Epoch 39/41\n",
      "1563/1563 [==============================] - 8s 5ms/step - loss: 0.1707 - accuracy: 0.9397\n",
      "Epoch 40/41\n",
      "1563/1563 [==============================] - 8s 5ms/step - loss: 0.1640 - accuracy: 0.9421\n",
      "Epoch 41/41\n",
      "1563/1563 [==============================] - 8s 5ms/step - loss: 0.1658 - accuracy: 0.9407\n"
     ]
    }
   ],
   "source": [
    "model = model1()\n",
    "\n",
    "model.compile(loss = 'categorical_crossentropy',\n",
    "              optimizer = Adam(learning_rate = 0.001),\n",
    "              metrics = ['accuracy'])\n",
    "history = model.fit(x_train, y_train_vec ,epochs=41)"
   ]
  },
  {
   "cell_type": "code",
   "execution_count": 156,
   "metadata": {
    "colab": {
     "base_uri": "https://localhost:8080/"
    },
    "id": "aXVVk2KE92fa",
    "outputId": "cd8b10df-972c-4933-d38c-f3e56823e6cd"
   },
   "outputs": [
    {
     "name": "stdout",
     "output_type": "stream",
     "text": [
      "313/313 [==============================] - 2s 6ms/step - loss: 0.6244 - accuracy: 0.8289\n",
      "loss = 0.6244174838066101\n",
      "accuracy = 0.8288999795913696\n"
     ]
    }
   ],
   "source": [
    "testing_result = model.evaluate(x_test, y_test_vec)\n",
    "print('loss = ' + str(testing_result[0]))\n",
    "print('accuracy = ' + str(testing_result[1]))"
   ]
  },
  {
   "cell_type": "code",
   "execution_count": 166,
   "metadata": {
    "colab": {
     "base_uri": "https://localhost:8080/"
    },
    "id": "40TbNs4E_Uqy",
    "outputId": "4c75faa7-ed11-476f-ad82-51686a22f4a1"
   },
   "outputs": [
    {
     "name": "stdout",
     "output_type": "stream",
     "text": [
      "Model: \"sequential_104\"\n",
      "_________________________________________________________________\n",
      " Layer (type)                Output Shape              Param #   \n",
      "=================================================================\n",
      " conv2d_253 (Conv2D)         (None, 32, 32, 32)        896       \n",
      "                                                                 \n",
      " batch_normalization_101 (Ba  (None, 32, 32, 32)       128       \n",
      " tchNormalization)                                               \n",
      "                                                                 \n",
      " activation_466 (Activation)  (None, 32, 32, 32)       0         \n",
      "                                                                 \n",
      " conv2d_254 (Conv2D)         (None, 32, 32, 32)        9248      \n",
      "                                                                 \n",
      " batch_normalization_102 (Ba  (None, 32, 32, 32)       128       \n",
      " tchNormalization)                                               \n",
      "                                                                 \n",
      " activation_467 (Activation)  (None, 32, 32, 32)       0         \n",
      "                                                                 \n",
      " max_pooling2d_230 (MaxPooli  (None, 16, 16, 32)       0         \n",
      " ng2D)                                                           \n",
      "                                                                 \n",
      " conv2d_255 (Conv2D)         (None, 16, 16, 64)        18496     \n",
      "                                                                 \n",
      " batch_normalization_103 (Ba  (None, 16, 16, 64)       256       \n",
      " tchNormalization)                                               \n",
      "                                                                 \n",
      " activation_468 (Activation)  (None, 16, 16, 64)       0         \n",
      "                                                                 \n",
      " conv2d_256 (Conv2D)         (None, 16, 16, 64)        36928     \n",
      "                                                                 \n",
      " batch_normalization_104 (Ba  (None, 16, 16, 64)       256       \n",
      " tchNormalization)                                               \n",
      "                                                                 \n",
      " activation_469 (Activation)  (None, 16, 16, 64)       0         \n",
      "                                                                 \n",
      " max_pooling2d_231 (MaxPooli  (None, 8, 8, 64)         0         \n",
      " ng2D)                                                           \n",
      "                                                                 \n",
      " conv2d_257 (Conv2D)         (None, 8, 8, 128)         73856     \n",
      "                                                                 \n",
      " batch_normalization_105 (Ba  (None, 8, 8, 128)        512       \n",
      " tchNormalization)                                               \n",
      "                                                                 \n",
      " activation_470 (Activation)  (None, 8, 8, 128)        0         \n",
      "                                                                 \n",
      " conv2d_258 (Conv2D)         (None, 8, 8, 128)         147584    \n",
      "                                                                 \n",
      " batch_normalization_106 (Ba  (None, 8, 8, 128)        512       \n",
      " tchNormalization)                                               \n",
      "                                                                 \n",
      " activation_471 (Activation)  (None, 8, 8, 128)        0         \n",
      "                                                                 \n",
      " max_pooling2d_232 (MaxPooli  (None, 4, 4, 128)        0         \n",
      " ng2D)                                                           \n",
      "                                                                 \n",
      " conv2d_259 (Conv2D)         (None, 4, 4, 256)         295168    \n",
      "                                                                 \n",
      " batch_normalization_107 (Ba  (None, 4, 4, 256)        1024      \n",
      " tchNormalization)                                               \n",
      "                                                                 \n",
      " activation_472 (Activation)  (None, 4, 4, 256)        0         \n",
      "                                                                 \n",
      " conv2d_260 (Conv2D)         (None, 4, 4, 256)         590080    \n",
      "                                                                 \n",
      " batch_normalization_108 (Ba  (None, 4, 4, 256)        1024      \n",
      " tchNormalization)                                               \n",
      "                                                                 \n",
      " activation_473 (Activation)  (None, 4, 4, 256)        0         \n",
      "                                                                 \n",
      " max_pooling2d_233 (MaxPooli  (None, 2, 2, 256)        0         \n",
      " ng2D)                                                           \n",
      "                                                                 \n",
      " flatten_104 (Flatten)       (None, 1024)              0         \n",
      "                                                                 \n",
      " dropout_22 (Dropout)        (None, 1024)              0         \n",
      "                                                                 \n",
      " dense_213 (Dense)           (None, 512)               524800    \n",
      "                                                                 \n",
      " batch_normalization_109 (Ba  (None, 512)              2048      \n",
      " tchNormalization)                                               \n",
      "                                                                 \n",
      " activation_474 (Activation)  (None, 512)              0         \n",
      "                                                                 \n",
      " dropout_23 (Dropout)        (None, 512)               0         \n",
      "                                                                 \n",
      " dense_214 (Dense)           (None, 256)               131328    \n",
      "                                                                 \n",
      " batch_normalization_110 (Ba  (None, 256)              1024      \n",
      " tchNormalization)                                               \n",
      "                                                                 \n",
      " activation_475 (Activation)  (None, 256)              0         \n",
      "                                                                 \n",
      " dense_215 (Dense)           (None, 10)                2570      \n",
      "                                                                 \n",
      " activation_476 (Activation)  (None, 10)               0         \n",
      "                                                                 \n",
      "=================================================================\n",
      "Total params: 1,837,866\n",
      "Trainable params: 1,834,410\n",
      "Non-trainable params: 3,456\n",
      "_________________________________________________________________\n"
     ]
    }
   ],
   "source": [
    "def model2():\n",
    "  model = Sequential()\n",
    "\n",
    "  model.add(Conv2D(32, (3, 3), padding='same', input_shape=(32, 32, 3)))\n",
    "  model.add(BatchNormalization())\n",
    "  model.add(Activation('relu'))\n",
    "  model.add(Conv2D(32, (3, 3), padding='same'))\n",
    "  model.add(BatchNormalization())\n",
    "  model.add(Activation('relu'))\n",
    "  model.add(MaxPooling2D((2, 2)))\n",
    "\n",
    "  model.add(Conv2D(64, (3, 3), padding='same'))\n",
    "  model.add(BatchNormalization())\n",
    "  model.add(Activation('relu'))\n",
    "  model.add(Conv2D(64, (3, 3), padding='same'))\n",
    "  model.add(BatchNormalization())\n",
    "  model.add(Activation('relu'))\n",
    "  model.add(MaxPooling2D((2, 2)))\n",
    "\n",
    "  model.add(Conv2D(128, (3, 3), padding='same'))\n",
    "  model.add(BatchNormalization())\n",
    "  model.add(Activation('relu'))\n",
    "  model.add(Conv2D(128, (3, 3), padding='same'))\n",
    "  model.add(BatchNormalization())\n",
    "  model.add(Activation('relu'))\n",
    "  model.add(MaxPooling2D((2, 2)))\n",
    "\n",
    "  model.add(Conv2D(256, (3, 3), padding='same'))\n",
    "  model.add(BatchNormalization())\n",
    "  model.add(Activation('relu'))\n",
    "  model.add(Conv2D(256, (3, 3), padding='same'))\n",
    "  model.add(BatchNormalization())\n",
    "  model.add(Activation('relu'))\n",
    "  model.add(MaxPooling2D((2, 2)))\n",
    "\n",
    "  model.add(Flatten())\n",
    "  model.add(Dropout(0.5))\n",
    "  model.add(Dense(512))\n",
    "  model.add(BatchNormalization())\n",
    "  model.add(Activation('relu'))\n",
    "  model.add(Dropout(0.5))\n",
    "  model.add(Dense(256))\n",
    "  model.add(BatchNormalization())\n",
    "  model.add(Activation('relu'))\n",
    "  model.add(Dense(10))\n",
    "  model.add(Activation('softmax'))\n",
    "\n",
    "  model.summary()\n",
    "  return model\n",
    "model = model2()"
   ]
  },
  {
   "cell_type": "code",
   "execution_count": 161,
   "metadata": {
    "colab": {
     "base_uri": "https://localhost:8080/"
    },
    "id": "-a2nvHOFAE0I",
    "outputId": "e9be6d40-203b-45e5-e6ee-ac8b63e85a81"
   },
   "outputs": [
    {
     "name": "stdout",
     "output_type": "stream",
     "text": [
      "Epoch 1/100\n",
      "1250/1250 [==============================] - 13s 9ms/step - loss: 1.4301 - accuracy: 0.4814 - val_loss: 1.6401 - val_accuracy: 0.4765\n",
      "Epoch 2/100\n",
      "1250/1250 [==============================] - 11s 9ms/step - loss: 0.9469 - accuracy: 0.6693 - val_loss: 1.4260 - val_accuracy: 0.5404\n",
      "Epoch 3/100\n",
      "1250/1250 [==============================] - 11s 9ms/step - loss: 0.7553 - accuracy: 0.7416 - val_loss: 0.8490 - val_accuracy: 0.7112\n",
      "Epoch 4/100\n",
      "1250/1250 [==============================] - 12s 10ms/step - loss: 0.6305 - accuracy: 0.7863 - val_loss: 0.7357 - val_accuracy: 0.7408\n",
      "Epoch 5/100\n",
      "1250/1250 [==============================] - 11s 9ms/step - loss: 0.5403 - accuracy: 0.8185 - val_loss: 0.6305 - val_accuracy: 0.7843\n",
      "Epoch 6/100\n",
      "1250/1250 [==============================] - 11s 9ms/step - loss: 0.4615 - accuracy: 0.8441 - val_loss: 0.9006 - val_accuracy: 0.7128\n",
      "Epoch 7/100\n",
      "1250/1250 [==============================] - 11s 9ms/step - loss: 0.3832 - accuracy: 0.8718 - val_loss: 0.8216 - val_accuracy: 0.7443\n",
      "Epoch 8/100\n",
      "1250/1250 [==============================] - 11s 9ms/step - loss: 0.3267 - accuracy: 0.8887 - val_loss: 1.1049 - val_accuracy: 0.6830\n",
      "Epoch 9/100\n",
      "1250/1250 [==============================] - 11s 9ms/step - loss: 0.2756 - accuracy: 0.9062 - val_loss: 0.8686 - val_accuracy: 0.7432\n",
      "Epoch 10/100\n",
      "1250/1250 [==============================] - 11s 9ms/step - loss: 0.2347 - accuracy: 0.9197 - val_loss: 0.7121 - val_accuracy: 0.7902\n",
      "Epoch 11/100\n",
      "1250/1250 [==============================] - 11s 9ms/step - loss: 0.2023 - accuracy: 0.9312 - val_loss: 0.6563 - val_accuracy: 0.8093\n",
      "Epoch 12/100\n",
      "1250/1250 [==============================] - 11s 9ms/step - loss: 0.1663 - accuracy: 0.9431 - val_loss: 0.7430 - val_accuracy: 0.7889\n",
      "Epoch 13/100\n",
      "1250/1250 [==============================] - 11s 9ms/step - loss: 0.1490 - accuracy: 0.9507 - val_loss: 0.6855 - val_accuracy: 0.8134\n",
      "Epoch 14/100\n",
      "1250/1250 [==============================] - 11s 9ms/step - loss: 0.1275 - accuracy: 0.9561 - val_loss: 0.7601 - val_accuracy: 0.8059\n",
      "Epoch 15/100\n",
      "1250/1250 [==============================] - 11s 9ms/step - loss: 0.1142 - accuracy: 0.9616 - val_loss: 0.7371 - val_accuracy: 0.8082\n",
      "Epoch 15: early stopping\n"
     ]
    }
   ],
   "source": [
    "\n",
    "model.compile(loss = 'categorical_crossentropy',\n",
    "              optimizer = Adam(learning_rate = 0.001),\n",
    "              metrics = ['accuracy'])\n",
    "early_stop = EarlyStopping(monitor = 'val_loss', patience = 10, verbose =1, mode = 'auto')\n",
    "history = model.fit(x_tr, y_tr , batch_size = 32, epochs=100, validation_data=(x_val, y_val), callbacks=[early_stop])"
   ]
  },
  {
   "cell_type": "code",
   "execution_count": 162,
   "metadata": {
    "colab": {
     "base_uri": "https://localhost:8080/",
     "height": 449
    },
    "id": "bbY-5uciAGgP",
    "outputId": "ca52f0fd-4dc5-4812-a2f7-7007bd211bab"
   },
   "outputs": [
    {
     "data": {
      "image/png": "[encoded data removed]",
      "text/plain": [
       "<Figure size 640x480 with 1 Axes>"
      ]
     },
     "metadata": {},
     "output_type": "display_data"
    }
   ],
   "source": [
    "acc = history.history['accuracy']\n",
    "val_acc = history.history['val_accuracy']\n",
    "\n",
    "epochs = range(len(acc))\n",
    "\n",
    "plt.plot(epochs, acc, 'bo', label='Training acc')\n",
    "plt.plot(epochs, val_acc, 'r', label='Validation acc')\n",
    "plt.xlabel('Epochs')\n",
    "plt.ylabel('Accuracy')\n",
    "plt.legend()\n",
    "plt.show()"
   ]
  },
  {
   "cell_type": "code",
   "execution_count": 167,
   "metadata": {
    "colab": {
     "base_uri": "https://localhost:8080/"
    },
    "id": "9rkpu_Z_Bqxb",
    "outputId": "355f481d-bcb1-4d08-9f38-a77b1d1a4d73"
   },
   "outputs": [
    {
     "name": "stdout",
     "output_type": "stream",
     "text": [
      "Model: \"sequential_105\"\n",
      "_________________________________________________________________\n",
      " Layer (type)                Output Shape              Param #   \n",
      "=================================================================\n",
      " conv2d_261 (Conv2D)         (None, 32, 32, 32)        896       \n",
      "                                                                 \n",
      " batch_normalization_111 (Ba  (None, 32, 32, 32)       128       \n",
      " tchNormalization)                                               \n",
      "                                                                 \n",
      " activation_477 (Activation)  (None, 32, 32, 32)       0         \n",
      "                                                                 \n",
      " conv2d_262 (Conv2D)         (None, 32, 32, 32)        9248      \n",
      "                                                                 \n",
      " batch_normalization_112 (Ba  (None, 32, 32, 32)       128       \n",
      " tchNormalization)                                               \n",
      "                                                                 \n",
      " activation_478 (Activation)  (None, 32, 32, 32)       0         \n",
      "                                                                 \n",
      " max_pooling2d_234 (MaxPooli  (None, 16, 16, 32)       0         \n",
      " ng2D)                                                           \n",
      "                                                                 \n",
      " conv2d_263 (Conv2D)         (None, 16, 16, 64)        18496     \n",
      "                                                                 \n",
      " batch_normalization_113 (Ba  (None, 16, 16, 64)       256       \n",
      " tchNormalization)                                               \n",
      "                                                                 \n",
      " activation_479 (Activation)  (None, 16, 16, 64)       0         \n",
      "                                                                 \n",
      " conv2d_264 (Conv2D)         (None, 16, 16, 64)        36928     \n",
      "                                                                 \n",
      " batch_normalization_114 (Ba  (None, 16, 16, 64)       256       \n",
      " tchNormalization)                                               \n",
      "                                                                 \n",
      " activation_480 (Activation)  (None, 16, 16, 64)       0         \n",
      "                                                                 \n",
      " max_pooling2d_235 (MaxPooli  (None, 8, 8, 64)         0         \n",
      " ng2D)                                                           \n",
      "                                                                 \n",
      " conv2d_265 (Conv2D)         (None, 8, 8, 128)         73856     \n",
      "                                                                 \n",
      " batch_normalization_115 (Ba  (None, 8, 8, 128)        512       \n",
      " tchNormalization)                                               \n",
      "                                                                 \n",
      " activation_481 (Activation)  (None, 8, 8, 128)        0         \n",
      "                                                                 \n",
      " conv2d_266 (Conv2D)         (None, 8, 8, 128)         147584    \n",
      "                                                                 \n",
      " batch_normalization_116 (Ba  (None, 8, 8, 128)        512       \n",
      " tchNormalization)                                               \n",
      "                                                                 \n",
      " activation_482 (Activation)  (None, 8, 8, 128)        0         \n",
      "                                                                 \n",
      " max_pooling2d_236 (MaxPooli  (None, 4, 4, 128)        0         \n",
      " ng2D)                                                           \n",
      "                                                                 \n",
      " conv2d_267 (Conv2D)         (None, 4, 4, 256)         295168    \n",
      "                                                                 \n",
      " batch_normalization_117 (Ba  (None, 4, 4, 256)        1024      \n",
      " tchNormalization)                                               \n",
      "                                                                 \n",
      " activation_483 (Activation)  (None, 4, 4, 256)        0         \n",
      "                                                                 \n",
      " conv2d_268 (Conv2D)         (None, 4, 4, 256)         590080    \n",
      "                                                                 \n",
      " batch_normalization_118 (Ba  (None, 4, 4, 256)        1024      \n",
      " tchNormalization)                                               \n",
      "                                                                 \n",
      " activation_484 (Activation)  (None, 4, 4, 256)        0         \n",
      "                                                                 \n",
      " max_pooling2d_237 (MaxPooli  (None, 2, 2, 256)        0         \n",
      " ng2D)                                                           \n",
      "                                                                 \n",
      " flatten_105 (Flatten)       (None, 1024)              0         \n",
      "                                                                 \n",
      " dropout_24 (Dropout)        (None, 1024)              0         \n",
      "                                                                 \n",
      " dense_216 (Dense)           (None, 512)               524800    \n",
      "                                                                 \n",
      " batch_normalization_119 (Ba  (None, 512)              2048      \n",
      " tchNormalization)                                               \n",
      "                                                                 \n",
      " activation_485 (Activation)  (None, 512)              0         \n",
      "                                                                 \n",
      " dropout_25 (Dropout)        (None, 512)               0         \n",
      "                                                                 \n",
      " dense_217 (Dense)           (None, 256)               131328    \n",
      "                                                                 \n",
      " batch_normalization_120 (Ba  (None, 256)              1024      \n",
      " tchNormalization)                                               \n",
      "                                                                 \n",
      " activation_486 (Activation)  (None, 256)              0         \n",
      "                                                                 \n",
      " dense_218 (Dense)           (None, 10)                2570      \n",
      "                                                                 \n",
      " activation_487 (Activation)  (None, 10)               0         \n",
      "                                                                 \n",
      "=================================================================\n",
      "Total params: 1,837,866\n",
      "Trainable params: 1,834,410\n",
      "Non-trainable params: 3,456\n",
      "_________________________________________________________________\n",
      "Epoch 1/15\n",
      "1563/1563 [==============================] - 15s 9ms/step - loss: 1.3482 - accuracy: 0.5123\n",
      "Epoch 2/15\n",
      "1563/1563 [==============================] - 14s 9ms/step - loss: 0.8691 - accuracy: 0.7010\n",
      "Epoch 3/15\n",
      "1563/1563 [==============================] - 14s 9ms/step - loss: 0.6938 - accuracy: 0.7618\n",
      "Epoch 4/15\n",
      "1563/1563 [==============================] - 14s 9ms/step - loss: 0.5812 - accuracy: 0.8024\n",
      "Epoch 5/15\n",
      "1563/1563 [==============================] - 14s 9ms/step - loss: 0.4968 - accuracy: 0.8310\n",
      "Epoch 6/15\n",
      "1563/1563 [==============================] - 14s 9ms/step - loss: 0.4257 - accuracy: 0.8566\n",
      "Epoch 7/15\n",
      "1563/1563 [==============================] - 14s 9ms/step - loss: 0.3597 - accuracy: 0.8769\n",
      "Epoch 8/15\n",
      "1563/1563 [==============================] - 14s 9ms/step - loss: 0.3070 - accuracy: 0.8957\n",
      "Epoch 9/15\n",
      "1563/1563 [==============================] - 14s 9ms/step - loss: 0.2552 - accuracy: 0.9152\n",
      "Epoch 10/15\n",
      "1563/1563 [==============================] - 14s 9ms/step - loss: 0.2183 - accuracy: 0.9264\n",
      "Epoch 11/15\n",
      "1563/1563 [==============================] - 14s 9ms/step - loss: 0.1863 - accuracy: 0.9363\n",
      "Epoch 12/15\n",
      "1563/1563 [==============================] - 15s 10ms/step - loss: 0.1549 - accuracy: 0.9474\n",
      "Epoch 13/15\n",
      "1563/1563 [==============================] - 14s 9ms/step - loss: 0.1385 - accuracy: 0.9520\n",
      "Epoch 14/15\n",
      "1563/1563 [==============================] - 14s 9ms/step - loss: 0.1259 - accuracy: 0.9568\n",
      "Epoch 15/15\n",
      "1563/1563 [==============================] - 14s 9ms/step - loss: 0.1098 - accuracy: 0.9615\n"
     ]
    }
   ],
   "source": [
    "model = model2()\n",
    "\n",
    "model.compile(loss = 'categorical_crossentropy',\n",
    "              optimizer = Adam(learning_rate = 0.001),\n",
    "              metrics = ['accuracy'])\n",
    "history = model.fit(x_train, y_train_vec ,epochs=15)"
   ]
  },
  {
   "cell_type": "code",
   "execution_count": 168,
   "metadata": {
    "colab": {
     "base_uri": "https://localhost:8080/"
    },
    "id": "gY8Xm2UCBxD2",
    "outputId": "5857c150-e0c1-4032-e56d-5787bb74aaa0"
   },
   "outputs": [
    {
     "name": "stdout",
     "output_type": "stream",
     "text": [
      "313/313 [==============================] - 2s 5ms/step - loss: 0.7459 - accuracy: 0.8169\n",
      "loss = 0.7459256052970886\n",
      "accuracy = 0.8169000148773193\n"
     ]
    }
   ],
   "source": [
    "testing_result = model.evaluate(x_test, y_test_vec)\n",
    "print('loss = ' + str(testing_result[0]))\n",
    "print('accuracy = ' + str(testing_result[1]))"
   ]
  },
  {
   "cell_type": "code",
   "execution_count": 169,
   "metadata": {
    "id": "HNqiEAG6DLhe"
   },
   "outputs": [],
   "source": [
    "#AS WE CAN SEE FROM THE ABOVE TWO MODELS, THAT AS WE INCREASE THE NUMBER OF CONVOLUTION LAYER, ADD A DROPOUT LAYER, AND ADD A BN LAYER WE CAN SEE A SIGNIFICANT INCREASE IN THE ACCURACY OF OUR CNN."
   ]
  }
 ],
 "metadata": {
  "accelerator": "GPU",
  "colab": {
   "provenance": []
  },
  "gpuClass": "standard",
  "kernelspec": {
   "display_name": "Python 3 (ipykernel)",
   "language": "python",
   "name": "python3"
  },
  "language_info": {
   "codemirror_mode": {
    "name": "ipython",
    "version": 3
   },
   "file_extension": ".py",
   "mimetype": "text/x-python",
   "name": "python",
   "nbconvert_exporter": "python",
   "pygments_lexer": "ipython3",
   "version": "3.9.12"
  }
 },
 "nbformat": 4,
 "nbformat_minor": 1
}
